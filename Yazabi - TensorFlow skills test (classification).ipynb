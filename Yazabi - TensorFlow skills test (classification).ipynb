{
 "cells": [
  {
   "cell_type": "markdown",
   "metadata": {},
   "source": [
    "# Scratch work for TensorFlow skills test (classification)\n",
    "\n",
    "- Author: Chris Hodapp\n",
    "- Date: 2017-11-15\n",
    "- For SharpestMinds/Yazabi\n",
    "\n",
    "## Links:\n",
    "\n",
    "- [human-activity-recognition-using-smartphones (GitHub)](https://github.com/pdelboca/human-activity-recognition-using-smartphones)\n",
    "- [Data source (60 MB ZIP)](https://d396qusza40orc.cloudfront.net/getdata%2Fprojectfiles%2FUCI%20HAR%20Dataset.zip)\n",
    "- [Human Activity Recognition Using Smartphones (UCI)](http://archive.ics.uci.edu/ml/datasets/Human+Activity+Recognition+Using+Smartphones)\n",
    "- [MLconf 2015 Seattle: When do I use zero-mean/unit variance normalization vs unit L1/L2 normalization?\n",
    "](https://www.quora.com/MLconf-2015-Seattle-When-do-I-use-zero-mean-unit-variance-normalization-vs-unit-L1-L2-normalization)\n",
    "\n",
    "### In TensorFlow section:\n",
    "\n",
    "- https://www.tensorflow.org/tutorials/layers\n",
    "- https://www.tensorflow.org/tutorials/linear\n",
    "- https://www.tensorflow.org/extend/estimators\n",
    "- https://www.tensorflow.org/programmers_guide/estimators\n",
    "- http://ufldl.stanford.edu/wiki/index.php/Softmax_Regression\n",
    "- https://www.tensorflow.org/api_docs/python/tf/estimator/Estimator#train\n",
    "  - This for some reason is completely buried\n",
    "- https://www.reddit.com/r/tensorflow/comments/6tl07p/problems_creating_a_sessionrunhook_for_early/\n",
    "- https://medium.com/onfido-tech/higher-level-apis-in-tensorflow-67bfb602e6c0\n",
    "- https://terrytangyuan.github.io/data/papers/tf-estimators-kdd-paper.pdf\n",
    "\n",
    "#### Notes\n",
    "- It looks like I could use a [SessionRunHook](https://www.tensorflow.org/api_docs/python/tf/train/SessionRunHook)\n",
    "  - I don't know how to get at the appropriate Estimator to evaluate accuracy. The docs don't really explain much on things like SessionRunContext.\n",
    "- Can I use eval_metric_ops somehow?\n",
    "- tf.summary.FileWriter?\n",
    "  - I can use this, but the problem is that I don't know how to get to validation accuracy\n",
    "- [monitors.replace_monitors_with_hooks](https://stackoverflow.com/questions/44793703/replace-validation-monitors-with-tf-train-sessionrunhook-when-using-estimators/46230705#46230705) and ValidationMonitor?\n",
    "  - This isn't working and I don't know why but I suspect it's because the calls are deprecated"
   ]
  },
  {
   "cell_type": "markdown",
   "metadata": {},
   "source": [
    "# Data Exploration"
   ]
  },
  {
   "cell_type": "code",
   "execution_count": 1,
   "metadata": {
    "collapsed": true
   },
   "outputs": [],
   "source": [
    "import os"
   ]
  },
  {
   "cell_type": "code",
   "execution_count": 2,
   "metadata": {
    "collapsed": true
   },
   "outputs": [],
   "source": [
    "import numpy as np\n",
    "import pandas as pd\n",
    "import matplotlib\n",
    "import matplotlib.pyplot as plt\n",
    "\n",
    "import sklearn.decomposition\n",
    "import sklearn.externals\n",
    "import sklearn.manifold\n",
    "import sklearn.preprocessing"
   ]
  },
  {
   "cell_type": "code",
   "execution_count": 3,
   "metadata": {},
   "outputs": [
    {
     "data": {
      "text/plain": [
       "['tBodyAcc_mean_X',\n",
       " 'tBodyAcc_mean_Y',\n",
       " 'tBodyAcc_mean_Z',\n",
       " 'tBodyAcc_std_X',\n",
       " 'tBodyAcc_std_Y',\n",
       " 'tBodyAcc_std_Z',\n",
       " 'tBodyAcc_mad_X',\n",
       " 'tBodyAcc_mad_Y',\n",
       " 'tBodyAcc_mad_Z',\n",
       " 'tBodyAcc_max_X',\n",
       " 'tBodyAcc_max_Y',\n",
       " 'tBodyAcc_max_Z',\n",
       " 'tBodyAcc_min_X',\n",
       " 'tBodyAcc_min_Y',\n",
       " 'tBodyAcc_min_Z',\n",
       " 'tBodyAcc_sma',\n",
       " 'tBodyAcc_energy_X',\n",
       " 'tBodyAcc_energy_Y',\n",
       " 'tBodyAcc_energy_Z',\n",
       " 'tBodyAcc_iqr_X',\n",
       " 'tBodyAcc_iqr_Y',\n",
       " 'tBodyAcc_iqr_Z',\n",
       " 'tBodyAcc_entropy_X',\n",
       " 'tBodyAcc_entropy_Y',\n",
       " 'tBodyAcc_entropy_Z',\n",
       " 'tBodyAcc_arCoeff_X_1',\n",
       " 'tBodyAcc_arCoeff_X_2',\n",
       " 'tBodyAcc_arCoeff_X_3',\n",
       " 'tBodyAcc_arCoeff_X_4',\n",
       " 'tBodyAcc_arCoeff_Y_1',\n",
       " 'tBodyAcc_arCoeff_Y_2',\n",
       " 'tBodyAcc_arCoeff_Y_3',\n",
       " 'tBodyAcc_arCoeff_Y_4',\n",
       " 'tBodyAcc_arCoeff_Z_1',\n",
       " 'tBodyAcc_arCoeff_Z_2',\n",
       " 'tBodyAcc_arCoeff_Z_3',\n",
       " 'tBodyAcc_arCoeff_Z_4',\n",
       " 'tBodyAcc_correlation_X_Y',\n",
       " 'tBodyAcc_correlation_X_Z',\n",
       " 'tBodyAcc_correlation_Y_Z',\n",
       " 'tGravityAcc_mean_X',\n",
       " 'tGravityAcc_mean_Y',\n",
       " 'tGravityAcc_mean_Z',\n",
       " 'tGravityAcc_std_X',\n",
       " 'tGravityAcc_std_Y',\n",
       " 'tGravityAcc_std_Z',\n",
       " 'tGravityAcc_mad_X',\n",
       " 'tGravityAcc_mad_Y',\n",
       " 'tGravityAcc_mad_Z',\n",
       " 'tGravityAcc_max_X',\n",
       " 'tGravityAcc_max_Y',\n",
       " 'tGravityAcc_max_Z',\n",
       " 'tGravityAcc_min_X',\n",
       " 'tGravityAcc_min_Y',\n",
       " 'tGravityAcc_min_Z',\n",
       " 'tGravityAcc_sma',\n",
       " 'tGravityAcc_energy_X',\n",
       " 'tGravityAcc_energy_Y',\n",
       " 'tGravityAcc_energy_Z',\n",
       " 'tGravityAcc_iqr_X',\n",
       " 'tGravityAcc_iqr_Y',\n",
       " 'tGravityAcc_iqr_Z',\n",
       " 'tGravityAcc_entropy_X',\n",
       " 'tGravityAcc_entropy_Y',\n",
       " 'tGravityAcc_entropy_Z',\n",
       " 'tGravityAcc_arCoeff_X_1',\n",
       " 'tGravityAcc_arCoeff_X_2',\n",
       " 'tGravityAcc_arCoeff_X_3',\n",
       " 'tGravityAcc_arCoeff_X_4',\n",
       " 'tGravityAcc_arCoeff_Y_1',\n",
       " 'tGravityAcc_arCoeff_Y_2',\n",
       " 'tGravityAcc_arCoeff_Y_3',\n",
       " 'tGravityAcc_arCoeff_Y_4',\n",
       " 'tGravityAcc_arCoeff_Z_1',\n",
       " 'tGravityAcc_arCoeff_Z_2',\n",
       " 'tGravityAcc_arCoeff_Z_3',\n",
       " 'tGravityAcc_arCoeff_Z_4',\n",
       " 'tGravityAcc_correlation_X_Y',\n",
       " 'tGravityAcc_correlation_X_Z',\n",
       " 'tGravityAcc_correlation_Y_Z',\n",
       " 'tBodyAccJerk_mean_X',\n",
       " 'tBodyAccJerk_mean_Y',\n",
       " 'tBodyAccJerk_mean_Z',\n",
       " 'tBodyAccJerk_std_X',\n",
       " 'tBodyAccJerk_std_Y',\n",
       " 'tBodyAccJerk_std_Z',\n",
       " 'tBodyAccJerk_mad_X',\n",
       " 'tBodyAccJerk_mad_Y',\n",
       " 'tBodyAccJerk_mad_Z',\n",
       " 'tBodyAccJerk_max_X',\n",
       " 'tBodyAccJerk_max_Y',\n",
       " 'tBodyAccJerk_max_Z',\n",
       " 'tBodyAccJerk_min_X',\n",
       " 'tBodyAccJerk_min_Y',\n",
       " 'tBodyAccJerk_min_Z',\n",
       " 'tBodyAccJerk_sma',\n",
       " 'tBodyAccJerk_energy_X',\n",
       " 'tBodyAccJerk_energy_Y',\n",
       " 'tBodyAccJerk_energy_Z',\n",
       " 'tBodyAccJerk_iqr_X',\n",
       " 'tBodyAccJerk_iqr_Y',\n",
       " 'tBodyAccJerk_iqr_Z',\n",
       " 'tBodyAccJerk_entropy_X',\n",
       " 'tBodyAccJerk_entropy_Y',\n",
       " 'tBodyAccJerk_entropy_Z',\n",
       " 'tBodyAccJerk_arCoeff_X_1',\n",
       " 'tBodyAccJerk_arCoeff_X_2',\n",
       " 'tBodyAccJerk_arCoeff_X_3',\n",
       " 'tBodyAccJerk_arCoeff_X_4',\n",
       " 'tBodyAccJerk_arCoeff_Y_1',\n",
       " 'tBodyAccJerk_arCoeff_Y_2',\n",
       " 'tBodyAccJerk_arCoeff_Y_3',\n",
       " 'tBodyAccJerk_arCoeff_Y_4',\n",
       " 'tBodyAccJerk_arCoeff_Z_1',\n",
       " 'tBodyAccJerk_arCoeff_Z_2',\n",
       " 'tBodyAccJerk_arCoeff_Z_3',\n",
       " 'tBodyAccJerk_arCoeff_Z_4',\n",
       " 'tBodyAccJerk_correlation_X_Y',\n",
       " 'tBodyAccJerk_correlation_X_Z',\n",
       " 'tBodyAccJerk_correlation_Y_Z',\n",
       " 'tBodyGyro_mean_X',\n",
       " 'tBodyGyro_mean_Y',\n",
       " 'tBodyGyro_mean_Z',\n",
       " 'tBodyGyro_std_X',\n",
       " 'tBodyGyro_std_Y',\n",
       " 'tBodyGyro_std_Z',\n",
       " 'tBodyGyro_mad_X',\n",
       " 'tBodyGyro_mad_Y',\n",
       " 'tBodyGyro_mad_Z',\n",
       " 'tBodyGyro_max_X',\n",
       " 'tBodyGyro_max_Y',\n",
       " 'tBodyGyro_max_Z',\n",
       " 'tBodyGyro_min_X',\n",
       " 'tBodyGyro_min_Y',\n",
       " 'tBodyGyro_min_Z',\n",
       " 'tBodyGyro_sma',\n",
       " 'tBodyGyro_energy_X',\n",
       " 'tBodyGyro_energy_Y',\n",
       " 'tBodyGyro_energy_Z',\n",
       " 'tBodyGyro_iqr_X',\n",
       " 'tBodyGyro_iqr_Y',\n",
       " 'tBodyGyro_iqr_Z',\n",
       " 'tBodyGyro_entropy_X',\n",
       " 'tBodyGyro_entropy_Y',\n",
       " 'tBodyGyro_entropy_Z',\n",
       " 'tBodyGyro_arCoeff_X_1',\n",
       " 'tBodyGyro_arCoeff_X_2',\n",
       " 'tBodyGyro_arCoeff_X_3',\n",
       " 'tBodyGyro_arCoeff_X_4',\n",
       " 'tBodyGyro_arCoeff_Y_1',\n",
       " 'tBodyGyro_arCoeff_Y_2',\n",
       " 'tBodyGyro_arCoeff_Y_3',\n",
       " 'tBodyGyro_arCoeff_Y_4',\n",
       " 'tBodyGyro_arCoeff_Z_1',\n",
       " 'tBodyGyro_arCoeff_Z_2',\n",
       " 'tBodyGyro_arCoeff_Z_3',\n",
       " 'tBodyGyro_arCoeff_Z_4',\n",
       " 'tBodyGyro_correlation_X_Y',\n",
       " 'tBodyGyro_correlation_X_Z',\n",
       " 'tBodyGyro_correlation_Y_Z',\n",
       " 'tBodyGyroJerk_mean_X',\n",
       " 'tBodyGyroJerk_mean_Y',\n",
       " 'tBodyGyroJerk_mean_Z',\n",
       " 'tBodyGyroJerk_std_X',\n",
       " 'tBodyGyroJerk_std_Y',\n",
       " 'tBodyGyroJerk_std_Z',\n",
       " 'tBodyGyroJerk_mad_X',\n",
       " 'tBodyGyroJerk_mad_Y',\n",
       " 'tBodyGyroJerk_mad_Z',\n",
       " 'tBodyGyroJerk_max_X',\n",
       " 'tBodyGyroJerk_max_Y',\n",
       " 'tBodyGyroJerk_max_Z',\n",
       " 'tBodyGyroJerk_min_X',\n",
       " 'tBodyGyroJerk_min_Y',\n",
       " 'tBodyGyroJerk_min_Z',\n",
       " 'tBodyGyroJerk_sma',\n",
       " 'tBodyGyroJerk_energy_X',\n",
       " 'tBodyGyroJerk_energy_Y',\n",
       " 'tBodyGyroJerk_energy_Z',\n",
       " 'tBodyGyroJerk_iqr_X',\n",
       " 'tBodyGyroJerk_iqr_Y',\n",
       " 'tBodyGyroJerk_iqr_Z',\n",
       " 'tBodyGyroJerk_entropy_X',\n",
       " 'tBodyGyroJerk_entropy_Y',\n",
       " 'tBodyGyroJerk_entropy_Z',\n",
       " 'tBodyGyroJerk_arCoeff_X_1',\n",
       " 'tBodyGyroJerk_arCoeff_X_2',\n",
       " 'tBodyGyroJerk_arCoeff_X_3',\n",
       " 'tBodyGyroJerk_arCoeff_X_4',\n",
       " 'tBodyGyroJerk_arCoeff_Y_1',\n",
       " 'tBodyGyroJerk_arCoeff_Y_2',\n",
       " 'tBodyGyroJerk_arCoeff_Y_3',\n",
       " 'tBodyGyroJerk_arCoeff_Y_4',\n",
       " 'tBodyGyroJerk_arCoeff_Z_1',\n",
       " 'tBodyGyroJerk_arCoeff_Z_2',\n",
       " 'tBodyGyroJerk_arCoeff_Z_3',\n",
       " 'tBodyGyroJerk_arCoeff_Z_4',\n",
       " 'tBodyGyroJerk_correlation_X_Y',\n",
       " 'tBodyGyroJerk_correlation_X_Z',\n",
       " 'tBodyGyroJerk_correlation_Y_Z',\n",
       " 'tBodyAccMag_mean',\n",
       " 'tBodyAccMag_std',\n",
       " 'tBodyAccMag_mad',\n",
       " 'tBodyAccMag_max',\n",
       " 'tBodyAccMag_min',\n",
       " 'tBodyAccMag_sma',\n",
       " 'tBodyAccMag_energy',\n",
       " 'tBodyAccMag_iqr',\n",
       " 'tBodyAccMag_entropy',\n",
       " 'tBodyAccMag_arCoeff1',\n",
       " 'tBodyAccMag_arCoeff2',\n",
       " 'tBodyAccMag_arCoeff3',\n",
       " 'tBodyAccMag_arCoeff4',\n",
       " 'tGravityAccMag_mean',\n",
       " 'tGravityAccMag_std',\n",
       " 'tGravityAccMag_mad',\n",
       " 'tGravityAccMag_max',\n",
       " 'tGravityAccMag_min',\n",
       " 'tGravityAccMag_sma',\n",
       " 'tGravityAccMag_energy',\n",
       " 'tGravityAccMag_iqr',\n",
       " 'tGravityAccMag_entropy',\n",
       " 'tGravityAccMag_arCoeff1',\n",
       " 'tGravityAccMag_arCoeff2',\n",
       " 'tGravityAccMag_arCoeff3',\n",
       " 'tGravityAccMag_arCoeff4',\n",
       " 'tBodyAccJerkMag_mean',\n",
       " 'tBodyAccJerkMag_std',\n",
       " 'tBodyAccJerkMag_mad',\n",
       " 'tBodyAccJerkMag_max',\n",
       " 'tBodyAccJerkMag_min',\n",
       " 'tBodyAccJerkMag_sma',\n",
       " 'tBodyAccJerkMag_energy',\n",
       " 'tBodyAccJerkMag_iqr',\n",
       " 'tBodyAccJerkMag_entropy',\n",
       " 'tBodyAccJerkMag_arCoeff1',\n",
       " 'tBodyAccJerkMag_arCoeff2',\n",
       " 'tBodyAccJerkMag_arCoeff3',\n",
       " 'tBodyAccJerkMag_arCoeff4',\n",
       " 'tBodyGyroMag_mean',\n",
       " 'tBodyGyroMag_std',\n",
       " 'tBodyGyroMag_mad',\n",
       " 'tBodyGyroMag_max',\n",
       " 'tBodyGyroMag_min',\n",
       " 'tBodyGyroMag_sma',\n",
       " 'tBodyGyroMag_energy',\n",
       " 'tBodyGyroMag_iqr',\n",
       " 'tBodyGyroMag_entropy',\n",
       " 'tBodyGyroMag_arCoeff1',\n",
       " 'tBodyGyroMag_arCoeff2',\n",
       " 'tBodyGyroMag_arCoeff3',\n",
       " 'tBodyGyroMag_arCoeff4',\n",
       " 'tBodyGyroJerkMag_mean',\n",
       " 'tBodyGyroJerkMag_std',\n",
       " 'tBodyGyroJerkMag_mad',\n",
       " 'tBodyGyroJerkMag_max',\n",
       " 'tBodyGyroJerkMag_min',\n",
       " 'tBodyGyroJerkMag_sma',\n",
       " 'tBodyGyroJerkMag_energy',\n",
       " 'tBodyGyroJerkMag_iqr',\n",
       " 'tBodyGyroJerkMag_entropy',\n",
       " 'tBodyGyroJerkMag_arCoeff1',\n",
       " 'tBodyGyroJerkMag_arCoeff2',\n",
       " 'tBodyGyroJerkMag_arCoeff3',\n",
       " 'tBodyGyroJerkMag_arCoeff4',\n",
       " 'fBodyAcc_mean_X',\n",
       " 'fBodyAcc_mean_Y',\n",
       " 'fBodyAcc_mean_Z',\n",
       " 'fBodyAcc_std_X',\n",
       " 'fBodyAcc_std_Y',\n",
       " 'fBodyAcc_std_Z',\n",
       " 'fBodyAcc_mad_X',\n",
       " 'fBodyAcc_mad_Y',\n",
       " 'fBodyAcc_mad_Z',\n",
       " 'fBodyAcc_max_X',\n",
       " 'fBodyAcc_max_Y',\n",
       " 'fBodyAcc_max_Z',\n",
       " 'fBodyAcc_min_X',\n",
       " 'fBodyAcc_min_Y',\n",
       " 'fBodyAcc_min_Z',\n",
       " 'fBodyAcc_sma',\n",
       " 'fBodyAcc_energy_X',\n",
       " 'fBodyAcc_energy_Y',\n",
       " 'fBodyAcc_energy_Z',\n",
       " 'fBodyAcc_iqr_X',\n",
       " 'fBodyAcc_iqr_Y',\n",
       " 'fBodyAcc_iqr_Z',\n",
       " 'fBodyAcc_entropy_X',\n",
       " 'fBodyAcc_entropy_Y',\n",
       " 'fBodyAcc_entropy_Z',\n",
       " 'fBodyAcc_maxInds_X',\n",
       " 'fBodyAcc_maxInds_Y',\n",
       " 'fBodyAcc_maxInds_Z',\n",
       " 'fBodyAcc_meanFreq_X',\n",
       " 'fBodyAcc_meanFreq_Y',\n",
       " 'fBodyAcc_meanFreq_Z',\n",
       " 'fBodyAcc_skewness_X',\n",
       " 'fBodyAcc_kurtosis_X',\n",
       " 'fBodyAcc_skewness_Y',\n",
       " 'fBodyAcc_kurtosis_Y',\n",
       " 'fBodyAcc_skewness_Z',\n",
       " 'fBodyAcc_kurtosis_Z',\n",
       " 'fBodyAcc_bandsEnergy_1_8',\n",
       " 'fBodyAcc_bandsEnergy_9_16',\n",
       " 'fBodyAcc_bandsEnergy_17_24',\n",
       " 'fBodyAcc_bandsEnergy_25_32',\n",
       " 'fBodyAcc_bandsEnergy_33_40',\n",
       " 'fBodyAcc_bandsEnergy_41_48',\n",
       " 'fBodyAcc_bandsEnergy_49_56',\n",
       " 'fBodyAcc_bandsEnergy_57_64',\n",
       " 'fBodyAcc_bandsEnergy_1_16',\n",
       " 'fBodyAcc_bandsEnergy_17_32',\n",
       " 'fBodyAcc_bandsEnergy_33_48',\n",
       " 'fBodyAcc_bandsEnergy_49_64',\n",
       " 'fBodyAcc_bandsEnergy_1_24',\n",
       " 'fBodyAcc_bandsEnergy_25_48',\n",
       " 'fBodyAcc_bandsEnergy_1_8',\n",
       " 'fBodyAcc_bandsEnergy_9_16',\n",
       " 'fBodyAcc_bandsEnergy_17_24',\n",
       " 'fBodyAcc_bandsEnergy_25_32',\n",
       " 'fBodyAcc_bandsEnergy_33_40',\n",
       " 'fBodyAcc_bandsEnergy_41_48',\n",
       " 'fBodyAcc_bandsEnergy_49_56',\n",
       " 'fBodyAcc_bandsEnergy_57_64',\n",
       " 'fBodyAcc_bandsEnergy_1_16',\n",
       " 'fBodyAcc_bandsEnergy_17_32',\n",
       " 'fBodyAcc_bandsEnergy_33_48',\n",
       " 'fBodyAcc_bandsEnergy_49_64',\n",
       " 'fBodyAcc_bandsEnergy_1_24',\n",
       " 'fBodyAcc_bandsEnergy_25_48',\n",
       " 'fBodyAcc_bandsEnergy_1_8',\n",
       " 'fBodyAcc_bandsEnergy_9_16',\n",
       " 'fBodyAcc_bandsEnergy_17_24',\n",
       " 'fBodyAcc_bandsEnergy_25_32',\n",
       " 'fBodyAcc_bandsEnergy_33_40',\n",
       " 'fBodyAcc_bandsEnergy_41_48',\n",
       " 'fBodyAcc_bandsEnergy_49_56',\n",
       " 'fBodyAcc_bandsEnergy_57_64',\n",
       " 'fBodyAcc_bandsEnergy_1_16',\n",
       " 'fBodyAcc_bandsEnergy_17_32',\n",
       " 'fBodyAcc_bandsEnergy_33_48',\n",
       " 'fBodyAcc_bandsEnergy_49_64',\n",
       " 'fBodyAcc_bandsEnergy_1_24',\n",
       " 'fBodyAcc_bandsEnergy_25_48',\n",
       " 'fBodyAccJerk_mean_X',\n",
       " 'fBodyAccJerk_mean_Y',\n",
       " 'fBodyAccJerk_mean_Z',\n",
       " 'fBodyAccJerk_std_X',\n",
       " 'fBodyAccJerk_std_Y',\n",
       " 'fBodyAccJerk_std_Z',\n",
       " 'fBodyAccJerk_mad_X',\n",
       " 'fBodyAccJerk_mad_Y',\n",
       " 'fBodyAccJerk_mad_Z',\n",
       " 'fBodyAccJerk_max_X',\n",
       " 'fBodyAccJerk_max_Y',\n",
       " 'fBodyAccJerk_max_Z',\n",
       " 'fBodyAccJerk_min_X',\n",
       " 'fBodyAccJerk_min_Y',\n",
       " 'fBodyAccJerk_min_Z',\n",
       " 'fBodyAccJerk_sma',\n",
       " 'fBodyAccJerk_energy_X',\n",
       " 'fBodyAccJerk_energy_Y',\n",
       " 'fBodyAccJerk_energy_Z',\n",
       " 'fBodyAccJerk_iqr_X',\n",
       " 'fBodyAccJerk_iqr_Y',\n",
       " 'fBodyAccJerk_iqr_Z',\n",
       " 'fBodyAccJerk_entropy_X',\n",
       " 'fBodyAccJerk_entropy_Y',\n",
       " 'fBodyAccJerk_entropy_Z',\n",
       " 'fBodyAccJerk_maxInds_X',\n",
       " 'fBodyAccJerk_maxInds_Y',\n",
       " 'fBodyAccJerk_maxInds_Z',\n",
       " 'fBodyAccJerk_meanFreq_X',\n",
       " 'fBodyAccJerk_meanFreq_Y',\n",
       " 'fBodyAccJerk_meanFreq_Z',\n",
       " 'fBodyAccJerk_skewness_X',\n",
       " 'fBodyAccJerk_kurtosis_X',\n",
       " 'fBodyAccJerk_skewness_Y',\n",
       " 'fBodyAccJerk_kurtosis_Y',\n",
       " 'fBodyAccJerk_skewness_Z',\n",
       " 'fBodyAccJerk_kurtosis_Z',\n",
       " 'fBodyAccJerk_bandsEnergy_1_8',\n",
       " 'fBodyAccJerk_bandsEnergy_9_16',\n",
       " 'fBodyAccJerk_bandsEnergy_17_24',\n",
       " 'fBodyAccJerk_bandsEnergy_25_32',\n",
       " 'fBodyAccJerk_bandsEnergy_33_40',\n",
       " 'fBodyAccJerk_bandsEnergy_41_48',\n",
       " 'fBodyAccJerk_bandsEnergy_49_56',\n",
       " 'fBodyAccJerk_bandsEnergy_57_64',\n",
       " 'fBodyAccJerk_bandsEnergy_1_16',\n",
       " 'fBodyAccJerk_bandsEnergy_17_32',\n",
       " 'fBodyAccJerk_bandsEnergy_33_48',\n",
       " 'fBodyAccJerk_bandsEnergy_49_64',\n",
       " 'fBodyAccJerk_bandsEnergy_1_24',\n",
       " 'fBodyAccJerk_bandsEnergy_25_48',\n",
       " 'fBodyAccJerk_bandsEnergy_1_8',\n",
       " 'fBodyAccJerk_bandsEnergy_9_16',\n",
       " 'fBodyAccJerk_bandsEnergy_17_24',\n",
       " 'fBodyAccJerk_bandsEnergy_25_32',\n",
       " 'fBodyAccJerk_bandsEnergy_33_40',\n",
       " 'fBodyAccJerk_bandsEnergy_41_48',\n",
       " 'fBodyAccJerk_bandsEnergy_49_56',\n",
       " 'fBodyAccJerk_bandsEnergy_57_64',\n",
       " 'fBodyAccJerk_bandsEnergy_1_16',\n",
       " 'fBodyAccJerk_bandsEnergy_17_32',\n",
       " 'fBodyAccJerk_bandsEnergy_33_48',\n",
       " 'fBodyAccJerk_bandsEnergy_49_64',\n",
       " 'fBodyAccJerk_bandsEnergy_1_24',\n",
       " 'fBodyAccJerk_bandsEnergy_25_48',\n",
       " 'fBodyAccJerk_bandsEnergy_1_8',\n",
       " 'fBodyAccJerk_bandsEnergy_9_16',\n",
       " 'fBodyAccJerk_bandsEnergy_17_24',\n",
       " 'fBodyAccJerk_bandsEnergy_25_32',\n",
       " 'fBodyAccJerk_bandsEnergy_33_40',\n",
       " 'fBodyAccJerk_bandsEnergy_41_48',\n",
       " 'fBodyAccJerk_bandsEnergy_49_56',\n",
       " 'fBodyAccJerk_bandsEnergy_57_64',\n",
       " 'fBodyAccJerk_bandsEnergy_1_16',\n",
       " 'fBodyAccJerk_bandsEnergy_17_32',\n",
       " 'fBodyAccJerk_bandsEnergy_33_48',\n",
       " 'fBodyAccJerk_bandsEnergy_49_64',\n",
       " 'fBodyAccJerk_bandsEnergy_1_24',\n",
       " 'fBodyAccJerk_bandsEnergy_25_48',\n",
       " 'fBodyGyro_mean_X',\n",
       " 'fBodyGyro_mean_Y',\n",
       " 'fBodyGyro_mean_Z',\n",
       " 'fBodyGyro_std_X',\n",
       " 'fBodyGyro_std_Y',\n",
       " 'fBodyGyro_std_Z',\n",
       " 'fBodyGyro_mad_X',\n",
       " 'fBodyGyro_mad_Y',\n",
       " 'fBodyGyro_mad_Z',\n",
       " 'fBodyGyro_max_X',\n",
       " 'fBodyGyro_max_Y',\n",
       " 'fBodyGyro_max_Z',\n",
       " 'fBodyGyro_min_X',\n",
       " 'fBodyGyro_min_Y',\n",
       " 'fBodyGyro_min_Z',\n",
       " 'fBodyGyro_sma',\n",
       " 'fBodyGyro_energy_X',\n",
       " 'fBodyGyro_energy_Y',\n",
       " 'fBodyGyro_energy_Z',\n",
       " 'fBodyGyro_iqr_X',\n",
       " 'fBodyGyro_iqr_Y',\n",
       " 'fBodyGyro_iqr_Z',\n",
       " 'fBodyGyro_entropy_X',\n",
       " 'fBodyGyro_entropy_Y',\n",
       " 'fBodyGyro_entropy_Z',\n",
       " 'fBodyGyro_maxInds_X',\n",
       " 'fBodyGyro_maxInds_Y',\n",
       " 'fBodyGyro_maxInds_Z',\n",
       " 'fBodyGyro_meanFreq_X',\n",
       " 'fBodyGyro_meanFreq_Y',\n",
       " 'fBodyGyro_meanFreq_Z',\n",
       " 'fBodyGyro_skewness_X',\n",
       " 'fBodyGyro_kurtosis_X',\n",
       " 'fBodyGyro_skewness_Y',\n",
       " 'fBodyGyro_kurtosis_Y',\n",
       " 'fBodyGyro_skewness_Z',\n",
       " 'fBodyGyro_kurtosis_Z',\n",
       " 'fBodyGyro_bandsEnergy_1_8',\n",
       " 'fBodyGyro_bandsEnergy_9_16',\n",
       " 'fBodyGyro_bandsEnergy_17_24',\n",
       " 'fBodyGyro_bandsEnergy_25_32',\n",
       " 'fBodyGyro_bandsEnergy_33_40',\n",
       " 'fBodyGyro_bandsEnergy_41_48',\n",
       " 'fBodyGyro_bandsEnergy_49_56',\n",
       " 'fBodyGyro_bandsEnergy_57_64',\n",
       " 'fBodyGyro_bandsEnergy_1_16',\n",
       " 'fBodyGyro_bandsEnergy_17_32',\n",
       " 'fBodyGyro_bandsEnergy_33_48',\n",
       " 'fBodyGyro_bandsEnergy_49_64',\n",
       " 'fBodyGyro_bandsEnergy_1_24',\n",
       " 'fBodyGyro_bandsEnergy_25_48',\n",
       " 'fBodyGyro_bandsEnergy_1_8',\n",
       " 'fBodyGyro_bandsEnergy_9_16',\n",
       " 'fBodyGyro_bandsEnergy_17_24',\n",
       " 'fBodyGyro_bandsEnergy_25_32',\n",
       " 'fBodyGyro_bandsEnergy_33_40',\n",
       " 'fBodyGyro_bandsEnergy_41_48',\n",
       " 'fBodyGyro_bandsEnergy_49_56',\n",
       " 'fBodyGyro_bandsEnergy_57_64',\n",
       " 'fBodyGyro_bandsEnergy_1_16',\n",
       " 'fBodyGyro_bandsEnergy_17_32',\n",
       " 'fBodyGyro_bandsEnergy_33_48',\n",
       " 'fBodyGyro_bandsEnergy_49_64',\n",
       " 'fBodyGyro_bandsEnergy_1_24',\n",
       " 'fBodyGyro_bandsEnergy_25_48',\n",
       " 'fBodyGyro_bandsEnergy_1_8',\n",
       " 'fBodyGyro_bandsEnergy_9_16',\n",
       " 'fBodyGyro_bandsEnergy_17_24',\n",
       " 'fBodyGyro_bandsEnergy_25_32',\n",
       " 'fBodyGyro_bandsEnergy_33_40',\n",
       " 'fBodyGyro_bandsEnergy_41_48',\n",
       " 'fBodyGyro_bandsEnergy_49_56',\n",
       " 'fBodyGyro_bandsEnergy_57_64',\n",
       " 'fBodyGyro_bandsEnergy_1_16',\n",
       " 'fBodyGyro_bandsEnergy_17_32',\n",
       " 'fBodyGyro_bandsEnergy_33_48',\n",
       " 'fBodyGyro_bandsEnergy_49_64',\n",
       " 'fBodyGyro_bandsEnergy_1_24',\n",
       " 'fBodyGyro_bandsEnergy_25_48',\n",
       " 'fBodyAccMag_mean',\n",
       " 'fBodyAccMag_std',\n",
       " 'fBodyAccMag_mad',\n",
       " 'fBodyAccMag_max',\n",
       " 'fBodyAccMag_min',\n",
       " 'fBodyAccMag_sma',\n",
       " 'fBodyAccMag_energy',\n",
       " 'fBodyAccMag_iqr',\n",
       " 'fBodyAccMag_entropy',\n",
       " 'fBodyAccMag_maxInds',\n",
       " 'fBodyAccMag_meanFreq',\n",
       " 'fBodyAccMag_skewness',\n",
       " 'fBodyAccMag_kurtosis',\n",
       " 'fBodyBodyAccJerkMag_mean',\n",
       " 'fBodyBodyAccJerkMag_std',\n",
       " 'fBodyBodyAccJerkMag_mad',\n",
       " 'fBodyBodyAccJerkMag_max',\n",
       " 'fBodyBodyAccJerkMag_min',\n",
       " 'fBodyBodyAccJerkMag_sma',\n",
       " 'fBodyBodyAccJerkMag_energy',\n",
       " 'fBodyBodyAccJerkMag_iqr',\n",
       " 'fBodyBodyAccJerkMag_entropy',\n",
       " 'fBodyBodyAccJerkMag_maxInds',\n",
       " 'fBodyBodyAccJerkMag_meanFreq',\n",
       " 'fBodyBodyAccJerkMag_skewness',\n",
       " 'fBodyBodyAccJerkMag_kurtosis',\n",
       " 'fBodyBodyGyroMag_mean',\n",
       " 'fBodyBodyGyroMag_std',\n",
       " 'fBodyBodyGyroMag_mad',\n",
       " 'fBodyBodyGyroMag_max',\n",
       " 'fBodyBodyGyroMag_min',\n",
       " 'fBodyBodyGyroMag_sma',\n",
       " 'fBodyBodyGyroMag_energy',\n",
       " 'fBodyBodyGyroMag_iqr',\n",
       " 'fBodyBodyGyroMag_entropy',\n",
       " 'fBodyBodyGyroMag_maxInds',\n",
       " 'fBodyBodyGyroMag_meanFreq',\n",
       " 'fBodyBodyGyroMag_skewness',\n",
       " 'fBodyBodyGyroMag_kurtosis',\n",
       " 'fBodyBodyGyroJerkMag_mean',\n",
       " 'fBodyBodyGyroJerkMag_std',\n",
       " 'fBodyBodyGyroJerkMag_mad',\n",
       " 'fBodyBodyGyroJerkMag_max',\n",
       " 'fBodyBodyGyroJerkMag_min',\n",
       " 'fBodyBodyGyroJerkMag_sma',\n",
       " 'fBodyBodyGyroJerkMag_energy',\n",
       " 'fBodyBodyGyroJerkMag_iqr',\n",
       " 'fBodyBodyGyroJerkMag_entropy',\n",
       " 'fBodyBodyGyroJerkMag_maxInds',\n",
       " 'fBodyBodyGyroJerkMag_meanFreq',\n",
       " 'fBodyBodyGyroJerkMag_skewness',\n",
       " 'fBodyBodyGyroJerkMag_kurtosis',\n",
       " 'angletBodyAccMean_gravity',\n",
       " 'angletBodyAccJerkMean_gravityMean',\n",
       " 'angletBodyGyroMean_gravityMean',\n",
       " 'angletBodyGyroJerkMean_gravityMean',\n",
       " 'angleX_gravityMean',\n",
       " 'angleY_gravityMean',\n",
       " 'angleZ_gravityMean']"
      ]
     },
     "execution_count": 3,
     "metadata": {},
     "output_type": "execute_result"
    }
   ],
   "source": [
    "# I really don't feel like copying these into the document, so\n",
    "# instead load them from the included file:\n",
    "feature_list = pd.read_csv(\"UCI HAR Dataset/features.txt\",\n",
    "    index_col=0, header=None, sep=\" \")\n",
    "# ...and sanitize them so Pandas can use them for column names:\n",
    "san_dict = {ord(\"(\"): \"\", ord(\")\"): \"\", ord(\"-\"): \"_\", ord(\",\"): \"_\"}\n",
    "features = list(f.translate(san_dict) for f in feature_list.iloc[:,0])\n",
    "features"
   ]
  },
  {
   "cell_type": "code",
   "execution_count": 4,
   "metadata": {
    "collapsed": true
   },
   "outputs": [],
   "source": [
    "def read_features(fname):\n",
    "    return pd.read_csv(fname, delim_whitespace=True, header=None,\n",
    "                       names=features, index_col=None)\n",
    "\n",
    "train_X_summary = read_features(\"UCI HAR Dataset/train/X_train.txt\")\n",
    "test_X_summary = read_features(\"UCI HAR Dataset/test/X_test.txt\")"
   ]
  },
  {
   "cell_type": "code",
   "execution_count": 5,
   "metadata": {
    "collapsed": true
   },
   "outputs": [],
   "source": [
    "def read_labels(fname):\n",
    "    df = pd.read_csv(fname, header=None)\n",
    "    # We just want the series, not the dataframe:\n",
    "    return df.iloc[:, 0]\n",
    "\n",
    "train_y = read_labels(\"UCI HAR Dataset/train/y_train.txt\")\n",
    "test_y = read_labels(\"UCI HAR Dataset/test/y_test.txt\")"
   ]
  },
  {
   "cell_type": "code",
   "execution_count": 6,
   "metadata": {
    "collapsed": true
   },
   "outputs": [],
   "source": [
    "def read_accel(s, train_or_test):\n",
    "    fname = \"UCI HAR Dataset/{0}/Inertial Signals/total_acc_{1}_{0}.txt\".\\\n",
    "        format(train_or_test, s)\n",
    "    # It's a bit confusing to have column names that are also numbers,\n",
    "    # so use accX_0...accX_127 (for instance):\n",
    "    names = [\"acc\" + s.upper() + \"_\" + str(i) for i in range(128)]\n",
    "    df = pd.read_csv(fname, delim_whitespace=True, header=None,\n",
    "                     index_col=None, names=names)\n",
    "    assert df.shape[1] == 128\n",
    "    return df\n",
    "\n",
    "train_accels = [read_accel(v, \"train\") for v in (\"x\",\"y\",\"z\")]\n",
    "test_accels  = [read_accel(v, \"test\")  for v in (\"x\",\"y\",\"z\")]"
   ]
  },
  {
   "cell_type": "code",
   "execution_count": 7,
   "metadata": {
    "collapsed": true
   },
   "outputs": [],
   "source": [
    "train_X = pd.concat([train_X_summary] + train_accels, axis=1)\n",
    "test_X  = pd.concat([test_X_summary]  + test_accels,  axis=1)"
   ]
  },
  {
   "cell_type": "code",
   "execution_count": 8,
   "metadata": {
    "collapsed": true
   },
   "outputs": [],
   "source": [
    "# Standardize to unit variance & zero mean:\n",
    "ss = sklearn.preprocessing.StandardScaler()\n",
    "train_X.iloc[:, :] = ss.fit_transform(train_X)\n",
    "test_X.iloc[:, :] = ss.transform(test_X)"
   ]
  },
  {
   "cell_type": "code",
   "execution_count": 9,
   "metadata": {},
   "outputs": [
    {
     "name": "stdout",
     "output_type": "stream",
     "text": [
      "<class 'pandas.core.frame.DataFrame'>\n",
      "RangeIndex: 7352 entries, 0 to 7351\n",
      "Columns: 945 entries, tBodyAcc_mean_X to accZ_127\n",
      "dtypes: float64(945)\n",
      "memory usage: 53.0 MB\n"
     ]
    }
   ],
   "source": [
    "train_X.info()"
   ]
  },
  {
   "cell_type": "code",
   "execution_count": 10,
   "metadata": {},
   "outputs": [
    {
     "name": "stdout",
     "output_type": "stream",
     "text": [
      "<class 'pandas.core.frame.DataFrame'>\n",
      "RangeIndex: 2947 entries, 0 to 2946\n",
      "Columns: 945 entries, tBodyAcc_mean_X to accZ_127\n",
      "dtypes: float64(945)\n",
      "memory usage: 21.2 MB\n"
     ]
    }
   ],
   "source": [
    "test_X.info()"
   ]
  },
  {
   "cell_type": "code",
   "execution_count": 11,
   "metadata": {},
   "outputs": [
    {
     "data": {
      "text/plain": [
       "(0, 0)"
      ]
     },
     "execution_count": 11,
     "metadata": {},
     "output_type": "execute_result"
    }
   ],
   "source": [
    "train_X.isnull().sum().sum(), test_X.isnull().sum().sum()"
   ]
  },
  {
   "cell_type": "markdown",
   "metadata": {},
   "source": [
    "- Good, no nulls and everything parsed fine as a float64."
   ]
  },
  {
   "cell_type": "code",
   "execution_count": 12,
   "metadata": {},
   "outputs": [
    {
     "data": {
      "text/html": [
       "<div>\n",
       "<style>\n",
       "    .dataframe thead tr:only-child th {\n",
       "        text-align: right;\n",
       "    }\n",
       "\n",
       "    .dataframe thead th {\n",
       "        text-align: left;\n",
       "    }\n",
       "\n",
       "    .dataframe tbody tr th {\n",
       "        vertical-align: top;\n",
       "    }\n",
       "</style>\n",
       "<table border=\"1\" class=\"dataframe\">\n",
       "  <thead>\n",
       "    <tr style=\"text-align: right;\">\n",
       "      <th></th>\n",
       "      <th>Activity</th>\n",
       "      <th>Counts</th>\n",
       "      <th>Fraction</th>\n",
       "    </tr>\n",
       "    <tr>\n",
       "      <th>Label</th>\n",
       "      <th></th>\n",
       "      <th></th>\n",
       "      <th></th>\n",
       "    </tr>\n",
       "  </thead>\n",
       "  <tbody>\n",
       "    <tr>\n",
       "      <th>1</th>\n",
       "      <td>WALKING</td>\n",
       "      <td>1226</td>\n",
       "      <td>0.045770</td>\n",
       "    </tr>\n",
       "    <tr>\n",
       "      <th>2</th>\n",
       "      <td>WALKING_UPSTAIRS</td>\n",
       "      <td>2146</td>\n",
       "      <td>0.080116</td>\n",
       "    </tr>\n",
       "    <tr>\n",
       "      <th>3</th>\n",
       "      <td>WALKING_DOWNSTAIRS</td>\n",
       "      <td>2958</td>\n",
       "      <td>0.110431</td>\n",
       "    </tr>\n",
       "    <tr>\n",
       "      <th>4</th>\n",
       "      <td>SITTING</td>\n",
       "      <td>5144</td>\n",
       "      <td>0.192041</td>\n",
       "    </tr>\n",
       "    <tr>\n",
       "      <th>5</th>\n",
       "      <td>STANDING</td>\n",
       "      <td>6870</td>\n",
       "      <td>0.256477</td>\n",
       "    </tr>\n",
       "    <tr>\n",
       "      <th>6</th>\n",
       "      <td>LAYING</td>\n",
       "      <td>8442</td>\n",
       "      <td>0.315165</td>\n",
       "    </tr>\n",
       "  </tbody>\n",
       "</table>\n",
       "</div>"
      ],
      "text/plain": [
       "                 Activity  Counts  Fraction\n",
       "Label                                      \n",
       "1                 WALKING    1226  0.045770\n",
       "2        WALKING_UPSTAIRS    2146  0.080116\n",
       "3      WALKING_DOWNSTAIRS    2958  0.110431\n",
       "4                 SITTING    5144  0.192041\n",
       "5                STANDING    6870  0.256477\n",
       "6                  LAYING    8442  0.315165"
      ]
     },
     "execution_count": 12,
     "metadata": {},
     "output_type": "execute_result"
    }
   ],
   "source": [
    "labels = pd.read_csv(\"UCI HAR Dataset/activity_labels.txt\",\n",
    "    delim_whitespace=True, header=None, index_col=0, names=(\"Label\", \"Activity\"))\n",
    "counts = pd.DataFrame({\"Counts\": train_y.groupby(train_y).sum()})\n",
    "label_list = [l.lower() for l in labels.Activity]\n",
    "labels.join(counts).assign(Fraction = counts.Counts / sum(counts.Counts))"
   ]
  },
  {
   "cell_type": "markdown",
   "metadata": {},
   "source": [
    "- However, distribution of labels is a bit lopsided; I am guessing I should use stratified sampling when splitting and in any other cross-validation I might do."
   ]
  },
  {
   "cell_type": "markdown",
   "metadata": {},
   "source": [
    "## Manifold plots"
   ]
  },
  {
   "cell_type": "code",
   "execution_count": 13,
   "metadata": {
    "collapsed": true
   },
   "outputs": [],
   "source": [
    "def plot_embedding(embed, labels=train_y):\n",
    "    # I'm open for a way to accomplish this in a single call\n",
    "    # and still have the legend that I want\n",
    "    colors = ['k','b','y','g','r','m']\n",
    "    for i,c in enumerate(colors):\n",
    "        x = embed[labels == i + 1, 0]\n",
    "        y = embed[labels == i + 1, 1]\n",
    "        plt.scatter(\n",
    "            x, y, s=5,\n",
    "            c=c,\n",
    "            label=label_list[i]\n",
    "        )\n",
    "    plt.legend(bbox_to_anchor=(1, 1), loc='upper left', ncol=1)\n",
    "    plt.show()"
   ]
  },
  {
   "cell_type": "code",
   "execution_count": 14,
   "metadata": {
    "collapsed": true
   },
   "outputs": [],
   "source": [
    "isomap = sklearn.manifold.Isomap(n_components=2)\n",
    "embed_iso = isomap.fit_transform(train_X)"
   ]
  },
  {
   "cell_type": "code",
   "execution_count": 15,
   "metadata": {
    "collapsed": true
   },
   "outputs": [],
   "source": [
    "spectral = sklearn.manifold.SpectralEmbedding(n_components=2)\n",
    "embed_sp = spectral.fit_transform(train_X)"
   ]
  },
  {
   "cell_type": "code",
   "execution_count": 16,
   "metadata": {},
   "outputs": [
    {
     "data": {
      "image/png": "[encoded data removed]",
      "text/plain": [
       "<matplotlib.figure.Figure at 0x7fed0444d3c8>"
      ]
     },
     "metadata": {},
     "output_type": "display_data"
    }
   ],
   "source": [
    "plt.title(\"Isomap\")\n",
    "plot_embedding(embed_iso)"
   ]
  },
  {
   "cell_type": "code",
   "execution_count": 17,
   "metadata": {},
   "outputs": [
    {
     "data": {
      "image/png": "[encoded data removed]",
      "text/plain": [
       "<matplotlib.figure.Figure at 0x7fecfecd9908>"
      ]
     },
     "metadata": {},
     "output_type": "display_data"
    }
   ],
   "source": [
    "plt.title(\"Spectral embedding\")\n",
    "plot_embedding(embed_sp)"
   ]
  },
  {
   "cell_type": "markdown",
   "metadata": {},
   "source": [
    "- t-SNE, according to [this](https://medium.com/@luckylwk/visualising-high-dimensional-datasets-using-pca-and-t-sne-in-python-8ef87e7915b), should have the data's dimensions first reduced with PCA (to ~50) if it is very large:"
   ]
  },
  {
   "cell_type": "code",
   "execution_count": 18,
   "metadata": {},
   "outputs": [
    {
     "name": "stdout",
     "output_type": "stream",
     "text": [
      "Variance explained: 88.9%\n"
     ]
    }
   ],
   "source": [
    "pca = sklearn.decomposition.PCA(n_components=50)\n",
    "train_X_pca = pca.fit_transform(train_X)\n",
    "print(\"Variance explained: {0:.1f}%\".format(\n",
    "    pca.explained_variance_ratio_.sum() * 100))"
   ]
  },
  {
   "cell_type": "code",
   "execution_count": 19,
   "metadata": {
    "collapsed": true
   },
   "outputs": [],
   "source": [
    "# t-SNE is O(N^2) in number of samples, so sample down:\n",
    "idxs_reduced = np.random.choice(train_X_pca.shape[0], 3000)\n",
    "train_X_pca_reduced = train_X_pca[idxs_reduced]\n",
    "train_y_reduced = train_y[idxs_reduced]"
   ]
  },
  {
   "cell_type": "code",
   "execution_count": 20,
   "metadata": {
    "collapsed": true
   },
   "outputs": [],
   "source": [
    "tsne = sklearn.manifold.TSNE(n_components=2, perplexity=50)\n",
    "embed_tsne = tsne.fit_transform(train_X_pca_reduced)"
   ]
  },
  {
   "cell_type": "code",
   "execution_count": 21,
   "metadata": {},
   "outputs": [
    {
     "data": {
      "image/png": "[encoded data removed]",
      "text/plain": [
       "<matplotlib.figure.Figure at 0x7fecfed0f0f0>"
      ]
     },
     "metadata": {},
     "output_type": "display_data"
    }
   ],
   "source": [
    "plt.title(\"t-SNE\")\n",
    "plot_embedding(embed_tsne, train_y_reduced)"
   ]
  },
  {
   "cell_type": "markdown",
   "metadata": {},
   "source": [
    "- LLE and MDS were run too but did not produce much of interest\n",
    "- The plot above with t-SNE seemed relatively stable to hyperparameter adjustment.  Playing with perplexity shifted some clusters around and spaced them out more, but did not seem to discriminate things any better.\n",
    "- All three plots here are showing some similarities: Laying is clearly separated, and two other clusters clearly form, one with standing/sitting and one with the three kinds of walking. In t-SNE at least, sanding/sitting seems to partially separate out, while walking looks more mixed.\n",
    "- This makes a bit of sense: All types of walking are fairly distinct (especially as far as an accelerometer cares) from the other activities, but less so from each other, and likewise for sitting/standing."
   ]
  },
  {
   "cell_type": "markdown",
   "metadata": {},
   "source": [
    "# Tensorflow Dabbling"
   ]
  },
  {
   "cell_type": "code",
   "execution_count": 2,
   "metadata": {
    "collapsed": true
   },
   "outputs": [],
   "source": [
    "import tensorflow as tf\n",
    "\n",
    "import data_preprocessing"
   ]
  },
  {
   "cell_type": "code",
   "execution_count": 23,
   "metadata": {
    "collapsed": true
   },
   "outputs": [],
   "source": [
    "# Ignore all the code above and load with training/validation split:\n",
    "train_X_orig, train_y_orig, test_X, test_y = data_preprocessing.read_raw_data()\n",
    "data_preprocessing.standardize(train_X_orig, test_X)\n",
    "train_X, valid_X, train_y, valid_y = data_preprocessing.split(\n",
    "    train_X_orig, train_y_orig)"
   ]
  },
  {
   "cell_type": "code",
   "execution_count": 75,
   "metadata": {
    "collapsed": true
   },
   "outputs": [],
   "source": [
    "class AccuracyHook(tf.train.SessionRunHook):\n",
    "    def __init__(self, estimator, valid_X, valid_y):\n",
    "        tf.logging.info(\"Create AccuracyHook\")\n",
    "        # I'm sure there is a \"correct\" way to do this, but I have given\n",
    "        # up trying to comprehend the TensorFlow API here.\n",
    "        # All I'm trying to do is print validation accuracy at\n",
    "        # each step.\n",
    "        self.estimator = estimator\n",
    "        self.test_input_fn = tf.estimator.inputs.numpy_input_fn(\n",
    "            x={\"x\": valid_X.values},\n",
    "            y=valid_y.values - 1,\n",
    "            num_epochs=1,\n",
    "            shuffle=False)\n",
    "        self.time = 0\n",
    "    def after_run(self, run_context, run_values):\n",
    "        self.time += 1\n",
    "        if (self.time % 100 == 0):\n",
    "            # Problem with the below: This doesn't seem to be updating properly.\n",
    "            ev = self.estimator.evaluate(input_fn=test_input_fn)\n",
    "            tf.logging.info(\"Validation accuracy: {0}\".format(ev[\"accuracy\"]))"
   ]
  },
  {
   "cell_type": "markdown",
   "metadata": {},
   "source": [
    "## Logistic Regression"
   ]
  },
  {
   "cell_type": "markdown",
   "metadata": {},
   "source": [
    "### \"Old\" way, before writing an Estimator:"
   ]
  },
  {
   "cell_type": "code",
   "execution_count": 24,
   "metadata": {
    "collapsed": true
   },
   "outputs": [],
   "source": [
    "class LogisticRegressionGraph(object):\n",
    "    \n",
    "    def __init__(self, n_features, n_labels, lambda_=1e-3, scope=\"lr\"):\n",
    "        \"\"\"Create a TensorFlow graph for multinomial logistic regression\n",
    "        (in this case, softmax regression).  Specify the number of feature\n",
    "        dimensions ('n_features') and number of labels to classify over\n",
    "        ('n_labels').  Optional 'lambda' controls the strength of weight\n",
    "        decay for regularization.\n",
    "        \"\"\"\n",
    "        # Loosely based on:\n",
    "        # http://ufldl.stanford.edu/wiki/index.php/Softmax_Regression\n",
    "        with tf.variable_scope(scope):\n",
    "            # Data:\n",
    "            self.example = tf.placeholder(tf.float32, [None, n_features])\n",
    "            # Note that labels need to be one-hot encoded:\n",
    "            self.label = tf.placeholder(tf.float32, [None, n_labels])\n",
    "            # Model:\n",
    "            self.weights = tf.get_variable(\"weights\", [n_features, n_labels])\n",
    "            self.bias = tf.get_variable(\"bias\", [n_labels])\n",
    "            # Unnormalized output (logits?):\n",
    "            logits = tf.matmul(self.example, self.weights) + self.bias\n",
    "            # 'softmax' is unnecessary here just for argmax (sigmoid would be\n",
    "            # equivalent), but it doesn't make much difference:\n",
    "            sm = tf.nn.softmax(logits)\n",
    "            # TODO: Actually, are either of those necessary? Could I just use argmax on logits directly?\n",
    "            self.predict_node = tf.argmax(sm, axis=1)\n",
    "            # Cost function consists of cross-entropy, plus weight decay for\n",
    "            # regularization:\n",
    "            xe = tf.nn.softmax_cross_entropy_with_logits(logits=logits, labels=self.label)\n",
    "            decay = tf.reduce_sum(self.weights**2)\n",
    "            self.loss = xe + lambda_ * decay / 2\n",
    "\n",
    "    def predict(self, session, X):\n",
    "        return session.run(self.predict_node, {self.example: X})"
   ]
  },
  {
   "cell_type": "code",
   "execution_count": 25,
   "metadata": {
    "collapsed": true
   },
   "outputs": [],
   "source": [
    "train_y_bin = sklearn.preprocessing.label_binarize(train_y, classes=range(1,7))"
   ]
  },
  {
   "cell_type": "code",
   "execution_count": 26,
   "metadata": {},
   "outputs": [
    {
     "name": "stdout",
     "output_type": "stream",
     "text": [
      "Iter 5/100, training/validation accuracy: 77.367%, 76.170%\n",
      "Iter 10/100, training/validation accuracy: 92.093%, 91.349%\n",
      "Iter 15/100, training/validation accuracy: 92.365%, 91.513%\n",
      "Iter 20/100, training/validation accuracy: 91.803%, 90.098%\n",
      "Iter 25/100, training/validation accuracy: 94.849%, 94.723%\n",
      "Iter 30/100, training/validation accuracy: 95.557%, 94.886%\n",
      "Iter 35/100, training/validation accuracy: 92.220%, 91.839%\n",
      "Iter 40/100, training/validation accuracy: 95.520%, 94.450%\n",
      "Iter 45/100, training/validation accuracy: 96.808%, 95.919%\n",
      "Iter 50/100, training/validation accuracy: 97.116%, 95.974%\n",
      "Iter 55/100, training/validation accuracy: 97.316%, 96.192%\n",
      "Iter 60/100, training/validation accuracy: 97.116%, 95.647%\n",
      "Iter 65/100, training/validation accuracy: 94.831%, 93.852%\n",
      "Iter 70/100, training/validation accuracy: 97.461%, 95.919%\n",
      "Iter 75/100, training/validation accuracy: 97.534%, 96.518%\n",
      "Iter 80/100, training/validation accuracy: 97.824%, 96.246%\n",
      "Iter 85/100, training/validation accuracy: 96.971%, 95.647%\n",
      "Iter 90/100, training/validation accuracy: 88.756%, 87.214%\n",
      "Iter 95/100, training/validation accuracy: 97.552%, 96.518%\n",
      "Iter 99/100, training/validation accuracy: 97.806%, 96.627%\n"
     ]
    }
   ],
   "source": [
    "tf.reset_default_graph()\n",
    "lr = LogisticRegressionGraph(train_X.shape[1], 6, 0) # 1e-3)\n",
    "learning_rate = 0.0001\n",
    "with tf.Session() as session:\n",
    "    init = tf.global_variables_initializer()\n",
    "    optimizer = tf.train.GradientDescentOptimizer(learning_rate)\n",
    "    train = optimizer.minimize(lr.loss)\n",
    "    session.run(init)\n",
    "    max_iters = 100\n",
    "    #max_iters=10\n",
    "    for i in range(max_iters):\n",
    "        session.run(train, {lr.example: train_X, lr.label: train_y_bin})\n",
    "        # Evaluate accuracy:\n",
    "        if (i > 0 and i % 5 == 0) or (i == max_iters - 1):\n",
    "            train_y_predict = lr.predict(session, train_X)\n",
    "            valid_y_predict = lr.predict(session, valid_X)\n",
    "            train_acc = sklearn.metrics.accuracy_score(train_y, train_y_predict + 1)\n",
    "            valid_acc = sklearn.metrics.accuracy_score(valid_y, valid_y_predict + 1)\n",
    "            print(\"Iter {0}/{1}, training/validation accuracy: {2:.3f}%, {3:.3f}%\".format(\n",
    "                i, max_iters, 100*train_acc, 100*valid_acc))"
   ]
  },
  {
   "cell_type": "markdown",
   "metadata": {},
   "source": [
    "### Implemented with Estimator and model function:"
   ]
  },
  {
   "cell_type": "code",
   "execution_count": 27,
   "metadata": {
    "collapsed": true
   },
   "outputs": [],
   "source": [
    "def lr_model_fn(features, labels, mode, params):\n",
    "    # Model:\n",
    "    weights = tf.get_variable(\"weights\", [params[\"n_features\"], params[\"n_classes\"]], dtype=tf.float64)\n",
    "    bias = tf.get_variable(\"bias\", [params[\"n_classes\"]], dtype=tf.float64)\n",
    "    # Unnormalized output (logits?):\n",
    "    logits = tf.matmul(features[\"x\"], weights) + bias\n",
    "    sm = tf.nn.softmax(logits)\n",
    "    # TODO: Actually, are either of those necessary? Could I just use argmax on logits directly?\n",
    "    predictions = tf.argmax(sm, axis=1)\n",
    "    \n",
    "    if mode == tf.estimator.ModeKeys.PREDICT:\n",
    "        return tf.estimator.EstimatorSpec(\n",
    "            mode=mode, predictions={\"activity\": predictions})\n",
    "    else:\n",
    "        # Cost function consists of cross-entropy, plus weight decay for\n",
    "        # regularization:\n",
    "        onehot_labels = tf.one_hot(labels, params[\"n_classes\"])\n",
    "        decay = tf.reduce_sum(weights**2)\n",
    "        xe = tf.losses.softmax_cross_entropy(onehot_labels=onehot_labels, logits=logits)\n",
    "        loss = xe + params[\"lambda\"] * decay / 2\n",
    "\n",
    "        eval_metric_ops = {\n",
    "            \"accuracy\": tf.metrics.accuracy(labels=labels, predictions=predictions)\n",
    "        }\n",
    "        optimizer = tf.train.GradientDescentOptimizer(learning_rate=params[\"learning_rate\"])\n",
    "        train_op = optimizer.minimize(loss=loss, global_step=tf.train.get_global_step())\n",
    "        return tf.estimator.EstimatorSpec(\n",
    "            mode=mode,\n",
    "            loss=loss,\n",
    "            train_op=train_op,\n",
    "            eval_metric_ops=eval_metric_ops)"
   ]
  },
  {
   "cell_type": "code",
   "execution_count": 28,
   "metadata": {
    "scrolled": true
   },
   "outputs": [
    {
     "name": "stdout",
     "output_type": "stream",
     "text": [
      "WARNING:tensorflow:Using temporary folder as model directory: /run/user/1000/tmp8g6zms0x\n",
      "INFO:tensorflow:Using default config.\n",
      "INFO:tensorflow:Using config: {}\n",
      "INFO:tensorflow:Create CheckpointSaverHook.\n",
      "INFO:tensorflow:Saving checkpoints for 1 into /run/user/1000/tmp8g6zms0x/model.ckpt.\n",
      "INFO:tensorflow:loss = 2.55884827552, step = 1\n",
      "INFO:tensorflow:global_step/sec: 314.758\n",
      "INFO:tensorflow:loss = 0.375474950181, step = 101 (0.319 sec)\n",
      "INFO:tensorflow:global_step/sec: 311.519\n",
      "INFO:tensorflow:loss = 0.275011441737, step = 201 (0.322 sec)\n",
      "INFO:tensorflow:global_step/sec: 307.657\n",
      "INFO:tensorflow:loss = 0.268908713994, step = 301 (0.325 sec)\n",
      "INFO:tensorflow:global_step/sec: 310.5\n",
      "INFO:tensorflow:loss = 0.194013482095, step = 401 (0.321 sec)\n",
      "INFO:tensorflow:global_step/sec: 312.319\n",
      "INFO:tensorflow:loss = 0.216757939291, step = 501 (0.320 sec)\n",
      "INFO:tensorflow:global_step/sec: 294.343\n",
      "INFO:tensorflow:loss = 0.216730147334, step = 601 (0.340 sec)\n",
      "INFO:tensorflow:global_step/sec: 306.659\n",
      "INFO:tensorflow:loss = 0.163677867364, step = 701 (0.328 sec)\n",
      "INFO:tensorflow:global_step/sec: 312.871\n",
      "INFO:tensorflow:loss = 0.177596758, step = 801 (0.318 sec)\n",
      "INFO:tensorflow:global_step/sec: 301.426\n",
      "INFO:tensorflow:loss = 0.174967338117, step = 901 (0.331 sec)\n",
      "INFO:tensorflow:global_step/sec: 310.189\n",
      "INFO:tensorflow:loss = 0.183621350926, step = 1001 (0.323 sec)\n",
      "INFO:tensorflow:global_step/sec: 312.104\n",
      "INFO:tensorflow:loss = 0.16081058345, step = 1101 (0.320 sec)\n",
      "INFO:tensorflow:global_step/sec: 302.624\n",
      "INFO:tensorflow:loss = 0.169402176219, step = 1201 (0.330 sec)\n",
      "INFO:tensorflow:global_step/sec: 311.283\n",
      "INFO:tensorflow:loss = 0.126848115586, step = 1301 (0.321 sec)\n",
      "INFO:tensorflow:global_step/sec: 317.303\n",
      "INFO:tensorflow:loss = 0.136439720759, step = 1401 (0.316 sec)\n",
      "INFO:tensorflow:global_step/sec: 291.939\n",
      "INFO:tensorflow:loss = 0.159133907702, step = 1501 (0.342 sec)\n",
      "INFO:tensorflow:global_step/sec: 305.593\n",
      "INFO:tensorflow:loss = 0.131452339784, step = 1601 (0.327 sec)\n",
      "INFO:tensorflow:global_step/sec: 305.611\n",
      "INFO:tensorflow:loss = 0.113867404693, step = 1701 (0.327 sec)\n",
      "INFO:tensorflow:global_step/sec: 310.982\n",
      "INFO:tensorflow:loss = 0.145535508139, step = 1801 (0.322 sec)\n",
      "INFO:tensorflow:global_step/sec: 313.83\n",
      "INFO:tensorflow:loss = 0.121775542118, step = 1901 (0.318 sec)\n",
      "INFO:tensorflow:global_step/sec: 306.716\n",
      "INFO:tensorflow:loss = 0.138348360859, step = 2001 (0.326 sec)\n",
      "INFO:tensorflow:global_step/sec: 295.647\n",
      "INFO:tensorflow:loss = 0.148045942963, step = 2101 (0.338 sec)\n",
      "INFO:tensorflow:global_step/sec: 313.289\n",
      "INFO:tensorflow:loss = 0.199452753182, step = 2201 (0.319 sec)\n",
      "INFO:tensorflow:global_step/sec: 314.001\n",
      "INFO:tensorflow:loss = 0.191928635625, step = 2301 (0.319 sec)\n",
      "INFO:tensorflow:global_step/sec: 304.329\n",
      "INFO:tensorflow:loss = 0.146892968921, step = 2401 (0.329 sec)\n",
      "INFO:tensorflow:global_step/sec: 309.217\n",
      "INFO:tensorflow:loss = 0.096549613201, step = 2501 (0.323 sec)\n",
      "INFO:tensorflow:global_step/sec: 307.431\n",
      "INFO:tensorflow:loss = 0.149067347305, step = 2601 (0.326 sec)\n",
      "INFO:tensorflow:global_step/sec: 305.605\n",
      "INFO:tensorflow:loss = 0.103573189375, step = 2701 (0.327 sec)\n",
      "INFO:tensorflow:global_step/sec: 304.914\n",
      "INFO:tensorflow:loss = 0.112119489597, step = 2801 (0.328 sec)\n",
      "INFO:tensorflow:global_step/sec: 313.896\n",
      "INFO:tensorflow:loss = 0.166584605666, step = 2901 (0.319 sec)\n",
      "INFO:tensorflow:global_step/sec: 302\n",
      "INFO:tensorflow:loss = 0.122111761623, step = 3001 (0.331 sec)\n",
      "INFO:tensorflow:global_step/sec: 305.389\n",
      "INFO:tensorflow:loss = 0.138865190146, step = 3101 (0.328 sec)\n",
      "INFO:tensorflow:global_step/sec: 314.853\n",
      "INFO:tensorflow:loss = 0.0987184219628, step = 3201 (0.317 sec)\n",
      "INFO:tensorflow:global_step/sec: 305.198\n",
      "INFO:tensorflow:loss = 0.134699842191, step = 3301 (0.328 sec)\n",
      "INFO:tensorflow:global_step/sec: 311.248\n",
      "INFO:tensorflow:loss = 0.135782971453, step = 3401 (0.321 sec)\n",
      "INFO:tensorflow:Saving checkpoints for 3447 into /run/user/1000/tmp8g6zms0x/model.ckpt.\n",
      "INFO:tensorflow:Loss for final step: 0.0864949629085.\n"
     ]
    },
    {
     "data": {
      "text/plain": [
       "<tensorflow.python.estimator.estimator.Estimator at 0x7fecf2d09e48>"
      ]
     },
     "execution_count": 28,
     "metadata": {},
     "output_type": "execute_result"
    }
   ],
   "source": [
    "lr = tf.estimator.Estimator(\n",
    "    model_fn=lr_model_fn,\n",
    "    params={\"learning_rate\": 0.02, \"n_classes\": 6, \"n_features\": train_X.shape[1], \"lambda\": 0.02},\n",
    ")\n",
    "\n",
    "train_input_fn = tf.estimator.inputs.numpy_input_fn(\n",
    "    x={\"x\": train_X.values},\n",
    "    y=train_y.values - 1,\n",
    "    num_epochs=80,\n",
    "    shuffle=False)\n",
    "lr.train(input_fn=train_input_fn)"
   ]
  },
  {
   "cell_type": "code",
   "execution_count": 29,
   "metadata": {},
   "outputs": [
    {
     "name": "stdout",
     "output_type": "stream",
     "text": [
      "INFO:tensorflow:Starting evaluation at 2017-11-22-23:55:55\n",
      "INFO:tensorflow:Restoring parameters from /run/user/1000/tmp8g6zms0x/model.ckpt-3447\n",
      "INFO:tensorflow:Finished evaluation at 2017-11-22-23:55:56\n",
      "INFO:tensorflow:Saving dict for global step 3447: accuracy = 0.974973, global_step = 3447, loss = 0.134243\n",
      "WARNING:tensorflow:Skipping summary for global_step, must be a float or np.float32.\n",
      "Loss: 0.134243\n",
      "Validation accuracy: 0.974973\n"
     ]
    }
   ],
   "source": [
    "# Score accuracy\n",
    "test_input_fn = tf.estimator.inputs.numpy_input_fn(\n",
    "    x={\"x\": valid_X.values},\n",
    "    y=valid_y.values - 1,\n",
    "    num_epochs=1,\n",
    "    shuffle=False)\n",
    "\n",
    "ev = lr.evaluate(input_fn=test_input_fn)\n",
    "print(\"Loss: %s\" % ev[\"loss\"])\n",
    "print(\"Validation accuracy: %s\" % ev[\"accuracy\"])"
   ]
  },
  {
   "cell_type": "code",
   "execution_count": 30,
   "metadata": {},
   "outputs": [
    {
     "name": "stdout",
     "output_type": "stream",
     "text": [
      "INFO:tensorflow:Restoring parameters from /run/user/1000/tmp8g6zms0x/model.ckpt-3447\n"
     ]
    },
    {
     "data": {
      "text/html": [
       "<div>\n",
       "<style>\n",
       "    .dataframe thead tr:only-child th {\n",
       "        text-align: right;\n",
       "    }\n",
       "\n",
       "    .dataframe thead th {\n",
       "        text-align: left;\n",
       "    }\n",
       "\n",
       "    .dataframe tbody tr th {\n",
       "        vertical-align: top;\n",
       "    }\n",
       "</style>\n",
       "<table border=\"1\" class=\"dataframe\">\n",
       "  <thead>\n",
       "    <tr style=\"text-align: right;\">\n",
       "      <th></th>\n",
       "      <th>walking</th>\n",
       "      <th>walking_upstairs</th>\n",
       "      <th>walking_downstairs</th>\n",
       "      <th>sitting</th>\n",
       "      <th>standing</th>\n",
       "      <th>laying</th>\n",
       "    </tr>\n",
       "  </thead>\n",
       "  <tbody>\n",
       "    <tr>\n",
       "      <th>walking</th>\n",
       "      <td>306</td>\n",
       "      <td>0</td>\n",
       "      <td>0</td>\n",
       "      <td>0</td>\n",
       "      <td>0</td>\n",
       "      <td>0</td>\n",
       "    </tr>\n",
       "    <tr>\n",
       "      <th>walking_upstairs</th>\n",
       "      <td>6</td>\n",
       "      <td>261</td>\n",
       "      <td>1</td>\n",
       "      <td>0</td>\n",
       "      <td>0</td>\n",
       "      <td>0</td>\n",
       "    </tr>\n",
       "    <tr>\n",
       "      <th>walking_downstairs</th>\n",
       "      <td>2</td>\n",
       "      <td>0</td>\n",
       "      <td>245</td>\n",
       "      <td>0</td>\n",
       "      <td>0</td>\n",
       "      <td>0</td>\n",
       "    </tr>\n",
       "    <tr>\n",
       "      <th>sitting</th>\n",
       "      <td>0</td>\n",
       "      <td>0</td>\n",
       "      <td>0</td>\n",
       "      <td>307</td>\n",
       "      <td>15</td>\n",
       "      <td>0</td>\n",
       "    </tr>\n",
       "    <tr>\n",
       "      <th>standing</th>\n",
       "      <td>0</td>\n",
       "      <td>0</td>\n",
       "      <td>0</td>\n",
       "      <td>22</td>\n",
       "      <td>321</td>\n",
       "      <td>0</td>\n",
       "    </tr>\n",
       "    <tr>\n",
       "      <th>laying</th>\n",
       "      <td>0</td>\n",
       "      <td>0</td>\n",
       "      <td>0</td>\n",
       "      <td>0</td>\n",
       "      <td>0</td>\n",
       "      <td>352</td>\n",
       "    </tr>\n",
       "  </tbody>\n",
       "</table>\n",
       "</div>"
      ],
      "text/plain": [
       "                    walking  walking_upstairs  walking_downstairs  sitting  \\\n",
       "walking                 306                 0                   0        0   \n",
       "walking_upstairs          6               261                   1        0   \n",
       "walking_downstairs        2                 0                 245        0   \n",
       "sitting                   0                 0                   0      307   \n",
       "standing                  0                 0                   0       22   \n",
       "laying                    0                 0                   0        0   \n",
       "\n",
       "                    standing  laying  \n",
       "walking                    0       0  \n",
       "walking_upstairs           0       0  \n",
       "walking_downstairs         0       0  \n",
       "sitting                   15       0  \n",
       "standing                 321       0  \n",
       "laying                     0     352  "
      ]
     },
     "execution_count": 30,
     "metadata": {},
     "output_type": "execute_result"
    }
   ],
   "source": [
    "valid_y_predict = np.array([i[\"activity\"] for i in lr.predict(test_input_fn)])\n",
    "\n",
    "# Confusion matrix (on validation set):\n",
    "conf = sklearn.metrics.confusion_matrix(valid_y, valid_y_predict + 1)\n",
    "conf = pd.DataFrame(conf, columns=label_list, index=label_list)\n",
    "conf"
   ]
  },
  {
   "cell_type": "markdown",
   "metadata": {},
   "source": [
    "- Note that the confusion matrix here shows a shadow of what the manifold learning plots above (especially t-SNE) showed.  Most mistakes are confusion between sitting/standing, or walking types."
   ]
  },
  {
   "cell_type": "markdown",
   "metadata": {},
   "source": [
    "## Two-Layer ANN"
   ]
  },
  {
   "cell_type": "markdown",
   "metadata": {},
   "source": [
    "### \"Old\" way, before writing an Estimator:"
   ]
  },
  {
   "cell_type": "code",
   "execution_count": 31,
   "metadata": {
    "collapsed": true
   },
   "outputs": [],
   "source": [
    "class ANNGraph(object):\n",
    "    \n",
    "    def __init__(self, n_features, n_labels, hidden_units=200, scope=\"nn\"):\n",
    "        \"\"\"Create a TensorFlow graph for a two-layer neural net.\n",
    "        Specify the number of feature dimensions ('n_features') and number\n",
    "        of labels to classify over ('n_labels').  Optional 'hidden'\n",
    "        controls the number of units in the hidden layer.\n",
    "        \"\"\"\n",
    "        with tf.variable_scope(scope):\n",
    "            # Data:\n",
    "            self.example = tf.placeholder(tf.float32, [None, n_features])\n",
    "            self.label = tf.placeholder(tf.float32, [None, n_labels])\n",
    "            # Model:\n",
    "            hidden = tf.layers.dense(self.example, hidden_units, activation=tf.nn.relu)\n",
    "            logits = tf.layers.dense(hidden, n_labels)\n",
    "            # If we need class probabilities:\n",
    "            #prob = tf.nn.softmax(self.logits)\n",
    "            # Prediction is just argmax\n",
    "            self.predict_node = tf.argmax(logits, axis=1)\n",
    "            # Cost function:\n",
    "            self.loss = tf.nn.softmax_cross_entropy_with_logits(logits=logits, labels=self.label)\n",
    "\n",
    "    # TODO: Clarify differing data formats\n",
    "    def predict(self, session, X):\n",
    "        \"\"\"Predict given a tensor of inputs.\"\"\"\n",
    "        return session.run(self.predict_node, {self.example: X})"
   ]
  },
  {
   "cell_type": "code",
   "execution_count": 32,
   "metadata": {},
   "outputs": [
    {
     "name": "stdout",
     "output_type": "stream",
     "text": [
      "Iter 100/3000, training/validation accuracy: 97.606%, 96.681%\n",
      "Iter 200/3000, training/validation accuracy: 98.368%, 97.443%\n",
      "Iter 300/3000, training/validation accuracy: 98.948%, 97.824%\n",
      "Iter 400/3000, training/validation accuracy: 99.238%, 98.205%\n",
      "Iter 500/3000, training/validation accuracy: 99.528%, 98.313%\n",
      "Iter 600/3000, training/validation accuracy: 99.655%, 98.313%\n",
      "Iter 700/3000, training/validation accuracy: 99.782%, 98.368%\n",
      "Iter 800/3000, training/validation accuracy: 99.909%, 98.422%\n",
      "Iter 900/3000, training/validation accuracy: 99.946%, 98.585%\n",
      "Iter 1000/3000, training/validation accuracy: 99.964%, 98.585%\n",
      "Iter 1100/3000, training/validation accuracy: 99.982%, 98.640%\n",
      "Iter 1200/3000, training/validation accuracy: 99.982%, 98.640%\n",
      "Iter 1300/3000, training/validation accuracy: 100.000%, 98.640%\n",
      "Iter 1400/3000, training/validation accuracy: 100.000%, 98.640%\n",
      "Iter 1500/3000, training/validation accuracy: 100.000%, 98.640%\n",
      "Iter 1600/3000, training/validation accuracy: 100.000%, 98.694%\n",
      "Iter 1700/3000, training/validation accuracy: 100.000%, 98.694%\n",
      "Iter 1800/3000, training/validation accuracy: 100.000%, 98.694%\n",
      "Iter 1900/3000, training/validation accuracy: 100.000%, 98.749%\n",
      "Iter 2000/3000, training/validation accuracy: 100.000%, 98.749%\n",
      "Iter 2100/3000, training/validation accuracy: 100.000%, 98.749%\n",
      "Iter 2200/3000, training/validation accuracy: 100.000%, 98.749%\n",
      "Iter 2300/3000, training/validation accuracy: 100.000%, 98.803%\n",
      "Iter 2400/3000, training/validation accuracy: 100.000%, 98.857%\n",
      "Iter 2500/3000, training/validation accuracy: 100.000%, 98.803%\n",
      "Iter 2600/3000, training/validation accuracy: 100.000%, 98.803%\n",
      "Iter 2700/3000, training/validation accuracy: 100.000%, 98.803%\n",
      "Iter 2800/3000, training/validation accuracy: 100.000%, 98.803%\n",
      "Iter 2900/3000, training/validation accuracy: 100.000%, 98.803%\n",
      "Iter 2999/3000, training/validation accuracy: 100.000%, 98.803%\n"
     ]
    }
   ],
   "source": [
    "tf.reset_default_graph()\n",
    "ann = ANNGraph(train_X.shape[1], 6, 200)\n",
    "# N.B. Higher learning rates appear to rapidly cause instability,\n",
    "# leading to NaNs in softmax. Not sure if that's normal or not;\n",
    "# is it my activation functions?\n",
    "learning_rate = 3e-5\n",
    "with tf.Session() as session:\n",
    "    init = tf.global_variables_initializer()\n",
    "    optimizer = tf.train.GradientDescentOptimizer(learning_rate)\n",
    "    train = optimizer.minimize(ann.loss)\n",
    "    session.run(init)\n",
    "    max_iters = 3000\n",
    "    for i in range(max_iters):\n",
    "        session.run(train, {ann.example: train_X, ann.label: train_y_bin})\n",
    "        # Evaluate accuracy:\n",
    "        if (i > 0 and i % 100 == 0) or (i == max_iters - 1):\n",
    "            train_y_predict = ann.predict(session, train_X)\n",
    "            valid_y_predict = ann.predict(session, valid_X)\n",
    "            train_acc = sklearn.metrics.accuracy_score(train_y, train_y_predict + 1)\n",
    "            valid_acc = sklearn.metrics.accuracy_score(valid_y, valid_y_predict + 1)\n",
    "            print(\"Iter {0}/{1}, training/validation accuracy: {2:.3f}%, {3:.3f}%\".format(\n",
    "                i, max_iters, 100*train_acc, 100*valid_acc))"
   ]
  },
  {
   "cell_type": "markdown",
   "metadata": {},
   "source": [
    "### Implemented with Estimator and model function:"
   ]
  },
  {
   "cell_type": "code",
   "execution_count": 80,
   "metadata": {
    "collapsed": true
   },
   "outputs": [],
   "source": [
    "def ann_model_fn(features, labels, mode, params):\n",
    "    # Hidden layer:\n",
    "    hidden = tf.layers.dense(features[\"x\"], params[\"hidden_units\"], activation=tf.nn.relu)\n",
    "    # Output layer:\n",
    "    logits = tf.layers.dense(hidden, params[\"n_classes\"])\n",
    "    # If we need class probabilities:\n",
    "    #prob = tf.nn.softmax(self.logits)\n",
    "    predictions = tf.argmax(logits, axis=1)\n",
    "    \n",
    "    if mode == tf.estimator.ModeKeys.PREDICT:\n",
    "        return tf.estimator.EstimatorSpec(\n",
    "            mode=mode, predictions={\"activity\": predictions})\n",
    "    else:\n",
    "        #loss = tf.nn.softmax_cross_entropy_with_logits(\n",
    "        #    onehot_labels=onehot_labels, logits=logits)\n",
    "        onehot_labels = tf.one_hot(labels, params[\"n_classes\"])\n",
    "        loss = tf.losses.softmax_cross_entropy(onehot_labels=onehot_labels, logits=logits)\n",
    "        tf.summary.scalar(\"xent_loss\", loss)\n",
    "        eval_metric_ops = {\n",
    "            \"accuracy\": tf.metrics.accuracy(labels=labels, predictions=predictions)\n",
    "        }\n",
    "        optimizer = tf.train.GradientDescentOptimizer(learning_rate=params[\"learning_rate\"])\n",
    "        train_op = optimizer.minimize(loss=loss, global_step=tf.train.get_global_step())\n",
    "        return tf.estimator.EstimatorSpec(\n",
    "            mode=mode,\n",
    "            loss=loss,\n",
    "            train_op=train_op,\n",
    "            eval_metric_ops=eval_metric_ops)"
   ]
  },
  {
   "cell_type": "code",
   "execution_count": 87,
   "metadata": {
    "scrolled": true
   },
   "outputs": [
    {
     "name": "stdout",
     "output_type": "stream",
     "text": [
      "INFO:tensorflow:Using default config.\n",
      "INFO:tensorflow:Using config: {}\n",
      "WARNING:tensorflow:From /nix/store/b40ycsj8wbpycx6gch3bb055mlgr4jml-python3-3.5.4-env/lib/python3.5/site-packages/tensorflow/contrib/learn/python/learn/monitors.py:267: BaseMonitor.__init__ (from tensorflow.contrib.learn.python.learn.monitors) is deprecated and will be removed after 2016-12-05.\n",
      "Instructions for updating:\n",
      "Monitors are deprecated. Please use tf.train.SessionRunHook.\n",
      "INFO:tensorflow:Create CheckpointSaverHook.\n",
      "INFO:tensorflow:Restoring parameters from ./ann_model_dir/model.ckpt-1\n",
      "INFO:tensorflow:Saving checkpoints for 2 into ./ann_model_dir/model.ckpt.\n",
      "INFO:tensorflow:loss = 1.01059353352, step = 2\n"
     ]
    },
    {
     "ename": "TypeError",
     "evalue": "evaluate() got an unexpected keyword argument 'x'",
     "output_type": "error",
     "traceback": [
      "\u001b[0;31m---------------------------------------------------------------------------\u001b[0m",
      "\u001b[0;31mTypeError\u001b[0m                                 Traceback (most recent call last)",
      "\u001b[0;32m<ipython-input-87-867daf489739>\u001b[0m in \u001b[0;36m<module>\u001b[0;34m()\u001b[0m\n\u001b[1;32m     23\u001b[0m \u001b[0;34m\u001b[0m\u001b[0m\n\u001b[1;32m     24\u001b[0m \u001b[0;31m# TypeError: evaluate() got an unexpected keyword argument 'x'\u001b[0m\u001b[0;34m\u001b[0m\u001b[0;34m\u001b[0m\u001b[0m\n\u001b[0;32m---> 25\u001b[0;31m \u001b[0mnn\u001b[0m\u001b[0;34m.\u001b[0m\u001b[0mtrain\u001b[0m\u001b[0;34m(\u001b[0m\u001b[0minput_fn\u001b[0m\u001b[0;34m=\u001b[0m\u001b[0mtrain_input_fn\u001b[0m\u001b[0;34m,\u001b[0m \u001b[0mhooks\u001b[0m\u001b[0;34m=\u001b[0m\u001b[0mhooks\u001b[0m\u001b[0;34m)\u001b[0m\u001b[0;34m\u001b[0m\u001b[0m\n\u001b[0m",
      "\u001b[0;32m/nix/store/b40ycsj8wbpycx6gch3bb055mlgr4jml-python3-3.5.4-env/lib/python3.5/site-packages/tensorflow/python/estimator/estimator.py\u001b[0m in \u001b[0;36mtrain\u001b[0;34m(self, input_fn, hooks, steps, max_steps)\u001b[0m\n\u001b[1;32m    215\u001b[0m       \u001b[0mhooks\u001b[0m\u001b[0;34m.\u001b[0m\u001b[0mappend\u001b[0m\u001b[0;34m(\u001b[0m\u001b[0mtraining\u001b[0m\u001b[0;34m.\u001b[0m\u001b[0mStopAtStepHook\u001b[0m\u001b[0;34m(\u001b[0m\u001b[0msteps\u001b[0m\u001b[0;34m,\u001b[0m \u001b[0mmax_steps\u001b[0m\u001b[0;34m)\u001b[0m\u001b[0;34m)\u001b[0m\u001b[0;34m\u001b[0m\u001b[0m\n\u001b[1;32m    216\u001b[0m \u001b[0;34m\u001b[0m\u001b[0m\n\u001b[0;32m--> 217\u001b[0;31m     \u001b[0mloss\u001b[0m \u001b[0;34m=\u001b[0m \u001b[0mself\u001b[0m\u001b[0;34m.\u001b[0m\u001b[0m_train_model\u001b[0m\u001b[0;34m(\u001b[0m\u001b[0minput_fn\u001b[0m\u001b[0;34m=\u001b[0m\u001b[0minput_fn\u001b[0m\u001b[0;34m,\u001b[0m \u001b[0mhooks\u001b[0m\u001b[0;34m=\u001b[0m\u001b[0mhooks\u001b[0m\u001b[0;34m)\u001b[0m\u001b[0;34m\u001b[0m\u001b[0m\n\u001b[0m\u001b[1;32m    218\u001b[0m     \u001b[0mlogging\u001b[0m\u001b[0;34m.\u001b[0m\u001b[0minfo\u001b[0m\u001b[0;34m(\u001b[0m\u001b[0;34m'Loss for final step: %s.'\u001b[0m\u001b[0;34m,\u001b[0m \u001b[0mloss\u001b[0m\u001b[0;34m)\u001b[0m\u001b[0;34m\u001b[0m\u001b[0m\n\u001b[1;32m    219\u001b[0m     \u001b[0;32mreturn\u001b[0m \u001b[0mself\u001b[0m\u001b[0;34m\u001b[0m\u001b[0m\n",
      "\u001b[0;32m/nix/store/b40ycsj8wbpycx6gch3bb055mlgr4jml-python3-3.5.4-env/lib/python3.5/site-packages/tensorflow/python/estimator/estimator.py\u001b[0m in \u001b[0;36m_train_model\u001b[0;34m(self, input_fn, hooks)\u001b[0m\n\u001b[1;32m    578\u001b[0m         \u001b[0mloss\u001b[0m \u001b[0;34m=\u001b[0m \u001b[0;32mNone\u001b[0m\u001b[0;34m\u001b[0m\u001b[0m\n\u001b[1;32m    579\u001b[0m         \u001b[0;32mwhile\u001b[0m \u001b[0;32mnot\u001b[0m \u001b[0mmon_sess\u001b[0m\u001b[0;34m.\u001b[0m\u001b[0mshould_stop\u001b[0m\u001b[0;34m(\u001b[0m\u001b[0;34m)\u001b[0m\u001b[0;34m:\u001b[0m\u001b[0;34m\u001b[0m\u001b[0m\n\u001b[0;32m--> 580\u001b[0;31m           \u001b[0m_\u001b[0m\u001b[0;34m,\u001b[0m \u001b[0mloss\u001b[0m \u001b[0;34m=\u001b[0m \u001b[0mmon_sess\u001b[0m\u001b[0;34m.\u001b[0m\u001b[0mrun\u001b[0m\u001b[0;34m(\u001b[0m\u001b[0;34m[\u001b[0m\u001b[0mestimator_spec\u001b[0m\u001b[0;34m.\u001b[0m\u001b[0mtrain_op\u001b[0m\u001b[0;34m,\u001b[0m \u001b[0mestimator_spec\u001b[0m\u001b[0;34m.\u001b[0m\u001b[0mloss\u001b[0m\u001b[0;34m]\u001b[0m\u001b[0;34m)\u001b[0m\u001b[0;34m\u001b[0m\u001b[0m\n\u001b[0m\u001b[1;32m    581\u001b[0m       \u001b[0;32mreturn\u001b[0m \u001b[0mloss\u001b[0m\u001b[0;34m\u001b[0m\u001b[0m\n\u001b[1;32m    582\u001b[0m \u001b[0;34m\u001b[0m\u001b[0m\n",
      "\u001b[0;32m/nix/store/b40ycsj8wbpycx6gch3bb055mlgr4jml-python3-3.5.4-env/lib/python3.5/site-packages/tensorflow/python/training/monitored_session.py\u001b[0m in \u001b[0;36mrun\u001b[0;34m(self, fetches, feed_dict, options, run_metadata)\u001b[0m\n\u001b[1;32m    482\u001b[0m                           \u001b[0mfeed_dict\u001b[0m\u001b[0;34m=\u001b[0m\u001b[0mfeed_dict\u001b[0m\u001b[0;34m,\u001b[0m\u001b[0;34m\u001b[0m\u001b[0m\n\u001b[1;32m    483\u001b[0m                           \u001b[0moptions\u001b[0m\u001b[0;34m=\u001b[0m\u001b[0moptions\u001b[0m\u001b[0;34m,\u001b[0m\u001b[0;34m\u001b[0m\u001b[0m\n\u001b[0;32m--> 484\u001b[0;31m                           run_metadata=run_metadata)\n\u001b[0m\u001b[1;32m    485\u001b[0m \u001b[0;34m\u001b[0m\u001b[0m\n\u001b[1;32m    486\u001b[0m   \u001b[0;32mdef\u001b[0m \u001b[0mshould_stop\u001b[0m\u001b[0;34m(\u001b[0m\u001b[0mself\u001b[0m\u001b[0;34m)\u001b[0m\u001b[0;34m:\u001b[0m\u001b[0;34m\u001b[0m\u001b[0m\n",
      "\u001b[0;32m/nix/store/b40ycsj8wbpycx6gch3bb055mlgr4jml-python3-3.5.4-env/lib/python3.5/site-packages/tensorflow/python/training/monitored_session.py\u001b[0m in \u001b[0;36mrun\u001b[0;34m(self, fetches, feed_dict, options, run_metadata)\u001b[0m\n\u001b[1;32m    818\u001b[0m                               \u001b[0mfeed_dict\u001b[0m\u001b[0;34m=\u001b[0m\u001b[0mfeed_dict\u001b[0m\u001b[0;34m,\u001b[0m\u001b[0;34m\u001b[0m\u001b[0m\n\u001b[1;32m    819\u001b[0m                               \u001b[0moptions\u001b[0m\u001b[0;34m=\u001b[0m\u001b[0moptions\u001b[0m\u001b[0;34m,\u001b[0m\u001b[0;34m\u001b[0m\u001b[0m\n\u001b[0;32m--> 820\u001b[0;31m                               run_metadata=run_metadata)\n\u001b[0m\u001b[1;32m    821\u001b[0m       \u001b[0;32mexcept\u001b[0m \u001b[0m_PREEMPTION_ERRORS\u001b[0m \u001b[0;32mas\u001b[0m \u001b[0me\u001b[0m\u001b[0;34m:\u001b[0m\u001b[0;34m\u001b[0m\u001b[0m\n\u001b[1;32m    822\u001b[0m         logging.info('An error was raised. This may be due to a preemption in '\n",
      "\u001b[0;32m/nix/store/b40ycsj8wbpycx6gch3bb055mlgr4jml-python3-3.5.4-env/lib/python3.5/site-packages/tensorflow/python/training/monitored_session.py\u001b[0m in \u001b[0;36mrun\u001b[0;34m(self, *args, **kwargs)\u001b[0m\n\u001b[1;32m    774\u001b[0m \u001b[0;34m\u001b[0m\u001b[0m\n\u001b[1;32m    775\u001b[0m   \u001b[0;32mdef\u001b[0m \u001b[0mrun\u001b[0m\u001b[0;34m(\u001b[0m\u001b[0mself\u001b[0m\u001b[0;34m,\u001b[0m \u001b[0;34m*\u001b[0m\u001b[0margs\u001b[0m\u001b[0;34m,\u001b[0m \u001b[0;34m**\u001b[0m\u001b[0mkwargs\u001b[0m\u001b[0;34m)\u001b[0m\u001b[0;34m:\u001b[0m\u001b[0;34m\u001b[0m\u001b[0m\n\u001b[0;32m--> 776\u001b[0;31m     \u001b[0;32mreturn\u001b[0m \u001b[0mself\u001b[0m\u001b[0;34m.\u001b[0m\u001b[0m_sess\u001b[0m\u001b[0;34m.\u001b[0m\u001b[0mrun\u001b[0m\u001b[0;34m(\u001b[0m\u001b[0;34m*\u001b[0m\u001b[0margs\u001b[0m\u001b[0;34m,\u001b[0m \u001b[0;34m**\u001b[0m\u001b[0mkwargs\u001b[0m\u001b[0;34m)\u001b[0m\u001b[0;34m\u001b[0m\u001b[0m\n\u001b[0m\u001b[1;32m    777\u001b[0m \u001b[0;34m\u001b[0m\u001b[0m\n\u001b[1;32m    778\u001b[0m \u001b[0;34m\u001b[0m\u001b[0m\n",
      "\u001b[0;32m/nix/store/b40ycsj8wbpycx6gch3bb055mlgr4jml-python3-3.5.4-env/lib/python3.5/site-packages/tensorflow/python/training/monitored_session.py\u001b[0m in \u001b[0;36mrun\u001b[0;34m(self, fetches, feed_dict, options, run_metadata)\u001b[0m\n\u001b[1;32m    936\u001b[0m               \u001b[0mresults\u001b[0m\u001b[0;34m=\u001b[0m\u001b[0moutputs\u001b[0m\u001b[0;34m[\u001b[0m\u001b[0mhook\u001b[0m\u001b[0;34m]\u001b[0m \u001b[0;32mif\u001b[0m \u001b[0mhook\u001b[0m \u001b[0;32min\u001b[0m \u001b[0moutputs\u001b[0m \u001b[0;32melse\u001b[0m \u001b[0;32mNone\u001b[0m\u001b[0;34m,\u001b[0m\u001b[0;34m\u001b[0m\u001b[0m\n\u001b[1;32m    937\u001b[0m               \u001b[0moptions\u001b[0m\u001b[0;34m=\u001b[0m\u001b[0moptions\u001b[0m\u001b[0;34m,\u001b[0m\u001b[0;34m\u001b[0m\u001b[0m\n\u001b[0;32m--> 938\u001b[0;31m               run_metadata=run_metadata))\n\u001b[0m\u001b[1;32m    939\u001b[0m     \u001b[0mself\u001b[0m\u001b[0;34m.\u001b[0m\u001b[0m_should_stop\u001b[0m \u001b[0;34m=\u001b[0m \u001b[0mself\u001b[0m\u001b[0;34m.\u001b[0m\u001b[0m_should_stop\u001b[0m \u001b[0;32mor\u001b[0m \u001b[0mrun_context\u001b[0m\u001b[0;34m.\u001b[0m\u001b[0mstop_requested\u001b[0m\u001b[0;34m\u001b[0m\u001b[0m\n\u001b[1;32m    940\u001b[0m \u001b[0;34m\u001b[0m\u001b[0m\n",
      "\u001b[0;32m/nix/store/b40ycsj8wbpycx6gch3bb055mlgr4jml-python3-3.5.4-env/lib/python3.5/site-packages/tensorflow/contrib/learn/python/learn/monitors.py\u001b[0m in \u001b[0;36mafter_run\u001b[0;34m(self, run_context, run_values)\u001b[0m\n\u001b[1;32m   1153\u001b[0m         \"monitors\"] if \"monitors\" in run_values.results else {}\n\u001b[1;32m   1154\u001b[0m     \u001b[0;32mfor\u001b[0m \u001b[0mm\u001b[0m \u001b[0;32min\u001b[0m \u001b[0mself\u001b[0m\u001b[0;34m.\u001b[0m\u001b[0m_monitors\u001b[0m\u001b[0;34m:\u001b[0m\u001b[0;34m\u001b[0m\u001b[0m\n\u001b[0;32m-> 1155\u001b[0;31m       \u001b[0minduce_stop\u001b[0m \u001b[0;34m=\u001b[0m \u001b[0mm\u001b[0m\u001b[0;34m.\u001b[0m\u001b[0mstep_end\u001b[0m\u001b[0;34m(\u001b[0m\u001b[0mself\u001b[0m\u001b[0;34m.\u001b[0m\u001b[0m_last_step\u001b[0m\u001b[0;34m,\u001b[0m \u001b[0mresult\u001b[0m\u001b[0;34m)\u001b[0m\u001b[0;34m\u001b[0m\u001b[0m\n\u001b[0m\u001b[1;32m   1156\u001b[0m       \u001b[0;32mif\u001b[0m \u001b[0minduce_stop\u001b[0m\u001b[0;34m:\u001b[0m\u001b[0;34m\u001b[0m\u001b[0m\n\u001b[1;32m   1157\u001b[0m         \u001b[0mrun_context\u001b[0m\u001b[0;34m.\u001b[0m\u001b[0mrequest_stop\u001b[0m\u001b[0;34m(\u001b[0m\u001b[0;34m)\u001b[0m\u001b[0;34m\u001b[0m\u001b[0m\n",
      "\u001b[0;32m/nix/store/b40ycsj8wbpycx6gch3bb055mlgr4jml-python3-3.5.4-env/lib/python3.5/site-packages/tensorflow/contrib/learn/python/learn/monitors.py\u001b[0m in \u001b[0;36mstep_end\u001b[0;34m(self, step, output)\u001b[0m\n\u001b[1;32m    354\u001b[0m     \u001b[0msuper\u001b[0m\u001b[0;34m(\u001b[0m\u001b[0mEveryN\u001b[0m\u001b[0;34m,\u001b[0m \u001b[0mself\u001b[0m\u001b[0;34m)\u001b[0m\u001b[0;34m.\u001b[0m\u001b[0mstep_end\u001b[0m\u001b[0;34m(\u001b[0m\u001b[0mstep\u001b[0m\u001b[0;34m,\u001b[0m \u001b[0moutput\u001b[0m\u001b[0;34m)\u001b[0m\u001b[0;34m\u001b[0m\u001b[0m\n\u001b[1;32m    355\u001b[0m     \u001b[0;32mif\u001b[0m \u001b[0mself\u001b[0m\u001b[0;34m.\u001b[0m\u001b[0m_every_n_step_begin_called\u001b[0m\u001b[0;34m:\u001b[0m\u001b[0;34m\u001b[0m\u001b[0m\n\u001b[0;32m--> 356\u001b[0;31m       \u001b[0;32mreturn\u001b[0m \u001b[0mself\u001b[0m\u001b[0;34m.\u001b[0m\u001b[0mevery_n_step_end\u001b[0m\u001b[0;34m(\u001b[0m\u001b[0mstep\u001b[0m\u001b[0;34m,\u001b[0m \u001b[0moutput\u001b[0m\u001b[0;34m)\u001b[0m\u001b[0;34m\u001b[0m\u001b[0m\n\u001b[0m\u001b[1;32m    357\u001b[0m     \u001b[0;32mreturn\u001b[0m \u001b[0;32mFalse\u001b[0m\u001b[0;34m\u001b[0m\u001b[0m\n\u001b[1;32m    358\u001b[0m \u001b[0;34m\u001b[0m\u001b[0m\n",
      "\u001b[0;32m/nix/store/b40ycsj8wbpycx6gch3bb055mlgr4jml-python3-3.5.4-env/lib/python3.5/site-packages/tensorflow/contrib/learn/python/learn/monitors.py\u001b[0m in \u001b[0;36mevery_n_step_end\u001b[0;34m(self, step, outputs)\u001b[0m\n\u001b[1;32m    660\u001b[0m         \u001b[0mx\u001b[0m\u001b[0;34m=\u001b[0m\u001b[0mself\u001b[0m\u001b[0;34m.\u001b[0m\u001b[0mx\u001b[0m\u001b[0;34m,\u001b[0m \u001b[0my\u001b[0m\u001b[0;34m=\u001b[0m\u001b[0mself\u001b[0m\u001b[0;34m.\u001b[0m\u001b[0my\u001b[0m\u001b[0;34m,\u001b[0m \u001b[0minput_fn\u001b[0m\u001b[0;34m=\u001b[0m\u001b[0mself\u001b[0m\u001b[0;34m.\u001b[0m\u001b[0minput_fn\u001b[0m\u001b[0;34m,\u001b[0m \u001b[0mbatch_size\u001b[0m\u001b[0;34m=\u001b[0m\u001b[0mself\u001b[0m\u001b[0;34m.\u001b[0m\u001b[0mbatch_size\u001b[0m\u001b[0;34m,\u001b[0m\u001b[0;34m\u001b[0m\u001b[0m\n\u001b[1;32m    661\u001b[0m         \u001b[0msteps\u001b[0m\u001b[0;34m=\u001b[0m\u001b[0mself\u001b[0m\u001b[0;34m.\u001b[0m\u001b[0meval_steps\u001b[0m\u001b[0;34m,\u001b[0m \u001b[0mmetrics\u001b[0m\u001b[0;34m=\u001b[0m\u001b[0mself\u001b[0m\u001b[0;34m.\u001b[0m\u001b[0mmetrics\u001b[0m\u001b[0;34m,\u001b[0m \u001b[0mhooks\u001b[0m\u001b[0;34m=\u001b[0m\u001b[0mself\u001b[0m\u001b[0;34m.\u001b[0m\u001b[0mhooks\u001b[0m\u001b[0;34m,\u001b[0m\u001b[0;34m\u001b[0m\u001b[0m\n\u001b[0;32m--> 662\u001b[0;31m         name=self.name)\n\u001b[0m\u001b[1;32m    663\u001b[0m     \u001b[0mstats\u001b[0m \u001b[0;34m=\u001b[0m \u001b[0;34m[\u001b[0m\u001b[0;34m]\u001b[0m\u001b[0;34m\u001b[0m\u001b[0m\n\u001b[1;32m    664\u001b[0m     \u001b[0;32mfor\u001b[0m \u001b[0mname\u001b[0m \u001b[0;32min\u001b[0m \u001b[0mvalidation_outputs\u001b[0m\u001b[0;34m:\u001b[0m\u001b[0;34m\u001b[0m\u001b[0m\n",
      "\u001b[0;31mTypeError\u001b[0m: evaluate() got an unexpected keyword argument 'x'"
     ]
    }
   ],
   "source": [
    "nn = tf.estimator.Estimator(\n",
    "    model_fn=ann_model_fn,\n",
    "    params={\"learning_rate\": 0.02, \"n_classes\": 6, \"hidden_units\": 300},\n",
    "    model_dir=\"./ann_model_dir/\"\n",
    ")\n",
    "\n",
    "#hook = AccuracyHook(nn, valid_X, valid_y)\n",
    "\n",
    "train_input_fn = tf.estimator.inputs.numpy_input_fn(\n",
    "    x={\"x\": train_X.values},\n",
    "    y=train_y.values - 1,\n",
    "    num_epochs=500,\n",
    "    shuffle=False)\n",
    "\n",
    "test_input_fn = tf.estimator.inputs.numpy_input_fn(\n",
    "    x={\"x\": valid_X.values},\n",
    "    y=valid_y.values - 1,\n",
    "    num_epochs=1,\n",
    "    shuffle=False)\n",
    "\n",
    "# I am trying to use the below to monitor validation accuracy\n",
    "# in tensorboard, but nn.train then fails with:\n",
    "# TypeError: evaluate() got an unexpected keyword argument 'x'\n",
    "# This is including if I change input_fn argument to x/y.\n",
    "valmon = tf.contrib.learn.monitors.ValidationMonitor(input_fn=test_input_fn)\n",
    "hooks = tf.contrib.learn.monitors.replace_monitors_with_hooks([valmon], nn)\n",
    "\n",
    "nn.train(input_fn=train_input_fn) # , hooks=hooks)"
   ]
  },
  {
   "cell_type": "code",
   "execution_count": 81,
   "metadata": {},
   "outputs": [
    {
     "name": "stdout",
     "output_type": "stream",
     "text": [
      "INFO:tensorflow:Starting evaluation at 2017-11-25-20:31:57\n",
      "INFO:tensorflow:Restoring parameters from ./ann_model_dir/model.ckpt-21540\n",
      "INFO:tensorflow:Finished evaluation at 2017-11-25-20:31:57\n",
      "INFO:tensorflow:Saving dict for global step 21540: accuracy = 0.990207, global_step = 21540, loss = 0.0267968\n",
      "WARNING:tensorflow:Skipping summary for global_step, must be a float or np.float32.\n",
      "Loss: 0.0267968\n",
      "Validation accuracy: 0.990207\n"
     ]
    }
   ],
   "source": [
    "\n",
    "ev = nn.evaluate(input_fn=test_input_fn)\n",
    "print(\"Loss: %s\" % ev[\"loss\"])\n",
    "print(\"Validation accuracy: %s\" % ev[\"accuracy\"])"
   ]
  },
  {
   "cell_type": "code",
   "execution_count": 47,
   "metadata": {
    "scrolled": true
   },
   "outputs": [
    {
     "name": "stdout",
     "output_type": "stream",
     "text": [
      "INFO:tensorflow:Starting evaluation at 2017-11-23-14:00:49\n",
      "INFO:tensorflow:Restoring parameters from /run/user/1000/tmpq1fmgimz/model.ckpt-17232\n",
      "INFO:tensorflow:Finished evaluation at 2017-11-23-14:00:49\n",
      "INFO:tensorflow:Saving dict for global step 17232: accuracy = 0.988575, global_step = 17232, loss = 0.0292395\n",
      "WARNING:tensorflow:Skipping summary for global_step, must be a float or np.float32.\n",
      "Loss: 0.0292395\n",
      "Validation accuracy: 0.988575\n"
     ]
    }
   ],
   "source": [
    "# learning rate 0.02, 400 epochs, 200 units\n",
    "# Score accuracy\n",
    "test_input_fn = tf.estimator.inputs.numpy_input_fn(\n",
    "    x={\"x\": valid_X.values},\n",
    "    y=valid_y.values - 1,\n",
    "    num_epochs=1,\n",
    "    shuffle=False)\n",
    "\n",
    "ev = nn.evaluate(input_fn=test_input_fn)\n",
    "print(\"Loss: %s\" % ev[\"loss\"])\n",
    "print(\"Validation accuracy: %s\" % ev[\"accuracy\"])"
   ]
  },
  {
   "cell_type": "code",
   "execution_count": 36,
   "metadata": {},
   "outputs": [
    {
     "name": "stdout",
     "output_type": "stream",
     "text": [
      "INFO:tensorflow:Restoring parameters from /run/user/1000/tmpkyh0lvvi/model.ckpt-4308\n"
     ]
    },
    {
     "data": {
      "text/html": [
       "<div>\n",
       "<style>\n",
       "    .dataframe thead tr:only-child th {\n",
       "        text-align: right;\n",
       "    }\n",
       "\n",
       "    .dataframe thead th {\n",
       "        text-align: left;\n",
       "    }\n",
       "\n",
       "    .dataframe tbody tr th {\n",
       "        vertical-align: top;\n",
       "    }\n",
       "</style>\n",
       "<table border=\"1\" class=\"dataframe\">\n",
       "  <thead>\n",
       "    <tr style=\"text-align: right;\">\n",
       "      <th></th>\n",
       "      <th>walking</th>\n",
       "      <th>walking_upstairs</th>\n",
       "      <th>walking_downstairs</th>\n",
       "      <th>sitting</th>\n",
       "      <th>standing</th>\n",
       "      <th>laying</th>\n",
       "    </tr>\n",
       "  </thead>\n",
       "  <tbody>\n",
       "    <tr>\n",
       "      <th>walking</th>\n",
       "      <td>305</td>\n",
       "      <td>0</td>\n",
       "      <td>1</td>\n",
       "      <td>0</td>\n",
       "      <td>0</td>\n",
       "      <td>0</td>\n",
       "    </tr>\n",
       "    <tr>\n",
       "      <th>walking_upstairs</th>\n",
       "      <td>6</td>\n",
       "      <td>262</td>\n",
       "      <td>0</td>\n",
       "      <td>0</td>\n",
       "      <td>0</td>\n",
       "      <td>0</td>\n",
       "    </tr>\n",
       "    <tr>\n",
       "      <th>walking_downstairs</th>\n",
       "      <td>2</td>\n",
       "      <td>0</td>\n",
       "      <td>245</td>\n",
       "      <td>0</td>\n",
       "      <td>0</td>\n",
       "      <td>0</td>\n",
       "    </tr>\n",
       "    <tr>\n",
       "      <th>sitting</th>\n",
       "      <td>0</td>\n",
       "      <td>0</td>\n",
       "      <td>0</td>\n",
       "      <td>310</td>\n",
       "      <td>12</td>\n",
       "      <td>0</td>\n",
       "    </tr>\n",
       "    <tr>\n",
       "      <th>standing</th>\n",
       "      <td>0</td>\n",
       "      <td>0</td>\n",
       "      <td>0</td>\n",
       "      <td>17</td>\n",
       "      <td>326</td>\n",
       "      <td>0</td>\n",
       "    </tr>\n",
       "    <tr>\n",
       "      <th>laying</th>\n",
       "      <td>0</td>\n",
       "      <td>0</td>\n",
       "      <td>0</td>\n",
       "      <td>0</td>\n",
       "      <td>0</td>\n",
       "      <td>352</td>\n",
       "    </tr>\n",
       "  </tbody>\n",
       "</table>\n",
       "</div>"
      ],
      "text/plain": [
       "                    walking  walking_upstairs  walking_downstairs  sitting  \\\n",
       "walking                 305                 0                   1        0   \n",
       "walking_upstairs          6               262                   0        0   \n",
       "walking_downstairs        2                 0                 245        0   \n",
       "sitting                   0                 0                   0      310   \n",
       "standing                  0                 0                   0       17   \n",
       "laying                    0                 0                   0        0   \n",
       "\n",
       "                    standing  laying  \n",
       "walking                    0       0  \n",
       "walking_upstairs           0       0  \n",
       "walking_downstairs         0       0  \n",
       "sitting                   12       0  \n",
       "standing                 326       0  \n",
       "laying                     0     352  "
      ]
     },
     "execution_count": 36,
     "metadata": {},
     "output_type": "execute_result"
    }
   ],
   "source": [
    "valid_y_predict = np.array([i[\"activity\"] for i in nn.predict(test_input_fn)])\n",
    "\n",
    "# Confusion matrix (on validation set):\n",
    "conf = sklearn.metrics.confusion_matrix(valid_y, valid_y_predict + 1)\n",
    "conf = pd.DataFrame(conf, columns=label_list, index=label_list)\n",
    "conf"
   ]
  },
  {
   "cell_type": "markdown",
   "metadata": {},
   "source": [
    "- Note (in the pre-Estimator version) that validation accuracy continues to improve even when training accuracy is at 100%.  The loss function isn't based on this accuracy, but on the softmax probabilities. As far as I understand it: While a given instance will be labeled as correct if it assigns any probability > 0.5 to the correct label (and accuracy is based on this), training can continue to push these probabilities to be higher and form a sharper and sharper boundary between the other labels - and this might be reflected in better generalization.\n",
    "- Errors are of the same sort as logistic regression."
   ]
  },
  {
   "cell_type": "markdown",
   "metadata": {},
   "source": [
    "## kNN"
   ]
  },
  {
   "cell_type": "markdown",
   "metadata": {},
   "source": [
    "### \"Old\" way, before writing an Estimator:"
   ]
  },
  {
   "cell_type": "code",
   "execution_count": 37,
   "metadata": {
    "collapsed": true
   },
   "outputs": [],
   "source": [
    "class KNearestNeighborGraph(object):\n",
    "    \n",
    "    def __init__(self, k, X, y, scope=\"knn\"):\n",
    "        \"\"\"Create a TensorFlow graph for a k nearest neighbor classifier.\n",
    "        This requires no training, but it does require that all of the data\n",
    "        be supplied here in the constructor. Prediction does not do any\n",
    "        weighting; the nearest k neighbors simply vote on a label.\n",
    "        \n",
    "        Memory usage is atrocious on this.  Pass inputs in smaller batches\n",
    "        in 'predict'.\n",
    "        \n",
    "        Arguments:\n",
    "        k -- Number of nearest neighbors to use\n",
    "        X -- Input data (should be a NumPy array)\n",
    "        y -- Input labels (must have same length as X)\n",
    "        \"\"\"\n",
    "        with tf.variable_scope(scope):\n",
    "            self.example = tf.placeholder(tf.float32, [None, X.shape[1]])\n",
    "            # All data & labels must be stored:\n",
    "            self.y = tf.convert_to_tensor(y)\n",
    "            X = tf.convert_to_tensor(X, dtype=np.float32)\n",
    "            # However, add a degenerate dimension to X and the example\n",
    "            # so that it does a sort of 'outer' broadcast (and gives us\n",
    "            # every pairwise difference in dist2):\n",
    "            self.X_ = tf.expand_dims(X, 0)\n",
    "            example_ = tf.expand_dims(self.example, 1)\n",
    "            # Everything is based on squared Euclidean distance\n",
    "            # between the input point, and every data point in X:\n",
    "            dist2 = tf.reduce_sum((self.X_ - example_)**2, axis=2)\n",
    "            if k == 1:\n",
    "                # k=1 requires no voting, just label of min-distance point:\n",
    "                self.predict_node = tf.gather(self.y, tf.argmin(dist2, axis=1))\n",
    "            else:\n",
    "                # The below relies on some functions that work only on certain\n",
    "                # dimensions, so map_fn is used to run it across each row:\n",
    "                def single_knn(dist2_row):\n",
    "                    # For each input row, get indices of the k\n",
    "                    # nearest neighbors:\n",
    "                    _, predict_idxs = tf.nn.top_k(-dist2_row, k=k)\n",
    "                    # (Note negation of dist2 - top_k does *descending* sort.)\n",
    "                    # And respective k labels of those k indices:\n",
    "                    self.predict_y = tf.gather(self.y, predict_idxs)\n",
    "                    # Tally them up:\n",
    "                    ys, _, num_y = tf.unique_with_counts(self.predict_y)\n",
    "                    # Find most common one:\n",
    "                    return tf.gather(ys, tf.argmax(num_y))\n",
    "                self.predict_node = tf.map_fn(single_knn, dist2, dtype=tf.int64)\n",
    "        # TODO: Make tie-breaking behavior more helpful. In the event of a tie\n",
    "        # of distance, guess argmin and top_k likely pick the sample with the\n",
    "        # lower index, which would bias towards a specific ordering of the data\n",
    "        # (which should be irrelevant).  In the event of a tie in the voting for\n",
    "        # labels, argmax will likewise pick the label that appears first, which\n",
    "        # may bias either towards the lower-numbered label or the ordering of\n",
    "        # the data (likewise, both irrelevant).\n",
    "\n",
    "    def predict(self, session, X_in):\n",
    "        \"\"\"Predict given a *single* input point.\"\"\"\n",
    "        return session.run(self.predict_node, {self.example: X_in})"
   ]
  },
  {
   "cell_type": "code",
   "execution_count": 38,
   "metadata": {},
   "outputs": [
    {
     "name": "stdout",
     "output_type": "stream",
     "text": [
      "...............................................................................................................\n",
      ".....................................\n",
      "Training/validation accuracy: 100.000%, 98.313%\n"
     ]
    }
   ],
   "source": [
    "tf.reset_default_graph()\n",
    "knn = KNearestNeighborGraph(1, train_X.values, train_y.values)\n",
    "import sys\n",
    "with tf.Session() as session:\n",
    "    init = tf.global_variables_initializer()\n",
    "    session.run(init)\n",
    "    # Evaluate accuracy:\n",
    "    train_y_predict = np.zeros((train_X.shape[0]))\n",
    "    batch_size = 50\n",
    "    for b in range(train_X.shape[0] // batch_size + 1):\n",
    "        sys.stdout.write(\".\")\n",
    "        sys.stdout.flush()\n",
    "        i0 = b * batch_size\n",
    "        i1 = (b + 1) * batch_size\n",
    "        train_y_predict[i0:i1] = knn.predict(session, train_X.iloc[i0:i1, :])\n",
    "    valid_y_predict = np.zeros((valid_X.shape[0]))\n",
    "    print()\n",
    "    for b in range(valid_X.shape[0] // batch_size + 1):\n",
    "        sys.stdout.write(\".\")\n",
    "        sys.stdout.flush()\n",
    "        i0 = b * batch_size\n",
    "        i1 = (b + 1) * batch_size\n",
    "        valid_y_predict[i0:i1] = knn.predict(session, valid_X.iloc[i0:i1, :])\n",
    "    print()\n",
    "    #train_y_predict = knn.predict(session, train_X)\n",
    "    #valid_y_predict = knn.predict(session, valid_X)\n",
    "    train_acc = sklearn.metrics.accuracy_score(train_y, train_y_predict)\n",
    "    valid_acc = sklearn.metrics.accuracy_score(valid_y, valid_y_predict)\n",
    "    print(\"Training/validation accuracy: {0:.3f}%, {1:.3f}%\".format(\n",
    "        100*train_acc, 100*valid_acc))"
   ]
  },
  {
   "cell_type": "markdown",
   "metadata": {},
   "source": [
    "### Implemented with Estimator and model function:"
   ]
  },
  {
   "cell_type": "code",
   "execution_count": 39,
   "metadata": {
    "collapsed": true
   },
   "outputs": [],
   "source": [
    "def knn_model_fn(features, labels, mode, params):\n",
    "    k = params[\"k\"]\n",
    "    # All data & labels must be stored:\n",
    "    y = tf.convert_to_tensor(params[\"y\"])\n",
    "    X = tf.convert_to_tensor(params[\"X\"], dtype=np.float32)\n",
    "    # However, add a degenerate dimension to X and the input\n",
    "    # so that it does a sort of 'outer' broadcast (and gives us\n",
    "    # every pairwise difference in dist2):\n",
    "    X_ = tf.expand_dims(X, 0)\n",
    "    X_in = tf.expand_dims(features[\"x\"], 1)\n",
    "    # Everything is based on squared Euclidean distance\n",
    "    # between the input point, and every data point in X:\n",
    "    dist2 = tf.reduce_sum((X_ - X_in)**2, axis=2)\n",
    "    if k == 1:\n",
    "        # k=1 requires no voting, just label of min-distance point:\n",
    "        predictions = tf.gather(y, tf.argmin(dist2, axis=1))\n",
    "    else:\n",
    "        # The below relies on some functions that work only on certain\n",
    "        # dimensions, so map_fn is used to run it across each row:\n",
    "        def single_knn(dist2_row):\n",
    "            # For each input row, get indices of the k\n",
    "            # nearest neighbors:\n",
    "            _, predict_idxs = tf.nn.top_k(-dist2_row, k=k)\n",
    "            # (Note negation of dist2 - top_k does *descending* sort.)\n",
    "            # And respective k labels of those k indices:\n",
    "            predict_y = tf.gather(y, predict_idxs)\n",
    "            # Tally them up:\n",
    "            ys, _, num_y = tf.unique_with_counts(predict_y)\n",
    "            # Find most common one:\n",
    "            return tf.gather(ys, tf.argmax(num_y))\n",
    "        predictions = tf.map_fn(single_knn, dist2, dtype=tf.int64)\n",
    "    # TODO: Make tie-breaking behavior more helpful. In the event of a tie\n",
    "    # of distance, guess argmin and top_k likely pick the sample with the\n",
    "    # lower index, which would bias towards a specific ordering of the data\n",
    "    # (which should be irrelevant).  In the event of a tie in the voting for\n",
    "    # labels, argmax will likewise pick the label that appears first, which\n",
    "    # may bias either towards the lower-numbered label or the ordering of\n",
    "    # the data (likewise, both irrelevant).\n",
    "    \n",
    "    if mode == tf.estimator.ModeKeys.PREDICT:\n",
    "        return tf.estimator.EstimatorSpec(\n",
    "            mode=mode, predictions={\"activity\": predictions})\n",
    "    else:\n",
    "        onehot_labels = tf.one_hot(labels, params[\"n_classes\"])\n",
    "        # The below is irrelevant, but it appears I must have it for EstimatorSpec:\n",
    "        loss = tf.losses.absolute_difference(labels, predictions)\n",
    "        eval_metric_ops = {\n",
    "            \"accuracy\": tf.metrics.accuracy(labels=labels, predictions=predictions)\n",
    "        }\n",
    "        return tf.estimator.EstimatorSpec(\n",
    "            mode=mode,\n",
    "            train_op=tf.no_op(),\n",
    "            loss=loss,\n",
    "            eval_metric_ops=eval_metric_ops)"
   ]
  },
  {
   "cell_type": "code",
   "execution_count": 40,
   "metadata": {},
   "outputs": [
    {
     "name": "stdout",
     "output_type": "stream",
     "text": [
      "WARNING:tensorflow:Using temporary folder as model directory: /run/user/1000/tmpufecxxg8\n",
      "INFO:tensorflow:Using default config.\n",
      "INFO:tensorflow:Using config: {}\n",
      "INFO:tensorflow:Create CheckpointSaverHook.\n",
      "INFO:tensorflow:Saving checkpoints for 0 into /run/user/1000/tmpufecxxg8/model.ckpt.\n",
      "INFO:tensorflow:Loss for final step: None.\n",
      "INFO:tensorflow:Starting evaluation at 2017-11-23-00:14:13\n",
      "INFO:tensorflow:Restoring parameters from /run/user/1000/tmpufecxxg8/model.ckpt-0\n",
      "INFO:tensorflow:Finished evaluation at 2017-11-23-00:16:21\n",
      "INFO:tensorflow:Saving dict for global step 0: accuracy = 0.983134, global_step = 0, loss = 0.0220562\n",
      "WARNING:tensorflow:Skipping summary for global_step, must be a float or np.float32.\n",
      "Loss: 0.0220562\n",
      "Validation accuracy: 0.983134\n"
     ]
    }
   ],
   "source": [
    "knn = tf.estimator.Estimator(\n",
    "    model_fn=knn_model_fn,\n",
    "    params={\"k\": 1, \"X\": train_X.values, \"y\": train_y.values, \"n_classes\": 6},\n",
    ")\n",
    "\n",
    "train_input_fn = tf.estimator.inputs.numpy_input_fn(\n",
    "    x={\"x\": train_X.values.astype(np.float32)},\n",
    "    y=train_y.values,\n",
    "    num_epochs=0,\n",
    "    shuffle=False)\n",
    "knn.train(input_fn=train_input_fn)\n",
    "\n",
    "# Score accuracy\n",
    "test_input_fn = tf.estimator.inputs.numpy_input_fn(\n",
    "    x={\"x\": valid_X.values.astype(np.float32)},\n",
    "    y=valid_y.values,\n",
    "    num_epochs=1,\n",
    "    shuffle=False)\n",
    "\n",
    "ev = knn.evaluate(input_fn=test_input_fn)\n",
    "print(\"Loss: %s\" % ev[\"loss\"])\n",
    "print(\"Validation accuracy: %s\" % ev[\"accuracy\"])"
   ]
  },
  {
   "cell_type": "code",
   "execution_count": 41,
   "metadata": {},
   "outputs": [
    {
     "name": "stdout",
     "output_type": "stream",
     "text": [
      "INFO:tensorflow:Restoring parameters from /run/user/1000/tmpufecxxg8/model.ckpt-0\n"
     ]
    },
    {
     "data": {
      "text/html": [
       "<div>\n",
       "<style>\n",
       "    .dataframe thead tr:only-child th {\n",
       "        text-align: right;\n",
       "    }\n",
       "\n",
       "    .dataframe thead th {\n",
       "        text-align: left;\n",
       "    }\n",
       "\n",
       "    .dataframe tbody tr th {\n",
       "        vertical-align: top;\n",
       "    }\n",
       "</style>\n",
       "<table border=\"1\" class=\"dataframe\">\n",
       "  <thead>\n",
       "    <tr style=\"text-align: right;\">\n",
       "      <th></th>\n",
       "      <th>walking</th>\n",
       "      <th>walking_upstairs</th>\n",
       "      <th>walking_downstairs</th>\n",
       "      <th>sitting</th>\n",
       "      <th>standing</th>\n",
       "      <th>laying</th>\n",
       "    </tr>\n",
       "  </thead>\n",
       "  <tbody>\n",
       "    <tr>\n",
       "      <th>walking</th>\n",
       "      <td>305</td>\n",
       "      <td>0</td>\n",
       "      <td>1</td>\n",
       "      <td>0</td>\n",
       "      <td>0</td>\n",
       "      <td>0</td>\n",
       "    </tr>\n",
       "    <tr>\n",
       "      <th>walking_upstairs</th>\n",
       "      <td>6</td>\n",
       "      <td>262</td>\n",
       "      <td>0</td>\n",
       "      <td>0</td>\n",
       "      <td>0</td>\n",
       "      <td>0</td>\n",
       "    </tr>\n",
       "    <tr>\n",
       "      <th>walking_downstairs</th>\n",
       "      <td>5</td>\n",
       "      <td>1</td>\n",
       "      <td>241</td>\n",
       "      <td>0</td>\n",
       "      <td>0</td>\n",
       "      <td>0</td>\n",
       "    </tr>\n",
       "    <tr>\n",
       "      <th>sitting</th>\n",
       "      <td>0</td>\n",
       "      <td>0</td>\n",
       "      <td>0</td>\n",
       "      <td>308</td>\n",
       "      <td>14</td>\n",
       "      <td>0</td>\n",
       "    </tr>\n",
       "    <tr>\n",
       "      <th>standing</th>\n",
       "      <td>0</td>\n",
       "      <td>0</td>\n",
       "      <td>0</td>\n",
       "      <td>4</td>\n",
       "      <td>339</td>\n",
       "      <td>0</td>\n",
       "    </tr>\n",
       "    <tr>\n",
       "      <th>laying</th>\n",
       "      <td>0</td>\n",
       "      <td>0</td>\n",
       "      <td>0</td>\n",
       "      <td>0</td>\n",
       "      <td>0</td>\n",
       "      <td>352</td>\n",
       "    </tr>\n",
       "  </tbody>\n",
       "</table>\n",
       "</div>"
      ],
      "text/plain": [
       "                    walking  walking_upstairs  walking_downstairs  sitting  \\\n",
       "walking                 305                 0                   1        0   \n",
       "walking_upstairs          6               262                   0        0   \n",
       "walking_downstairs        5                 1                 241        0   \n",
       "sitting                   0                 0                   0      308   \n",
       "standing                  0                 0                   0        4   \n",
       "laying                    0                 0                   0        0   \n",
       "\n",
       "                    standing  laying  \n",
       "walking                    0       0  \n",
       "walking_upstairs           0       0  \n",
       "walking_downstairs         0       0  \n",
       "sitting                   14       0  \n",
       "standing                 339       0  \n",
       "laying                     0     352  "
      ]
     },
     "execution_count": 41,
     "metadata": {},
     "output_type": "execute_result"
    }
   ],
   "source": [
    "valid_y_predict = np.array([i[\"activity\"] for i in knn.predict(test_input_fn)])\n",
    "\n",
    "# Confusion matrix (on validation set):\n",
    "conf = sklearn.metrics.confusion_matrix(valid_y, valid_y_predict)\n",
    "conf = pd.DataFrame(conf, columns=label_list, index=label_list)\n",
    "conf"
   ]
  },
  {
   "cell_type": "markdown",
   "metadata": {},
   "source": [
    "- Tests with higher values of `k` aren't shown here, but they don't seem to help validation error at all.\n",
    "- Interestingly, despite the data having nearly 1000 dimensions and no feature selection being done, the Curse of Dimensionality seems to matter none in this instance.\n",
    "- Errors are of the same sort as other classifiers. A little more confusion is seen in the walking types here, and a little less between sitting/standing. Laying is again discriminated perfectly."
   ]
  },
  {
   "cell_type": "code",
   "execution_count": 3,
   "metadata": {},
   "outputs": [
    {
     "data": {
      "text/plain": [
       "'1.1.0'"
      ]
     },
     "execution_count": 3,
     "metadata": {},
     "output_type": "execute_result"
    }
   ],
   "source": [
    "tf.__version__"
   ]
  },
  {
   "cell_type": "code",
   "execution_count": null,
   "metadata": {
    "collapsed": true
   },
   "outputs": [],
   "source": []
  }
 ],
 "metadata": {
  "kernelspec": {
   "display_name": "Python 3",
   "language": "python",
   "name": "python3"
  },
  "language_info": {
   "codemirror_mode": {
    "name": "ipython",
    "version": 3
   },
   "file_extension": ".py",
   "mimetype": "text/x-python",
   "name": "python",
   "nbconvert_exporter": "python",
   "pygments_lexer": "ipython3",
   "version": "3.5.4"
  }
 },
 "nbformat": 4,
 "nbformat_minor": 2
}
