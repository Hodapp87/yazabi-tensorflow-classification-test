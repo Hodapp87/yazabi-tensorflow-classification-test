{
 "cells": [
  {
   "cell_type": "markdown",
   "metadata": {},
   "source": [
    "# Scratch work for TensorFlow skills test (classification)\n",
    "\n",
    "- Author: Chris Hodapp\n",
    "- Date: 2017-11-15\n",
    "- For SharpestMinds/Yazabi\n",
    "\n",
    "## Links:\n",
    "\n",
    "- [human-activity-recognition-using-smartphones (GitHub)](https://github.com/pdelboca/human-activity-recognition-using-smartphones)\n",
    "- [Data source (60 MB ZIP)](https://d396qusza40orc.cloudfront.net/getdata%2Fprojectfiles%2FUCI%20HAR%20Dataset.zip)\n",
    "- [Human Activity Recognition Using Smartphones (UCI)](http://archive.ics.uci.edu/ml/datasets/Human+Activity+Recognition+Using+Smartphones)\n",
    "- [MLconf 2015 Seattle: When do I use zero-mean/unit variance normalization vs unit L1/L2 normalization?\n",
    "](https://www.quora.com/MLconf-2015-Seattle-When-do-I-use-zero-mean-unit-variance-normalization-vs-unit-L1-L2-normalization)"
   ]
  },
  {
   "cell_type": "markdown",
   "metadata": {},
   "source": [
    "# Data Exploration"
   ]
  },
  {
   "cell_type": "code",
   "execution_count": 9,
   "metadata": {
    "collapsed": true
   },
   "outputs": [],
   "source": [
    "import os"
   ]
  },
  {
   "cell_type": "code",
   "execution_count": 10,
   "metadata": {
    "collapsed": true
   },
   "outputs": [],
   "source": [
    "import numpy as np\n",
    "import pandas as pd\n",
    "import matplotlib\n",
    "import matplotlib.pyplot as plt\n",
    "\n",
    "import sklearn.decomposition\n",
    "import sklearn.externals\n",
    "import sklearn.manifold\n",
    "import sklearn.preprocessing"
   ]
  },
  {
   "cell_type": "code",
   "execution_count": 11,
   "metadata": {},
   "outputs": [
    {
     "data": {
      "text/plain": [
       "['tBodyAcc_mean_X',\n",
       " 'tBodyAcc_mean_Y',\n",
       " 'tBodyAcc_mean_Z',\n",
       " 'tBodyAcc_std_X',\n",
       " 'tBodyAcc_std_Y',\n",
       " 'tBodyAcc_std_Z',\n",
       " 'tBodyAcc_mad_X',\n",
       " 'tBodyAcc_mad_Y',\n",
       " 'tBodyAcc_mad_Z',\n",
       " 'tBodyAcc_max_X',\n",
       " 'tBodyAcc_max_Y',\n",
       " 'tBodyAcc_max_Z',\n",
       " 'tBodyAcc_min_X',\n",
       " 'tBodyAcc_min_Y',\n",
       " 'tBodyAcc_min_Z',\n",
       " 'tBodyAcc_sma',\n",
       " 'tBodyAcc_energy_X',\n",
       " 'tBodyAcc_energy_Y',\n",
       " 'tBodyAcc_energy_Z',\n",
       " 'tBodyAcc_iqr_X',\n",
       " 'tBodyAcc_iqr_Y',\n",
       " 'tBodyAcc_iqr_Z',\n",
       " 'tBodyAcc_entropy_X',\n",
       " 'tBodyAcc_entropy_Y',\n",
       " 'tBodyAcc_entropy_Z',\n",
       " 'tBodyAcc_arCoeff_X_1',\n",
       " 'tBodyAcc_arCoeff_X_2',\n",
       " 'tBodyAcc_arCoeff_X_3',\n",
       " 'tBodyAcc_arCoeff_X_4',\n",
       " 'tBodyAcc_arCoeff_Y_1',\n",
       " 'tBodyAcc_arCoeff_Y_2',\n",
       " 'tBodyAcc_arCoeff_Y_3',\n",
       " 'tBodyAcc_arCoeff_Y_4',\n",
       " 'tBodyAcc_arCoeff_Z_1',\n",
       " 'tBodyAcc_arCoeff_Z_2',\n",
       " 'tBodyAcc_arCoeff_Z_3',\n",
       " 'tBodyAcc_arCoeff_Z_4',\n",
       " 'tBodyAcc_correlation_X_Y',\n",
       " 'tBodyAcc_correlation_X_Z',\n",
       " 'tBodyAcc_correlation_Y_Z',\n",
       " 'tGravityAcc_mean_X',\n",
       " 'tGravityAcc_mean_Y',\n",
       " 'tGravityAcc_mean_Z',\n",
       " 'tGravityAcc_std_X',\n",
       " 'tGravityAcc_std_Y',\n",
       " 'tGravityAcc_std_Z',\n",
       " 'tGravityAcc_mad_X',\n",
       " 'tGravityAcc_mad_Y',\n",
       " 'tGravityAcc_mad_Z',\n",
       " 'tGravityAcc_max_X',\n",
       " 'tGravityAcc_max_Y',\n",
       " 'tGravityAcc_max_Z',\n",
       " 'tGravityAcc_min_X',\n",
       " 'tGravityAcc_min_Y',\n",
       " 'tGravityAcc_min_Z',\n",
       " 'tGravityAcc_sma',\n",
       " 'tGravityAcc_energy_X',\n",
       " 'tGravityAcc_energy_Y',\n",
       " 'tGravityAcc_energy_Z',\n",
       " 'tGravityAcc_iqr_X',\n",
       " 'tGravityAcc_iqr_Y',\n",
       " 'tGravityAcc_iqr_Z',\n",
       " 'tGravityAcc_entropy_X',\n",
       " 'tGravityAcc_entropy_Y',\n",
       " 'tGravityAcc_entropy_Z',\n",
       " 'tGravityAcc_arCoeff_X_1',\n",
       " 'tGravityAcc_arCoeff_X_2',\n",
       " 'tGravityAcc_arCoeff_X_3',\n",
       " 'tGravityAcc_arCoeff_X_4',\n",
       " 'tGravityAcc_arCoeff_Y_1',\n",
       " 'tGravityAcc_arCoeff_Y_2',\n",
       " 'tGravityAcc_arCoeff_Y_3',\n",
       " 'tGravityAcc_arCoeff_Y_4',\n",
       " 'tGravityAcc_arCoeff_Z_1',\n",
       " 'tGravityAcc_arCoeff_Z_2',\n",
       " 'tGravityAcc_arCoeff_Z_3',\n",
       " 'tGravityAcc_arCoeff_Z_4',\n",
       " 'tGravityAcc_correlation_X_Y',\n",
       " 'tGravityAcc_correlation_X_Z',\n",
       " 'tGravityAcc_correlation_Y_Z',\n",
       " 'tBodyAccJerk_mean_X',\n",
       " 'tBodyAccJerk_mean_Y',\n",
       " 'tBodyAccJerk_mean_Z',\n",
       " 'tBodyAccJerk_std_X',\n",
       " 'tBodyAccJerk_std_Y',\n",
       " 'tBodyAccJerk_std_Z',\n",
       " 'tBodyAccJerk_mad_X',\n",
       " 'tBodyAccJerk_mad_Y',\n",
       " 'tBodyAccJerk_mad_Z',\n",
       " 'tBodyAccJerk_max_X',\n",
       " 'tBodyAccJerk_max_Y',\n",
       " 'tBodyAccJerk_max_Z',\n",
       " 'tBodyAccJerk_min_X',\n",
       " 'tBodyAccJerk_min_Y',\n",
       " 'tBodyAccJerk_min_Z',\n",
       " 'tBodyAccJerk_sma',\n",
       " 'tBodyAccJerk_energy_X',\n",
       " 'tBodyAccJerk_energy_Y',\n",
       " 'tBodyAccJerk_energy_Z',\n",
       " 'tBodyAccJerk_iqr_X',\n",
       " 'tBodyAccJerk_iqr_Y',\n",
       " 'tBodyAccJerk_iqr_Z',\n",
       " 'tBodyAccJerk_entropy_X',\n",
       " 'tBodyAccJerk_entropy_Y',\n",
       " 'tBodyAccJerk_entropy_Z',\n",
       " 'tBodyAccJerk_arCoeff_X_1',\n",
       " 'tBodyAccJerk_arCoeff_X_2',\n",
       " 'tBodyAccJerk_arCoeff_X_3',\n",
       " 'tBodyAccJerk_arCoeff_X_4',\n",
       " 'tBodyAccJerk_arCoeff_Y_1',\n",
       " 'tBodyAccJerk_arCoeff_Y_2',\n",
       " 'tBodyAccJerk_arCoeff_Y_3',\n",
       " 'tBodyAccJerk_arCoeff_Y_4',\n",
       " 'tBodyAccJerk_arCoeff_Z_1',\n",
       " 'tBodyAccJerk_arCoeff_Z_2',\n",
       " 'tBodyAccJerk_arCoeff_Z_3',\n",
       " 'tBodyAccJerk_arCoeff_Z_4',\n",
       " 'tBodyAccJerk_correlation_X_Y',\n",
       " 'tBodyAccJerk_correlation_X_Z',\n",
       " 'tBodyAccJerk_correlation_Y_Z',\n",
       " 'tBodyGyro_mean_X',\n",
       " 'tBodyGyro_mean_Y',\n",
       " 'tBodyGyro_mean_Z',\n",
       " 'tBodyGyro_std_X',\n",
       " 'tBodyGyro_std_Y',\n",
       " 'tBodyGyro_std_Z',\n",
       " 'tBodyGyro_mad_X',\n",
       " 'tBodyGyro_mad_Y',\n",
       " 'tBodyGyro_mad_Z',\n",
       " 'tBodyGyro_max_X',\n",
       " 'tBodyGyro_max_Y',\n",
       " 'tBodyGyro_max_Z',\n",
       " 'tBodyGyro_min_X',\n",
       " 'tBodyGyro_min_Y',\n",
       " 'tBodyGyro_min_Z',\n",
       " 'tBodyGyro_sma',\n",
       " 'tBodyGyro_energy_X',\n",
       " 'tBodyGyro_energy_Y',\n",
       " 'tBodyGyro_energy_Z',\n",
       " 'tBodyGyro_iqr_X',\n",
       " 'tBodyGyro_iqr_Y',\n",
       " 'tBodyGyro_iqr_Z',\n",
       " 'tBodyGyro_entropy_X',\n",
       " 'tBodyGyro_entropy_Y',\n",
       " 'tBodyGyro_entropy_Z',\n",
       " 'tBodyGyro_arCoeff_X_1',\n",
       " 'tBodyGyro_arCoeff_X_2',\n",
       " 'tBodyGyro_arCoeff_X_3',\n",
       " 'tBodyGyro_arCoeff_X_4',\n",
       " 'tBodyGyro_arCoeff_Y_1',\n",
       " 'tBodyGyro_arCoeff_Y_2',\n",
       " 'tBodyGyro_arCoeff_Y_3',\n",
       " 'tBodyGyro_arCoeff_Y_4',\n",
       " 'tBodyGyro_arCoeff_Z_1',\n",
       " 'tBodyGyro_arCoeff_Z_2',\n",
       " 'tBodyGyro_arCoeff_Z_3',\n",
       " 'tBodyGyro_arCoeff_Z_4',\n",
       " 'tBodyGyro_correlation_X_Y',\n",
       " 'tBodyGyro_correlation_X_Z',\n",
       " 'tBodyGyro_correlation_Y_Z',\n",
       " 'tBodyGyroJerk_mean_X',\n",
       " 'tBodyGyroJerk_mean_Y',\n",
       " 'tBodyGyroJerk_mean_Z',\n",
       " 'tBodyGyroJerk_std_X',\n",
       " 'tBodyGyroJerk_std_Y',\n",
       " 'tBodyGyroJerk_std_Z',\n",
       " 'tBodyGyroJerk_mad_X',\n",
       " 'tBodyGyroJerk_mad_Y',\n",
       " 'tBodyGyroJerk_mad_Z',\n",
       " 'tBodyGyroJerk_max_X',\n",
       " 'tBodyGyroJerk_max_Y',\n",
       " 'tBodyGyroJerk_max_Z',\n",
       " 'tBodyGyroJerk_min_X',\n",
       " 'tBodyGyroJerk_min_Y',\n",
       " 'tBodyGyroJerk_min_Z',\n",
       " 'tBodyGyroJerk_sma',\n",
       " 'tBodyGyroJerk_energy_X',\n",
       " 'tBodyGyroJerk_energy_Y',\n",
       " 'tBodyGyroJerk_energy_Z',\n",
       " 'tBodyGyroJerk_iqr_X',\n",
       " 'tBodyGyroJerk_iqr_Y',\n",
       " 'tBodyGyroJerk_iqr_Z',\n",
       " 'tBodyGyroJerk_entropy_X',\n",
       " 'tBodyGyroJerk_entropy_Y',\n",
       " 'tBodyGyroJerk_entropy_Z',\n",
       " 'tBodyGyroJerk_arCoeff_X_1',\n",
       " 'tBodyGyroJerk_arCoeff_X_2',\n",
       " 'tBodyGyroJerk_arCoeff_X_3',\n",
       " 'tBodyGyroJerk_arCoeff_X_4',\n",
       " 'tBodyGyroJerk_arCoeff_Y_1',\n",
       " 'tBodyGyroJerk_arCoeff_Y_2',\n",
       " 'tBodyGyroJerk_arCoeff_Y_3',\n",
       " 'tBodyGyroJerk_arCoeff_Y_4',\n",
       " 'tBodyGyroJerk_arCoeff_Z_1',\n",
       " 'tBodyGyroJerk_arCoeff_Z_2',\n",
       " 'tBodyGyroJerk_arCoeff_Z_3',\n",
       " 'tBodyGyroJerk_arCoeff_Z_4',\n",
       " 'tBodyGyroJerk_correlation_X_Y',\n",
       " 'tBodyGyroJerk_correlation_X_Z',\n",
       " 'tBodyGyroJerk_correlation_Y_Z',\n",
       " 'tBodyAccMag_mean',\n",
       " 'tBodyAccMag_std',\n",
       " 'tBodyAccMag_mad',\n",
       " 'tBodyAccMag_max',\n",
       " 'tBodyAccMag_min',\n",
       " 'tBodyAccMag_sma',\n",
       " 'tBodyAccMag_energy',\n",
       " 'tBodyAccMag_iqr',\n",
       " 'tBodyAccMag_entropy',\n",
       " 'tBodyAccMag_arCoeff1',\n",
       " 'tBodyAccMag_arCoeff2',\n",
       " 'tBodyAccMag_arCoeff3',\n",
       " 'tBodyAccMag_arCoeff4',\n",
       " 'tGravityAccMag_mean',\n",
       " 'tGravityAccMag_std',\n",
       " 'tGravityAccMag_mad',\n",
       " 'tGravityAccMag_max',\n",
       " 'tGravityAccMag_min',\n",
       " 'tGravityAccMag_sma',\n",
       " 'tGravityAccMag_energy',\n",
       " 'tGravityAccMag_iqr',\n",
       " 'tGravityAccMag_entropy',\n",
       " 'tGravityAccMag_arCoeff1',\n",
       " 'tGravityAccMag_arCoeff2',\n",
       " 'tGravityAccMag_arCoeff3',\n",
       " 'tGravityAccMag_arCoeff4',\n",
       " 'tBodyAccJerkMag_mean',\n",
       " 'tBodyAccJerkMag_std',\n",
       " 'tBodyAccJerkMag_mad',\n",
       " 'tBodyAccJerkMag_max',\n",
       " 'tBodyAccJerkMag_min',\n",
       " 'tBodyAccJerkMag_sma',\n",
       " 'tBodyAccJerkMag_energy',\n",
       " 'tBodyAccJerkMag_iqr',\n",
       " 'tBodyAccJerkMag_entropy',\n",
       " 'tBodyAccJerkMag_arCoeff1',\n",
       " 'tBodyAccJerkMag_arCoeff2',\n",
       " 'tBodyAccJerkMag_arCoeff3',\n",
       " 'tBodyAccJerkMag_arCoeff4',\n",
       " 'tBodyGyroMag_mean',\n",
       " 'tBodyGyroMag_std',\n",
       " 'tBodyGyroMag_mad',\n",
       " 'tBodyGyroMag_max',\n",
       " 'tBodyGyroMag_min',\n",
       " 'tBodyGyroMag_sma',\n",
       " 'tBodyGyroMag_energy',\n",
       " 'tBodyGyroMag_iqr',\n",
       " 'tBodyGyroMag_entropy',\n",
       " 'tBodyGyroMag_arCoeff1',\n",
       " 'tBodyGyroMag_arCoeff2',\n",
       " 'tBodyGyroMag_arCoeff3',\n",
       " 'tBodyGyroMag_arCoeff4',\n",
       " 'tBodyGyroJerkMag_mean',\n",
       " 'tBodyGyroJerkMag_std',\n",
       " 'tBodyGyroJerkMag_mad',\n",
       " 'tBodyGyroJerkMag_max',\n",
       " 'tBodyGyroJerkMag_min',\n",
       " 'tBodyGyroJerkMag_sma',\n",
       " 'tBodyGyroJerkMag_energy',\n",
       " 'tBodyGyroJerkMag_iqr',\n",
       " 'tBodyGyroJerkMag_entropy',\n",
       " 'tBodyGyroJerkMag_arCoeff1',\n",
       " 'tBodyGyroJerkMag_arCoeff2',\n",
       " 'tBodyGyroJerkMag_arCoeff3',\n",
       " 'tBodyGyroJerkMag_arCoeff4',\n",
       " 'fBodyAcc_mean_X',\n",
       " 'fBodyAcc_mean_Y',\n",
       " 'fBodyAcc_mean_Z',\n",
       " 'fBodyAcc_std_X',\n",
       " 'fBodyAcc_std_Y',\n",
       " 'fBodyAcc_std_Z',\n",
       " 'fBodyAcc_mad_X',\n",
       " 'fBodyAcc_mad_Y',\n",
       " 'fBodyAcc_mad_Z',\n",
       " 'fBodyAcc_max_X',\n",
       " 'fBodyAcc_max_Y',\n",
       " 'fBodyAcc_max_Z',\n",
       " 'fBodyAcc_min_X',\n",
       " 'fBodyAcc_min_Y',\n",
       " 'fBodyAcc_min_Z',\n",
       " 'fBodyAcc_sma',\n",
       " 'fBodyAcc_energy_X',\n",
       " 'fBodyAcc_energy_Y',\n",
       " 'fBodyAcc_energy_Z',\n",
       " 'fBodyAcc_iqr_X',\n",
       " 'fBodyAcc_iqr_Y',\n",
       " 'fBodyAcc_iqr_Z',\n",
       " 'fBodyAcc_entropy_X',\n",
       " 'fBodyAcc_entropy_Y',\n",
       " 'fBodyAcc_entropy_Z',\n",
       " 'fBodyAcc_maxInds_X',\n",
       " 'fBodyAcc_maxInds_Y',\n",
       " 'fBodyAcc_maxInds_Z',\n",
       " 'fBodyAcc_meanFreq_X',\n",
       " 'fBodyAcc_meanFreq_Y',\n",
       " 'fBodyAcc_meanFreq_Z',\n",
       " 'fBodyAcc_skewness_X',\n",
       " 'fBodyAcc_kurtosis_X',\n",
       " 'fBodyAcc_skewness_Y',\n",
       " 'fBodyAcc_kurtosis_Y',\n",
       " 'fBodyAcc_skewness_Z',\n",
       " 'fBodyAcc_kurtosis_Z',\n",
       " 'fBodyAcc_bandsEnergy_1_8',\n",
       " 'fBodyAcc_bandsEnergy_9_16',\n",
       " 'fBodyAcc_bandsEnergy_17_24',\n",
       " 'fBodyAcc_bandsEnergy_25_32',\n",
       " 'fBodyAcc_bandsEnergy_33_40',\n",
       " 'fBodyAcc_bandsEnergy_41_48',\n",
       " 'fBodyAcc_bandsEnergy_49_56',\n",
       " 'fBodyAcc_bandsEnergy_57_64',\n",
       " 'fBodyAcc_bandsEnergy_1_16',\n",
       " 'fBodyAcc_bandsEnergy_17_32',\n",
       " 'fBodyAcc_bandsEnergy_33_48',\n",
       " 'fBodyAcc_bandsEnergy_49_64',\n",
       " 'fBodyAcc_bandsEnergy_1_24',\n",
       " 'fBodyAcc_bandsEnergy_25_48',\n",
       " 'fBodyAcc_bandsEnergy_1_8',\n",
       " 'fBodyAcc_bandsEnergy_9_16',\n",
       " 'fBodyAcc_bandsEnergy_17_24',\n",
       " 'fBodyAcc_bandsEnergy_25_32',\n",
       " 'fBodyAcc_bandsEnergy_33_40',\n",
       " 'fBodyAcc_bandsEnergy_41_48',\n",
       " 'fBodyAcc_bandsEnergy_49_56',\n",
       " 'fBodyAcc_bandsEnergy_57_64',\n",
       " 'fBodyAcc_bandsEnergy_1_16',\n",
       " 'fBodyAcc_bandsEnergy_17_32',\n",
       " 'fBodyAcc_bandsEnergy_33_48',\n",
       " 'fBodyAcc_bandsEnergy_49_64',\n",
       " 'fBodyAcc_bandsEnergy_1_24',\n",
       " 'fBodyAcc_bandsEnergy_25_48',\n",
       " 'fBodyAcc_bandsEnergy_1_8',\n",
       " 'fBodyAcc_bandsEnergy_9_16',\n",
       " 'fBodyAcc_bandsEnergy_17_24',\n",
       " 'fBodyAcc_bandsEnergy_25_32',\n",
       " 'fBodyAcc_bandsEnergy_33_40',\n",
       " 'fBodyAcc_bandsEnergy_41_48',\n",
       " 'fBodyAcc_bandsEnergy_49_56',\n",
       " 'fBodyAcc_bandsEnergy_57_64',\n",
       " 'fBodyAcc_bandsEnergy_1_16',\n",
       " 'fBodyAcc_bandsEnergy_17_32',\n",
       " 'fBodyAcc_bandsEnergy_33_48',\n",
       " 'fBodyAcc_bandsEnergy_49_64',\n",
       " 'fBodyAcc_bandsEnergy_1_24',\n",
       " 'fBodyAcc_bandsEnergy_25_48',\n",
       " 'fBodyAccJerk_mean_X',\n",
       " 'fBodyAccJerk_mean_Y',\n",
       " 'fBodyAccJerk_mean_Z',\n",
       " 'fBodyAccJerk_std_X',\n",
       " 'fBodyAccJerk_std_Y',\n",
       " 'fBodyAccJerk_std_Z',\n",
       " 'fBodyAccJerk_mad_X',\n",
       " 'fBodyAccJerk_mad_Y',\n",
       " 'fBodyAccJerk_mad_Z',\n",
       " 'fBodyAccJerk_max_X',\n",
       " 'fBodyAccJerk_max_Y',\n",
       " 'fBodyAccJerk_max_Z',\n",
       " 'fBodyAccJerk_min_X',\n",
       " 'fBodyAccJerk_min_Y',\n",
       " 'fBodyAccJerk_min_Z',\n",
       " 'fBodyAccJerk_sma',\n",
       " 'fBodyAccJerk_energy_X',\n",
       " 'fBodyAccJerk_energy_Y',\n",
       " 'fBodyAccJerk_energy_Z',\n",
       " 'fBodyAccJerk_iqr_X',\n",
       " 'fBodyAccJerk_iqr_Y',\n",
       " 'fBodyAccJerk_iqr_Z',\n",
       " 'fBodyAccJerk_entropy_X',\n",
       " 'fBodyAccJerk_entropy_Y',\n",
       " 'fBodyAccJerk_entropy_Z',\n",
       " 'fBodyAccJerk_maxInds_X',\n",
       " 'fBodyAccJerk_maxInds_Y',\n",
       " 'fBodyAccJerk_maxInds_Z',\n",
       " 'fBodyAccJerk_meanFreq_X',\n",
       " 'fBodyAccJerk_meanFreq_Y',\n",
       " 'fBodyAccJerk_meanFreq_Z',\n",
       " 'fBodyAccJerk_skewness_X',\n",
       " 'fBodyAccJerk_kurtosis_X',\n",
       " 'fBodyAccJerk_skewness_Y',\n",
       " 'fBodyAccJerk_kurtosis_Y',\n",
       " 'fBodyAccJerk_skewness_Z',\n",
       " 'fBodyAccJerk_kurtosis_Z',\n",
       " 'fBodyAccJerk_bandsEnergy_1_8',\n",
       " 'fBodyAccJerk_bandsEnergy_9_16',\n",
       " 'fBodyAccJerk_bandsEnergy_17_24',\n",
       " 'fBodyAccJerk_bandsEnergy_25_32',\n",
       " 'fBodyAccJerk_bandsEnergy_33_40',\n",
       " 'fBodyAccJerk_bandsEnergy_41_48',\n",
       " 'fBodyAccJerk_bandsEnergy_49_56',\n",
       " 'fBodyAccJerk_bandsEnergy_57_64',\n",
       " 'fBodyAccJerk_bandsEnergy_1_16',\n",
       " 'fBodyAccJerk_bandsEnergy_17_32',\n",
       " 'fBodyAccJerk_bandsEnergy_33_48',\n",
       " 'fBodyAccJerk_bandsEnergy_49_64',\n",
       " 'fBodyAccJerk_bandsEnergy_1_24',\n",
       " 'fBodyAccJerk_bandsEnergy_25_48',\n",
       " 'fBodyAccJerk_bandsEnergy_1_8',\n",
       " 'fBodyAccJerk_bandsEnergy_9_16',\n",
       " 'fBodyAccJerk_bandsEnergy_17_24',\n",
       " 'fBodyAccJerk_bandsEnergy_25_32',\n",
       " 'fBodyAccJerk_bandsEnergy_33_40',\n",
       " 'fBodyAccJerk_bandsEnergy_41_48',\n",
       " 'fBodyAccJerk_bandsEnergy_49_56',\n",
       " 'fBodyAccJerk_bandsEnergy_57_64',\n",
       " 'fBodyAccJerk_bandsEnergy_1_16',\n",
       " 'fBodyAccJerk_bandsEnergy_17_32',\n",
       " 'fBodyAccJerk_bandsEnergy_33_48',\n",
       " 'fBodyAccJerk_bandsEnergy_49_64',\n",
       " 'fBodyAccJerk_bandsEnergy_1_24',\n",
       " 'fBodyAccJerk_bandsEnergy_25_48',\n",
       " 'fBodyAccJerk_bandsEnergy_1_8',\n",
       " 'fBodyAccJerk_bandsEnergy_9_16',\n",
       " 'fBodyAccJerk_bandsEnergy_17_24',\n",
       " 'fBodyAccJerk_bandsEnergy_25_32',\n",
       " 'fBodyAccJerk_bandsEnergy_33_40',\n",
       " 'fBodyAccJerk_bandsEnergy_41_48',\n",
       " 'fBodyAccJerk_bandsEnergy_49_56',\n",
       " 'fBodyAccJerk_bandsEnergy_57_64',\n",
       " 'fBodyAccJerk_bandsEnergy_1_16',\n",
       " 'fBodyAccJerk_bandsEnergy_17_32',\n",
       " 'fBodyAccJerk_bandsEnergy_33_48',\n",
       " 'fBodyAccJerk_bandsEnergy_49_64',\n",
       " 'fBodyAccJerk_bandsEnergy_1_24',\n",
       " 'fBodyAccJerk_bandsEnergy_25_48',\n",
       " 'fBodyGyro_mean_X',\n",
       " 'fBodyGyro_mean_Y',\n",
       " 'fBodyGyro_mean_Z',\n",
       " 'fBodyGyro_std_X',\n",
       " 'fBodyGyro_std_Y',\n",
       " 'fBodyGyro_std_Z',\n",
       " 'fBodyGyro_mad_X',\n",
       " 'fBodyGyro_mad_Y',\n",
       " 'fBodyGyro_mad_Z',\n",
       " 'fBodyGyro_max_X',\n",
       " 'fBodyGyro_max_Y',\n",
       " 'fBodyGyro_max_Z',\n",
       " 'fBodyGyro_min_X',\n",
       " 'fBodyGyro_min_Y',\n",
       " 'fBodyGyro_min_Z',\n",
       " 'fBodyGyro_sma',\n",
       " 'fBodyGyro_energy_X',\n",
       " 'fBodyGyro_energy_Y',\n",
       " 'fBodyGyro_energy_Z',\n",
       " 'fBodyGyro_iqr_X',\n",
       " 'fBodyGyro_iqr_Y',\n",
       " 'fBodyGyro_iqr_Z',\n",
       " 'fBodyGyro_entropy_X',\n",
       " 'fBodyGyro_entropy_Y',\n",
       " 'fBodyGyro_entropy_Z',\n",
       " 'fBodyGyro_maxInds_X',\n",
       " 'fBodyGyro_maxInds_Y',\n",
       " 'fBodyGyro_maxInds_Z',\n",
       " 'fBodyGyro_meanFreq_X',\n",
       " 'fBodyGyro_meanFreq_Y',\n",
       " 'fBodyGyro_meanFreq_Z',\n",
       " 'fBodyGyro_skewness_X',\n",
       " 'fBodyGyro_kurtosis_X',\n",
       " 'fBodyGyro_skewness_Y',\n",
       " 'fBodyGyro_kurtosis_Y',\n",
       " 'fBodyGyro_skewness_Z',\n",
       " 'fBodyGyro_kurtosis_Z',\n",
       " 'fBodyGyro_bandsEnergy_1_8',\n",
       " 'fBodyGyro_bandsEnergy_9_16',\n",
       " 'fBodyGyro_bandsEnergy_17_24',\n",
       " 'fBodyGyro_bandsEnergy_25_32',\n",
       " 'fBodyGyro_bandsEnergy_33_40',\n",
       " 'fBodyGyro_bandsEnergy_41_48',\n",
       " 'fBodyGyro_bandsEnergy_49_56',\n",
       " 'fBodyGyro_bandsEnergy_57_64',\n",
       " 'fBodyGyro_bandsEnergy_1_16',\n",
       " 'fBodyGyro_bandsEnergy_17_32',\n",
       " 'fBodyGyro_bandsEnergy_33_48',\n",
       " 'fBodyGyro_bandsEnergy_49_64',\n",
       " 'fBodyGyro_bandsEnergy_1_24',\n",
       " 'fBodyGyro_bandsEnergy_25_48',\n",
       " 'fBodyGyro_bandsEnergy_1_8',\n",
       " 'fBodyGyro_bandsEnergy_9_16',\n",
       " 'fBodyGyro_bandsEnergy_17_24',\n",
       " 'fBodyGyro_bandsEnergy_25_32',\n",
       " 'fBodyGyro_bandsEnergy_33_40',\n",
       " 'fBodyGyro_bandsEnergy_41_48',\n",
       " 'fBodyGyro_bandsEnergy_49_56',\n",
       " 'fBodyGyro_bandsEnergy_57_64',\n",
       " 'fBodyGyro_bandsEnergy_1_16',\n",
       " 'fBodyGyro_bandsEnergy_17_32',\n",
       " 'fBodyGyro_bandsEnergy_33_48',\n",
       " 'fBodyGyro_bandsEnergy_49_64',\n",
       " 'fBodyGyro_bandsEnergy_1_24',\n",
       " 'fBodyGyro_bandsEnergy_25_48',\n",
       " 'fBodyGyro_bandsEnergy_1_8',\n",
       " 'fBodyGyro_bandsEnergy_9_16',\n",
       " 'fBodyGyro_bandsEnergy_17_24',\n",
       " 'fBodyGyro_bandsEnergy_25_32',\n",
       " 'fBodyGyro_bandsEnergy_33_40',\n",
       " 'fBodyGyro_bandsEnergy_41_48',\n",
       " 'fBodyGyro_bandsEnergy_49_56',\n",
       " 'fBodyGyro_bandsEnergy_57_64',\n",
       " 'fBodyGyro_bandsEnergy_1_16',\n",
       " 'fBodyGyro_bandsEnergy_17_32',\n",
       " 'fBodyGyro_bandsEnergy_33_48',\n",
       " 'fBodyGyro_bandsEnergy_49_64',\n",
       " 'fBodyGyro_bandsEnergy_1_24',\n",
       " 'fBodyGyro_bandsEnergy_25_48',\n",
       " 'fBodyAccMag_mean',\n",
       " 'fBodyAccMag_std',\n",
       " 'fBodyAccMag_mad',\n",
       " 'fBodyAccMag_max',\n",
       " 'fBodyAccMag_min',\n",
       " 'fBodyAccMag_sma',\n",
       " 'fBodyAccMag_energy',\n",
       " 'fBodyAccMag_iqr',\n",
       " 'fBodyAccMag_entropy',\n",
       " 'fBodyAccMag_maxInds',\n",
       " 'fBodyAccMag_meanFreq',\n",
       " 'fBodyAccMag_skewness',\n",
       " 'fBodyAccMag_kurtosis',\n",
       " 'fBodyBodyAccJerkMag_mean',\n",
       " 'fBodyBodyAccJerkMag_std',\n",
       " 'fBodyBodyAccJerkMag_mad',\n",
       " 'fBodyBodyAccJerkMag_max',\n",
       " 'fBodyBodyAccJerkMag_min',\n",
       " 'fBodyBodyAccJerkMag_sma',\n",
       " 'fBodyBodyAccJerkMag_energy',\n",
       " 'fBodyBodyAccJerkMag_iqr',\n",
       " 'fBodyBodyAccJerkMag_entropy',\n",
       " 'fBodyBodyAccJerkMag_maxInds',\n",
       " 'fBodyBodyAccJerkMag_meanFreq',\n",
       " 'fBodyBodyAccJerkMag_skewness',\n",
       " 'fBodyBodyAccJerkMag_kurtosis',\n",
       " 'fBodyBodyGyroMag_mean',\n",
       " 'fBodyBodyGyroMag_std',\n",
       " 'fBodyBodyGyroMag_mad',\n",
       " 'fBodyBodyGyroMag_max',\n",
       " 'fBodyBodyGyroMag_min',\n",
       " 'fBodyBodyGyroMag_sma',\n",
       " 'fBodyBodyGyroMag_energy',\n",
       " 'fBodyBodyGyroMag_iqr',\n",
       " 'fBodyBodyGyroMag_entropy',\n",
       " 'fBodyBodyGyroMag_maxInds',\n",
       " 'fBodyBodyGyroMag_meanFreq',\n",
       " 'fBodyBodyGyroMag_skewness',\n",
       " 'fBodyBodyGyroMag_kurtosis',\n",
       " 'fBodyBodyGyroJerkMag_mean',\n",
       " 'fBodyBodyGyroJerkMag_std',\n",
       " 'fBodyBodyGyroJerkMag_mad',\n",
       " 'fBodyBodyGyroJerkMag_max',\n",
       " 'fBodyBodyGyroJerkMag_min',\n",
       " 'fBodyBodyGyroJerkMag_sma',\n",
       " 'fBodyBodyGyroJerkMag_energy',\n",
       " 'fBodyBodyGyroJerkMag_iqr',\n",
       " 'fBodyBodyGyroJerkMag_entropy',\n",
       " 'fBodyBodyGyroJerkMag_maxInds',\n",
       " 'fBodyBodyGyroJerkMag_meanFreq',\n",
       " 'fBodyBodyGyroJerkMag_skewness',\n",
       " 'fBodyBodyGyroJerkMag_kurtosis',\n",
       " 'angletBodyAccMean_gravity',\n",
       " 'angletBodyAccJerkMean_gravityMean',\n",
       " 'angletBodyGyroMean_gravityMean',\n",
       " 'angletBodyGyroJerkMean_gravityMean',\n",
       " 'angleX_gravityMean',\n",
       " 'angleY_gravityMean',\n",
       " 'angleZ_gravityMean']"
      ]
     },
     "execution_count": 11,
     "metadata": {},
     "output_type": "execute_result"
    }
   ],
   "source": [
    "# I really don't feel like copying these into the document, so\n",
    "# instead load them from the included file:\n",
    "feature_list = pd.read_csv(\"UCI HAR Dataset/features.txt\",\n",
    "    index_col=0, header=None, sep=\" \")\n",
    "# ...and sanitize them so Pandas can use them for column names:\n",
    "san_dict = {ord(\"(\"): \"\", ord(\")\"): \"\", ord(\"-\"): \"_\", ord(\",\"): \"_\"}\n",
    "features = list(f.translate(san_dict) for f in feature_list.iloc[:,0])\n",
    "features"
   ]
  },
  {
   "cell_type": "code",
   "execution_count": 12,
   "metadata": {
    "collapsed": true
   },
   "outputs": [],
   "source": [
    "def read_features(fname):\n",
    "    return pd.read_csv(fname, delim_whitespace=True, header=None,\n",
    "                       names=features, index_col=None)\n",
    "\n",
    "train_X_summary = read_features(\"UCI HAR Dataset/train/X_train.txt\")\n",
    "test_X_summary = read_features(\"UCI HAR Dataset/test/X_test.txt\")"
   ]
  },
  {
   "cell_type": "code",
   "execution_count": 13,
   "metadata": {
    "collapsed": true
   },
   "outputs": [],
   "source": [
    "def read_labels(fname):\n",
    "    df = pd.read_csv(fname, header=None)\n",
    "    # We just want the series, not the dataframe:\n",
    "    return df.iloc[:, 0]\n",
    "\n",
    "train_y = read_labels(\"UCI HAR Dataset/train/y_train.txt\")\n",
    "test_y = read_labels(\"UCI HAR Dataset/test/y_test.txt\")"
   ]
  },
  {
   "cell_type": "code",
   "execution_count": 14,
   "metadata": {
    "collapsed": true
   },
   "outputs": [],
   "source": [
    "def read_accel(s, train_or_test):\n",
    "    fname = \"UCI HAR Dataset/{0}/Inertial Signals/total_acc_{1}_{0}.txt\".\\\n",
    "        format(train_or_test, s)\n",
    "    # It's a bit confusing to have column names that are also numbers,\n",
    "    # so use accX_0...accX_127 (for instance):\n",
    "    names = [\"acc\" + s.upper() + \"_\" + str(i) for i in range(128)]\n",
    "    df = pd.read_csv(fname, delim_whitespace=True, header=None,\n",
    "                     index_col=None, names=names)\n",
    "    assert df.shape[1] == 128\n",
    "    return df\n",
    "\n",
    "train_accels = [read_accel(v, \"train\") for v in (\"x\",\"y\",\"z\")]\n",
    "test_accels  = [read_accel(v, \"test\")  for v in (\"x\",\"y\",\"z\")]"
   ]
  },
  {
   "cell_type": "code",
   "execution_count": 15,
   "metadata": {
    "collapsed": true
   },
   "outputs": [],
   "source": [
    "train_X = pd.concat([train_X_summary] + train_accels, axis=1)\n",
    "test_X  = pd.concat([test_X_summary]  + test_accels,  axis=1)"
   ]
  },
  {
   "cell_type": "code",
   "execution_count": 8,
   "metadata": {
    "collapsed": true
   },
   "outputs": [],
   "source": [
    "# Standardize to unit variance & zero mean:\n",
    "ss = sklearn.preprocessing.StandardScaler()\n",
    "train_X.iloc[:, :] = ss.fit_transform(train_X)\n",
    "test_X.iloc[:, :] = ss.transform(test_X)"
   ]
  },
  {
   "cell_type": "code",
   "execution_count": 9,
   "metadata": {},
   "outputs": [
    {
     "name": "stdout",
     "output_type": "stream",
     "text": [
      "<class 'pandas.core.frame.DataFrame'>\n",
      "RangeIndex: 7352 entries, 0 to 7351\n",
      "Columns: 945 entries, tBodyAcc_mean_X to accZ_127\n",
      "dtypes: float64(945)\n",
      "memory usage: 53.0 MB\n"
     ]
    }
   ],
   "source": [
    "train_X.info()"
   ]
  },
  {
   "cell_type": "code",
   "execution_count": 10,
   "metadata": {},
   "outputs": [
    {
     "name": "stdout",
     "output_type": "stream",
     "text": [
      "<class 'pandas.core.frame.DataFrame'>\n",
      "RangeIndex: 2947 entries, 0 to 2946\n",
      "Columns: 945 entries, tBodyAcc_mean_X to accZ_127\n",
      "dtypes: float64(945)\n",
      "memory usage: 21.2 MB\n"
     ]
    }
   ],
   "source": [
    "test_X.info()"
   ]
  },
  {
   "cell_type": "code",
   "execution_count": 11,
   "metadata": {},
   "outputs": [
    {
     "data": {
      "text/plain": [
       "(0, 0)"
      ]
     },
     "execution_count": 11,
     "metadata": {},
     "output_type": "execute_result"
    }
   ],
   "source": [
    "train_X.isnull().sum().sum(), test_X.isnull().sum().sum()"
   ]
  },
  {
   "cell_type": "markdown",
   "metadata": {},
   "source": [
    "- Good, no nulls and everything parsed fine as a float64."
   ]
  },
  {
   "cell_type": "code",
   "execution_count": 12,
   "metadata": {},
   "outputs": [
    {
     "data": {
      "text/html": [
       "<div>\n",
       "<style>\n",
       "    .dataframe thead tr:only-child th {\n",
       "        text-align: right;\n",
       "    }\n",
       "\n",
       "    .dataframe thead th {\n",
       "        text-align: left;\n",
       "    }\n",
       "\n",
       "    .dataframe tbody tr th {\n",
       "        vertical-align: top;\n",
       "    }\n",
       "</style>\n",
       "<table border=\"1\" class=\"dataframe\">\n",
       "  <thead>\n",
       "    <tr style=\"text-align: right;\">\n",
       "      <th></th>\n",
       "      <th>Activity</th>\n",
       "      <th>Counts</th>\n",
       "      <th>Fraction</th>\n",
       "    </tr>\n",
       "    <tr>\n",
       "      <th>Label</th>\n",
       "      <th></th>\n",
       "      <th></th>\n",
       "      <th></th>\n",
       "    </tr>\n",
       "  </thead>\n",
       "  <tbody>\n",
       "    <tr>\n",
       "      <th>1</th>\n",
       "      <td>WALKING</td>\n",
       "      <td>1226</td>\n",
       "      <td>0.045770</td>\n",
       "    </tr>\n",
       "    <tr>\n",
       "      <th>2</th>\n",
       "      <td>WALKING_UPSTAIRS</td>\n",
       "      <td>2146</td>\n",
       "      <td>0.080116</td>\n",
       "    </tr>\n",
       "    <tr>\n",
       "      <th>3</th>\n",
       "      <td>WALKING_DOWNSTAIRS</td>\n",
       "      <td>2958</td>\n",
       "      <td>0.110431</td>\n",
       "    </tr>\n",
       "    <tr>\n",
       "      <th>4</th>\n",
       "      <td>SITTING</td>\n",
       "      <td>5144</td>\n",
       "      <td>0.192041</td>\n",
       "    </tr>\n",
       "    <tr>\n",
       "      <th>5</th>\n",
       "      <td>STANDING</td>\n",
       "      <td>6870</td>\n",
       "      <td>0.256477</td>\n",
       "    </tr>\n",
       "    <tr>\n",
       "      <th>6</th>\n",
       "      <td>LAYING</td>\n",
       "      <td>8442</td>\n",
       "      <td>0.315165</td>\n",
       "    </tr>\n",
       "  </tbody>\n",
       "</table>\n",
       "</div>"
      ],
      "text/plain": [
       "                 Activity  Counts  Fraction\n",
       "Label                                      \n",
       "1                 WALKING    1226  0.045770\n",
       "2        WALKING_UPSTAIRS    2146  0.080116\n",
       "3      WALKING_DOWNSTAIRS    2958  0.110431\n",
       "4                 SITTING    5144  0.192041\n",
       "5                STANDING    6870  0.256477\n",
       "6                  LAYING    8442  0.315165"
      ]
     },
     "execution_count": 12,
     "metadata": {},
     "output_type": "execute_result"
    }
   ],
   "source": [
    "labels = pd.read_csv(\"UCI HAR Dataset/activity_labels.txt\",\n",
    "    delim_whitespace=True, header=None, index_col=0, names=(\"Label\", \"Activity\"))\n",
    "counts = pd.DataFrame({\"Counts\": train_y.groupby(train_y).sum()})\n",
    "labels.join(counts).assign(Fraction = counts.Counts / sum(counts.Counts))"
   ]
  },
  {
   "cell_type": "markdown",
   "metadata": {},
   "source": [
    "- However, distribution of labels is a bit lopsided; I am guessing I should use stratified sampling when splitting and in any other cross-validation I might do."
   ]
  },
  {
   "cell_type": "markdown",
   "metadata": {},
   "source": [
    "## Manifold plots"
   ]
  },
  {
   "cell_type": "code",
   "execution_count": 13,
   "metadata": {
    "collapsed": true
   },
   "outputs": [],
   "source": [
    "def plot_embedding(embed, labels=train_y):\n",
    "    cmap = matplotlib.colors.ListedColormap(['k','b','y','g','r','m'])\n",
    "    plt.scatter(\n",
    "        embed[:,0], embed[:,1], s=5,\n",
    "        c=labels,\n",
    "        cmap=cmap\n",
    "    )\n",
    "    plt.show()"
   ]
  },
  {
   "cell_type": "code",
   "execution_count": 14,
   "metadata": {
    "collapsed": true
   },
   "outputs": [],
   "source": [
    "isomap = sklearn.manifold.Isomap(n_components=2)\n",
    "embed_iso = isomap.fit_transform(train_X)"
   ]
  },
  {
   "cell_type": "code",
   "execution_count": 15,
   "metadata": {
    "collapsed": true
   },
   "outputs": [],
   "source": [
    "spectral = sklearn.manifold.SpectralEmbedding(n_components=2)\n",
    "embed_sp = spectral.fit_transform(train_X)"
   ]
  },
  {
   "cell_type": "code",
   "execution_count": 16,
   "metadata": {},
   "outputs": [
    {
     "data": {
      "image/png": "[encoded data removed]",
      "text/plain": [
       "<matplotlib.figure.Figure at 0x7f50c6e88a20>"
      ]
     },
     "metadata": {},
     "output_type": "display_data"
    }
   ],
   "source": [
    "plt.title(\"Isomap\")\n",
    "plot_embedding(embed_iso)"
   ]
  },
  {
   "cell_type": "code",
   "execution_count": 17,
   "metadata": {},
   "outputs": [
    {
     "data": {
      "image/png": "[encoded data removed]",
      "text/plain": [
       "<matplotlib.figure.Figure at 0x7f50c6df37f0>"
      ]
     },
     "metadata": {},
     "output_type": "display_data"
    }
   ],
   "source": [
    "plt.title(\"Spectral embedding\")\n",
    "plot_embedding(embed_sp)"
   ]
  },
  {
   "cell_type": "markdown",
   "metadata": {},
   "source": [
    "- t-SNE, according to [this](https://medium.com/@luckylwk/visualising-high-dimensional-datasets-using-pca-and-t-sne-in-python-8ef87e7915b), should have the data's dimensions first reduced with PCA (to ~50) if it is very large:"
   ]
  },
  {
   "cell_type": "code",
   "execution_count": 18,
   "metadata": {},
   "outputs": [
    {
     "name": "stdout",
     "output_type": "stream",
     "text": [
      "Variance explained: 88.9%\n"
     ]
    }
   ],
   "source": [
    "pca = sklearn.decomposition.PCA(n_components=50)\n",
    "train_X_pca = pca.fit_transform(train_X)\n",
    "print(\"Variance explained: {0:.1f}%\".format(\n",
    "    pca.explained_variance_ratio_.sum() * 100))"
   ]
  },
  {
   "cell_type": "code",
   "execution_count": 19,
   "metadata": {
    "collapsed": true
   },
   "outputs": [],
   "source": [
    "# t-SNE is O(N^2) in number of samples, so sample down:\n",
    "idxs_reduced = np.random.choice(train_X_pca.shape[0], 3000)\n",
    "train_X_pca_reduced = train_X_pca[idxs_reduced]\n",
    "train_y_reduced = train_y[idxs_reduced]"
   ]
  },
  {
   "cell_type": "code",
   "execution_count": 20,
   "metadata": {
    "collapsed": true
   },
   "outputs": [],
   "source": [
    "tsne = sklearn.manifold.TSNE(n_components=2, perplexity=50)\n",
    "embed_tsne = tsne.fit_transform(train_X_pca_reduced)"
   ]
  },
  {
   "cell_type": "code",
   "execution_count": 21,
   "metadata": {},
   "outputs": [
    {
     "data": {
      "image/png": "[encoded data removed]",
      "text/plain": [
       "<matplotlib.figure.Figure at 0x7f50c6dd6940>"
      ]
     },
     "metadata": {},
     "output_type": "display_data"
    }
   ],
   "source": [
    "plt.title(\"t-SNE\")\n",
    "plot_embedding(embed_tsne, train_y_reduced)"
   ]
  },
  {
   "cell_type": "markdown",
   "metadata": {},
   "source": [
    "- LLE and MDS were run too but did not produce much of interest\n",
    "- The plot above with t-SNE seemed relatively stable to hyperparameter adjustment.  Playing with perplexity shifted some clusters around and spaced them out more, but did not seem to discriminate things any better.\n",
    "- All three plots here are showing some similarities: The purple class is clearly separated, and two other clusters clearly form, one with red/green and one with black/blue/yellow.  The latter two clusters should some order, but still mix together."
   ]
  },
  {
   "cell_type": "markdown",
   "metadata": {},
   "source": [
    "# Tensorflow Dabbling"
   ]
  },
  {
   "cell_type": "code",
   "execution_count": 1,
   "metadata": {
    "collapsed": true
   },
   "outputs": [],
   "source": [
    "import tensorflow as tf\n",
    "from collections import namedtuple"
   ]
  },
  {
   "cell_type": "code",
   "execution_count": 17,
   "metadata": {
    "collapsed": true
   },
   "outputs": [],
   "source": [
    "tf.reset_default_graph()"
   ]
  },
  {
   "cell_type": "code",
   "execution_count": 18,
   "metadata": {
    "collapsed": true
   },
   "outputs": [],
   "source": [
    "class LogisticRegressionGraph(object):\n",
    "    \n",
    "    def __init__(self, n_features, n_labels, scope=\"lr\"):\n",
    "        \"\"\"Create a TensorFlow graph for multinomial logistic regression\n",
    "        (in this case, softmax regression).  Specify the number of feature\n",
    "        dimensions ('n_features') and number of labels to classify over\n",
    "        ('n_labels').\"\"\"\n",
    "        # Loosely based on:\n",
    "        # http://ufldl.stanford.edu/wiki/index.php/Softmax_Regression\n",
    "        with tf.variable_scope(scope):\n",
    "            # Data:\n",
    "            self.example = tf.placeholder(tf.float32, [None, n_features])\n",
    "            self.label = tf.placeholder(tf.float32, [None, n_labels])\n",
    "            # Model:\n",
    "            self.weights = tf.get_variable(\"weights\", [n_features, n_labels])\n",
    "            self.bias = tf.get_variable(\"bias\", [n_labels])\n",
    "            # Unnormalized output (logits?):\n",
    "            logits = tf.matmul(self.example, self.weights) + self.bias\n",
    "            # 'softmax' is unnecessary here just for argmax (sigmoid would be\n",
    "            # equivalent), but it doesn't make much difference:\n",
    "            sm = tf.nn.softmax(logits)\n",
    "            self.predict_node = tf.argmax(sm, axis=1)\n",
    "            # Cost function as suggested in question:\n",
    "            self.loss = tf.nn.softmax_cross_entropy_with_logits(\n",
    "                logits=logits, labels=self.label)\n",
    "\n",
    "    def predict(self, session, X):\n",
    "        return session.run(self.predict_node, {self.example: X})\n"
   ]
  },
  {
   "cell_type": "code",
   "execution_count": 19,
   "metadata": {
    "collapsed": true
   },
   "outputs": [],
   "source": [
    "lr = LogisticRegressionGraph(train_X.shape[1], 6)"
   ]
  },
  {
   "cell_type": "code",
   "execution_count": 33,
   "metadata": {},
   "outputs": [],
   "source": [
    "train_y_bin = sklearn.preprocessing.label_binarize(train_y, classes=range(1,7))"
   ]
  },
  {
   "cell_type": "code",
   "execution_count": 39,
   "metadata": {},
   "outputs": [
    {
     "name": "stdout",
     "output_type": "stream",
     "text": [
      "Iter 0/2000: Training accuracy: 0.19164853101196952\n",
      "Iter 20/2000: Training accuracy: 0.5977965179542981\n",
      "Iter 40/2000: Training accuracy: 0.6536996735582155\n",
      "Iter 60/2000: Training accuracy: 0.7452393906420022\n",
      "Iter 80/2000: Training accuracy: 0.875\n",
      "Iter 100/2000: Training accuracy: 0.9058759521218716\n",
      "Iter 120/2000: Training accuracy: 0.9107725788900979\n",
      "Iter 140/2000: Training accuracy: 0.9083242655059848\n",
      "Iter 160/2000: Training accuracy: 0.9353917301414582\n",
      "Iter 180/2000: Training accuracy: 0.9402883569096845\n",
      "Iter 200/2000: Training accuracy: 0.9460010881392819\n",
      "Iter 220/2000: Training accuracy: 0.949265505984766\n",
      "Iter 240/2000: Training accuracy: 0.9496735582154516\n",
      "Iter 260/2000: Training accuracy: 0.8706474428726877\n",
      "Iter 280/2000: Training accuracy: 0.9027475516866159\n",
      "Iter 300/2000: Training accuracy: 0.9473612622415669\n",
      "Iter 320/2000: Training accuracy: 0.9522578890097932\n",
      "Iter 340/2000: Training accuracy: 0.9525299238302503\n",
      "Iter 360/2000: Training accuracy: 0.875544069640914\n",
      "Iter 380/2000: Training accuracy: 0.9317192600652884\n",
      "Iter 400/2000: Training accuracy: 0.9541621327529923\n",
      "Iter 420/2000: Training accuracy: 0.9570184983677911\n",
      "Iter 440/2000: Training accuracy: 0.9460010881392819\n",
      "Iter 460/2000: Training accuracy: 0.8988030467899891\n",
      "Iter 480/2000: Training accuracy: 0.9566104461371056\n",
      "Iter 500/2000: Training accuracy: 0.9597388465723613\n",
      "Iter 520/2000: Training accuracy: 0.955386289445049\n",
      "Iter 540/2000: Training accuracy: 0.8658868335146899\n",
      "Iter 560/2000: Training accuracy: 0.9389281828073993\n",
      "Iter 580/2000: Training accuracy: 0.9605549510337323\n",
      "Iter 600/2000: Training accuracy: 0.9617791077257889\n",
      "Iter 620/2000: Training accuracy: 0.9609630032644179\n",
      "Iter 640/2000: Training accuracy: 0.8797606093579978\n",
      "Iter 660/2000: Training accuracy: 0.9438248095756256\n",
      "Iter 680/2000: Training accuracy: 0.9621871599564744\n",
      "Iter 700/2000: Training accuracy: 0.9650435255712732\n",
      "Iter 720/2000: Training accuracy: 0.9643634385201306\n",
      "Iter 740/2000: Training accuracy: 0.8269858541893362\n",
      "Iter 760/2000: Training accuracy: 0.919613710554951\n",
      "Iter 780/2000: Training accuracy: 0.9642274211099021\n",
      "Iter 800/2000: Training accuracy: 0.9658596300326442\n",
      "Iter 820/2000: Training accuracy: 0.9673558215451578\n",
      "Iter 840/2000: Training accuracy: 0.9683079434167573\n",
      "Iter 860/2000: Training accuracy: 0.8929542981501633\n",
      "Iter 880/2000: Training accuracy: 0.9533460282916213\n",
      "Iter 900/2000: Training accuracy: 0.9696681175190425\n",
      "Iter 920/2000: Training accuracy: 0.970620239390642\n",
      "Iter 940/2000: Training accuracy: 0.9718443960826986\n",
      "Iter 960/2000: Training accuracy: 0.9736126224156693\n",
      "Iter 980/2000: Training accuracy: 0.9752448313384113\n",
      "Iter 1000/2000: Training accuracy: 0.9751088139281828\n",
      "Iter 1020/2000: Training accuracy: 0.9764689880304679\n",
      "Iter 1040/2000: Training accuracy: 0.9771490750816104\n",
      "Iter 1060/2000: Training accuracy: 0.9760609357997824\n",
      "Iter 1080/2000: Training accuracy: 0.9766050054406964\n",
      "Iter 1100/2000: Training accuracy: 0.9771490750816104\n",
      "Iter 1120/2000: Training accuracy: 0.8618063112078346\n",
      "Iter 1140/2000: Training accuracy: 0.9061479869423286\n",
      "Iter 1160/2000: Training accuracy: 0.9646354733405876\n",
      "Iter 1180/2000: Training accuracy: 0.969260065288357\n",
      "Iter 1200/2000: Training accuracy: 0.9715723612622416\n"
     ]
    },
    {
     "ename": "KeyboardInterrupt",
     "evalue": "",
     "output_type": "error",
     "traceback": [
      "\u001b[0;31m---------------------------------------------------------------------------\u001b[0m",
      "\u001b[0;31mKeyboardInterrupt\u001b[0m                         Traceback (most recent call last)",
      "\u001b[0;32m<ipython-input-39-d9f519c317b5>\u001b[0m in \u001b[0;36m<module>\u001b[0;34m()\u001b[0m\n\u001b[1;32m      7\u001b[0m     \u001b[0mmax_iters\u001b[0m \u001b[0;34m=\u001b[0m \u001b[0;36m2000\u001b[0m\u001b[0;34m\u001b[0m\u001b[0m\n\u001b[1;32m      8\u001b[0m     \u001b[0;32mfor\u001b[0m \u001b[0mi\u001b[0m \u001b[0;32min\u001b[0m \u001b[0mrange\u001b[0m\u001b[0;34m(\u001b[0m\u001b[0mmax_iters\u001b[0m\u001b[0;34m)\u001b[0m\u001b[0;34m:\u001b[0m\u001b[0;34m\u001b[0m\u001b[0m\n\u001b[0;32m----> 9\u001b[0;31m         \u001b[0msession\u001b[0m\u001b[0;34m.\u001b[0m\u001b[0mrun\u001b[0m\u001b[0;34m(\u001b[0m\u001b[0mtrain\u001b[0m\u001b[0;34m,\u001b[0m \u001b[0;34m{\u001b[0m\u001b[0mlr\u001b[0m\u001b[0;34m.\u001b[0m\u001b[0mexample\u001b[0m\u001b[0;34m:\u001b[0m \u001b[0mtrain_X\u001b[0m\u001b[0;34m,\u001b[0m \u001b[0mlr\u001b[0m\u001b[0;34m.\u001b[0m\u001b[0mlabel\u001b[0m\u001b[0;34m:\u001b[0m \u001b[0mtrain_y_bin\u001b[0m\u001b[0;34m}\u001b[0m\u001b[0;34m)\u001b[0m\u001b[0;34m\u001b[0m\u001b[0m\n\u001b[0m\u001b[1;32m     10\u001b[0m         \u001b[0;31m# evaluate training accuracy\u001b[0m\u001b[0;34m\u001b[0m\u001b[0;34m\u001b[0m\u001b[0m\n\u001b[1;32m     11\u001b[0m         \u001b[0;32mif\u001b[0m \u001b[0;34m(\u001b[0m\u001b[0mi\u001b[0m \u001b[0;34m%\u001b[0m \u001b[0;36m20\u001b[0m \u001b[0;34m==\u001b[0m \u001b[0;36m0\u001b[0m\u001b[0;34m)\u001b[0m\u001b[0;34m:\u001b[0m\u001b[0;34m\u001b[0m\u001b[0m\n",
      "\u001b[0;32m/nix/store/b40ycsj8wbpycx6gch3bb055mlgr4jml-python3-3.5.4-env/lib/python3.5/site-packages/tensorflow/python/client/session.py\u001b[0m in \u001b[0;36mrun\u001b[0;34m(self, fetches, feed_dict, options, run_metadata)\u001b[0m\n\u001b[1;32m    776\u001b[0m     \u001b[0;32mtry\u001b[0m\u001b[0;34m:\u001b[0m\u001b[0;34m\u001b[0m\u001b[0m\n\u001b[1;32m    777\u001b[0m       result = self._run(None, fetches, feed_dict, options_ptr,\n\u001b[0;32m--> 778\u001b[0;31m                          run_metadata_ptr)\n\u001b[0m\u001b[1;32m    779\u001b[0m       \u001b[0;32mif\u001b[0m \u001b[0mrun_metadata\u001b[0m\u001b[0;34m:\u001b[0m\u001b[0;34m\u001b[0m\u001b[0m\n\u001b[1;32m    780\u001b[0m         \u001b[0mproto_data\u001b[0m \u001b[0;34m=\u001b[0m \u001b[0mtf_session\u001b[0m\u001b[0;34m.\u001b[0m\u001b[0mTF_GetBuffer\u001b[0m\u001b[0;34m(\u001b[0m\u001b[0mrun_metadata_ptr\u001b[0m\u001b[0;34m)\u001b[0m\u001b[0;34m\u001b[0m\u001b[0m\n",
      "\u001b[0;32m/nix/store/b40ycsj8wbpycx6gch3bb055mlgr4jml-python3-3.5.4-env/lib/python3.5/site-packages/tensorflow/python/client/session.py\u001b[0m in \u001b[0;36m_run\u001b[0;34m(self, handle, fetches, feed_dict, options, run_metadata)\u001b[0m\n\u001b[1;32m    980\u001b[0m     \u001b[0;32mif\u001b[0m \u001b[0mfinal_fetches\u001b[0m \u001b[0;32mor\u001b[0m \u001b[0mfinal_targets\u001b[0m\u001b[0;34m:\u001b[0m\u001b[0;34m\u001b[0m\u001b[0m\n\u001b[1;32m    981\u001b[0m       results = self._do_run(handle, final_targets, final_fetches,\n\u001b[0;32m--> 982\u001b[0;31m                              feed_dict_string, options, run_metadata)\n\u001b[0m\u001b[1;32m    983\u001b[0m     \u001b[0;32melse\u001b[0m\u001b[0;34m:\u001b[0m\u001b[0;34m\u001b[0m\u001b[0m\n\u001b[1;32m    984\u001b[0m       \u001b[0mresults\u001b[0m \u001b[0;34m=\u001b[0m \u001b[0;34m[\u001b[0m\u001b[0;34m]\u001b[0m\u001b[0;34m\u001b[0m\u001b[0m\n",
      "\u001b[0;32m/nix/store/b40ycsj8wbpycx6gch3bb055mlgr4jml-python3-3.5.4-env/lib/python3.5/site-packages/tensorflow/python/client/session.py\u001b[0m in \u001b[0;36m_do_run\u001b[0;34m(self, handle, target_list, fetch_list, feed_dict, options, run_metadata)\u001b[0m\n\u001b[1;32m   1030\u001b[0m     \u001b[0;32mif\u001b[0m \u001b[0mhandle\u001b[0m \u001b[0;32mis\u001b[0m \u001b[0;32mNone\u001b[0m\u001b[0;34m:\u001b[0m\u001b[0;34m\u001b[0m\u001b[0m\n\u001b[1;32m   1031\u001b[0m       return self._do_call(_run_fn, self._session, feed_dict, fetch_list,\n\u001b[0;32m-> 1032\u001b[0;31m                            target_list, options, run_metadata)\n\u001b[0m\u001b[1;32m   1033\u001b[0m     \u001b[0;32melse\u001b[0m\u001b[0;34m:\u001b[0m\u001b[0;34m\u001b[0m\u001b[0m\n\u001b[1;32m   1034\u001b[0m       return self._do_call(_prun_fn, self._session, handle, feed_dict,\n",
      "\u001b[0;32m/nix/store/b40ycsj8wbpycx6gch3bb055mlgr4jml-python3-3.5.4-env/lib/python3.5/site-packages/tensorflow/python/client/session.py\u001b[0m in \u001b[0;36m_do_call\u001b[0;34m(self, fn, *args)\u001b[0m\n\u001b[1;32m   1037\u001b[0m   \u001b[0;32mdef\u001b[0m \u001b[0m_do_call\u001b[0m\u001b[0;34m(\u001b[0m\u001b[0mself\u001b[0m\u001b[0;34m,\u001b[0m \u001b[0mfn\u001b[0m\u001b[0;34m,\u001b[0m \u001b[0;34m*\u001b[0m\u001b[0margs\u001b[0m\u001b[0;34m)\u001b[0m\u001b[0;34m:\u001b[0m\u001b[0;34m\u001b[0m\u001b[0m\n\u001b[1;32m   1038\u001b[0m     \u001b[0;32mtry\u001b[0m\u001b[0;34m:\u001b[0m\u001b[0;34m\u001b[0m\u001b[0m\n\u001b[0;32m-> 1039\u001b[0;31m       \u001b[0;32mreturn\u001b[0m \u001b[0mfn\u001b[0m\u001b[0;34m(\u001b[0m\u001b[0;34m*\u001b[0m\u001b[0margs\u001b[0m\u001b[0;34m)\u001b[0m\u001b[0;34m\u001b[0m\u001b[0m\n\u001b[0m\u001b[1;32m   1040\u001b[0m     \u001b[0;32mexcept\u001b[0m \u001b[0merrors\u001b[0m\u001b[0;34m.\u001b[0m\u001b[0mOpError\u001b[0m \u001b[0;32mas\u001b[0m \u001b[0me\u001b[0m\u001b[0;34m:\u001b[0m\u001b[0;34m\u001b[0m\u001b[0m\n\u001b[1;32m   1041\u001b[0m       \u001b[0mmessage\u001b[0m \u001b[0;34m=\u001b[0m \u001b[0mcompat\u001b[0m\u001b[0;34m.\u001b[0m\u001b[0mas_text\u001b[0m\u001b[0;34m(\u001b[0m\u001b[0me\u001b[0m\u001b[0;34m.\u001b[0m\u001b[0mmessage\u001b[0m\u001b[0;34m)\u001b[0m\u001b[0;34m\u001b[0m\u001b[0m\n",
      "\u001b[0;32m/nix/store/b40ycsj8wbpycx6gch3bb055mlgr4jml-python3-3.5.4-env/lib/python3.5/site-packages/tensorflow/python/client/session.py\u001b[0m in \u001b[0;36m_run_fn\u001b[0;34m(session, feed_dict, fetch_list, target_list, options, run_metadata)\u001b[0m\n\u001b[1;32m   1019\u001b[0m         return tf_session.TF_Run(session, options,\n\u001b[1;32m   1020\u001b[0m                                  \u001b[0mfeed_dict\u001b[0m\u001b[0;34m,\u001b[0m \u001b[0mfetch_list\u001b[0m\u001b[0;34m,\u001b[0m \u001b[0mtarget_list\u001b[0m\u001b[0;34m,\u001b[0m\u001b[0;34m\u001b[0m\u001b[0m\n\u001b[0;32m-> 1021\u001b[0;31m                                  status, run_metadata)\n\u001b[0m\u001b[1;32m   1022\u001b[0m \u001b[0;34m\u001b[0m\u001b[0m\n\u001b[1;32m   1023\u001b[0m     \u001b[0;32mdef\u001b[0m \u001b[0m_prun_fn\u001b[0m\u001b[0;34m(\u001b[0m\u001b[0msession\u001b[0m\u001b[0;34m,\u001b[0m \u001b[0mhandle\u001b[0m\u001b[0;34m,\u001b[0m \u001b[0mfeed_dict\u001b[0m\u001b[0;34m,\u001b[0m \u001b[0mfetch_list\u001b[0m\u001b[0;34m)\u001b[0m\u001b[0;34m:\u001b[0m\u001b[0;34m\u001b[0m\u001b[0m\n",
      "\u001b[0;31mKeyboardInterrupt\u001b[0m: "
     ]
    }
   ],
   "source": [
    "learning_rate = 0.005\n",
    "with tf.Session() as session:\n",
    "    init = tf.global_variables_initializer()\n",
    "    optimizer = tf.train.GradientDescentOptimizer(0.01)\n",
    "    train = optimizer.minimize(lr.loss)\n",
    "    session.run(init) # reset values to wrong\n",
    "    max_iters = 2000\n",
    "    for i in range(max_iters):\n",
    "        session.run(train, {lr.example: train_X, lr.label: train_y_bin})\n",
    "        # evaluate training accuracy\n",
    "        if (i % 20 == 0):\n",
    "            train_y_predict = lr.predict(session, train_X)\n",
    "            acc = sklearn.metrics.accuracy_score(train_y, train_y_predict + 1)\n",
    "            print(\"Iter {0}/{1}: Training accuracy: {2}\".format(i, max_iters, acc))"
   ]
  },
  {
   "cell_type": "code",
   "execution_count": null,
   "metadata": {
    "collapsed": true
   },
   "outputs": [],
   "source": []
  }
 ],
 "metadata": {
  "kernelspec": {
   "display_name": "Python 3",
   "language": "python",
   "name": "python3"
  },
  "language_info": {
   "codemirror_mode": {
    "name": "ipython",
    "version": 3
   },
   "file_extension": ".py",
   "mimetype": "text/x-python",
   "name": "python",
   "nbconvert_exporter": "python",
   "pygments_lexer": "ipython3",
   "version": "3.5.4"
  }
 },
 "nbformat": 4,
 "nbformat_minor": 2
}
