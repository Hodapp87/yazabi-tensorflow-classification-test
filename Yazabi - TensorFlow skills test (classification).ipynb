{
 "cells": [
  {
   "cell_type": "markdown",
   "metadata": {},
   "source": [
    "# Scratch work for TensorFlow skills test (classification)\n",
    "\n",
    "- Author: Chris Hodapp\n",
    "- Date: 2017-11-15\n",
    "- For SharpestMinds/Yazabi\n",
    "\n",
    "## Links:\n",
    "\n",
    "- [human-activity-recognition-using-smartphones (GitHub)](https://github.com/pdelboca/human-activity-recognition-using-smartphones)\n",
    "- [Data source (60 MB ZIP)](https://d396qusza40orc.cloudfront.net/getdata%2Fprojectfiles%2FUCI%20HAR%20Dataset.zip)\n",
    "- [Human Activity Recognition Using Smartphones (UCI)](http://archive.ics.uci.edu/ml/datasets/Human+Activity+Recognition+Using+Smartphones)\n",
    "- [MLconf 2015 Seattle: When do I use zero-mean/unit variance normalization vs unit L1/L2 normalization?\n",
    "](https://www.quora.com/MLconf-2015-Seattle-When-do-I-use-zero-mean-unit-variance-normalization-vs-unit-L1-L2-normalization)"
   ]
  },
  {
   "cell_type": "markdown",
   "metadata": {},
   "source": [
    "## Boilerplate"
   ]
  },
  {
   "cell_type": "code",
   "execution_count": 1,
   "metadata": {
    "collapsed": true
   },
   "outputs": [],
   "source": [
    "import os"
   ]
  },
  {
   "cell_type": "code",
   "execution_count": 2,
   "metadata": {
    "collapsed": true
   },
   "outputs": [],
   "source": [
    "import numpy as np\n",
    "import pandas as pd\n",
    "import matplotlib\n",
    "import matplotlib.pyplot as plt\n",
    "\n",
    "import sklearn.decomposition\n",
    "import sklearn.externals\n",
    "import sklearn.manifold\n",
    "import sklearn.preprocessing"
   ]
  },
  {
   "cell_type": "markdown",
   "metadata": {},
   "source": [
    "## Data Loading"
   ]
  },
  {
   "cell_type": "code",
   "execution_count": 3,
   "metadata": {},
   "outputs": [
    {
     "data": {
      "text/plain": [
       "['tBodyAcc_mean_X',\n",
       " 'tBodyAcc_mean_Y',\n",
       " 'tBodyAcc_mean_Z',\n",
       " 'tBodyAcc_std_X',\n",
       " 'tBodyAcc_std_Y',\n",
       " 'tBodyAcc_std_Z',\n",
       " 'tBodyAcc_mad_X',\n",
       " 'tBodyAcc_mad_Y',\n",
       " 'tBodyAcc_mad_Z',\n",
       " 'tBodyAcc_max_X',\n",
       " 'tBodyAcc_max_Y',\n",
       " 'tBodyAcc_max_Z',\n",
       " 'tBodyAcc_min_X',\n",
       " 'tBodyAcc_min_Y',\n",
       " 'tBodyAcc_min_Z',\n",
       " 'tBodyAcc_sma',\n",
       " 'tBodyAcc_energy_X',\n",
       " 'tBodyAcc_energy_Y',\n",
       " 'tBodyAcc_energy_Z',\n",
       " 'tBodyAcc_iqr_X',\n",
       " 'tBodyAcc_iqr_Y',\n",
       " 'tBodyAcc_iqr_Z',\n",
       " 'tBodyAcc_entropy_X',\n",
       " 'tBodyAcc_entropy_Y',\n",
       " 'tBodyAcc_entropy_Z',\n",
       " 'tBodyAcc_arCoeff_X_1',\n",
       " 'tBodyAcc_arCoeff_X_2',\n",
       " 'tBodyAcc_arCoeff_X_3',\n",
       " 'tBodyAcc_arCoeff_X_4',\n",
       " 'tBodyAcc_arCoeff_Y_1',\n",
       " 'tBodyAcc_arCoeff_Y_2',\n",
       " 'tBodyAcc_arCoeff_Y_3',\n",
       " 'tBodyAcc_arCoeff_Y_4',\n",
       " 'tBodyAcc_arCoeff_Z_1',\n",
       " 'tBodyAcc_arCoeff_Z_2',\n",
       " 'tBodyAcc_arCoeff_Z_3',\n",
       " 'tBodyAcc_arCoeff_Z_4',\n",
       " 'tBodyAcc_correlation_X_Y',\n",
       " 'tBodyAcc_correlation_X_Z',\n",
       " 'tBodyAcc_correlation_Y_Z',\n",
       " 'tGravityAcc_mean_X',\n",
       " 'tGravityAcc_mean_Y',\n",
       " 'tGravityAcc_mean_Z',\n",
       " 'tGravityAcc_std_X',\n",
       " 'tGravityAcc_std_Y',\n",
       " 'tGravityAcc_std_Z',\n",
       " 'tGravityAcc_mad_X',\n",
       " 'tGravityAcc_mad_Y',\n",
       " 'tGravityAcc_mad_Z',\n",
       " 'tGravityAcc_max_X',\n",
       " 'tGravityAcc_max_Y',\n",
       " 'tGravityAcc_max_Z',\n",
       " 'tGravityAcc_min_X',\n",
       " 'tGravityAcc_min_Y',\n",
       " 'tGravityAcc_min_Z',\n",
       " 'tGravityAcc_sma',\n",
       " 'tGravityAcc_energy_X',\n",
       " 'tGravityAcc_energy_Y',\n",
       " 'tGravityAcc_energy_Z',\n",
       " 'tGravityAcc_iqr_X',\n",
       " 'tGravityAcc_iqr_Y',\n",
       " 'tGravityAcc_iqr_Z',\n",
       " 'tGravityAcc_entropy_X',\n",
       " 'tGravityAcc_entropy_Y',\n",
       " 'tGravityAcc_entropy_Z',\n",
       " 'tGravityAcc_arCoeff_X_1',\n",
       " 'tGravityAcc_arCoeff_X_2',\n",
       " 'tGravityAcc_arCoeff_X_3',\n",
       " 'tGravityAcc_arCoeff_X_4',\n",
       " 'tGravityAcc_arCoeff_Y_1',\n",
       " 'tGravityAcc_arCoeff_Y_2',\n",
       " 'tGravityAcc_arCoeff_Y_3',\n",
       " 'tGravityAcc_arCoeff_Y_4',\n",
       " 'tGravityAcc_arCoeff_Z_1',\n",
       " 'tGravityAcc_arCoeff_Z_2',\n",
       " 'tGravityAcc_arCoeff_Z_3',\n",
       " 'tGravityAcc_arCoeff_Z_4',\n",
       " 'tGravityAcc_correlation_X_Y',\n",
       " 'tGravityAcc_correlation_X_Z',\n",
       " 'tGravityAcc_correlation_Y_Z',\n",
       " 'tBodyAccJerk_mean_X',\n",
       " 'tBodyAccJerk_mean_Y',\n",
       " 'tBodyAccJerk_mean_Z',\n",
       " 'tBodyAccJerk_std_X',\n",
       " 'tBodyAccJerk_std_Y',\n",
       " 'tBodyAccJerk_std_Z',\n",
       " 'tBodyAccJerk_mad_X',\n",
       " 'tBodyAccJerk_mad_Y',\n",
       " 'tBodyAccJerk_mad_Z',\n",
       " 'tBodyAccJerk_max_X',\n",
       " 'tBodyAccJerk_max_Y',\n",
       " 'tBodyAccJerk_max_Z',\n",
       " 'tBodyAccJerk_min_X',\n",
       " 'tBodyAccJerk_min_Y',\n",
       " 'tBodyAccJerk_min_Z',\n",
       " 'tBodyAccJerk_sma',\n",
       " 'tBodyAccJerk_energy_X',\n",
       " 'tBodyAccJerk_energy_Y',\n",
       " 'tBodyAccJerk_energy_Z',\n",
       " 'tBodyAccJerk_iqr_X',\n",
       " 'tBodyAccJerk_iqr_Y',\n",
       " 'tBodyAccJerk_iqr_Z',\n",
       " 'tBodyAccJerk_entropy_X',\n",
       " 'tBodyAccJerk_entropy_Y',\n",
       " 'tBodyAccJerk_entropy_Z',\n",
       " 'tBodyAccJerk_arCoeff_X_1',\n",
       " 'tBodyAccJerk_arCoeff_X_2',\n",
       " 'tBodyAccJerk_arCoeff_X_3',\n",
       " 'tBodyAccJerk_arCoeff_X_4',\n",
       " 'tBodyAccJerk_arCoeff_Y_1',\n",
       " 'tBodyAccJerk_arCoeff_Y_2',\n",
       " 'tBodyAccJerk_arCoeff_Y_3',\n",
       " 'tBodyAccJerk_arCoeff_Y_4',\n",
       " 'tBodyAccJerk_arCoeff_Z_1',\n",
       " 'tBodyAccJerk_arCoeff_Z_2',\n",
       " 'tBodyAccJerk_arCoeff_Z_3',\n",
       " 'tBodyAccJerk_arCoeff_Z_4',\n",
       " 'tBodyAccJerk_correlation_X_Y',\n",
       " 'tBodyAccJerk_correlation_X_Z',\n",
       " 'tBodyAccJerk_correlation_Y_Z',\n",
       " 'tBodyGyro_mean_X',\n",
       " 'tBodyGyro_mean_Y',\n",
       " 'tBodyGyro_mean_Z',\n",
       " 'tBodyGyro_std_X',\n",
       " 'tBodyGyro_std_Y',\n",
       " 'tBodyGyro_std_Z',\n",
       " 'tBodyGyro_mad_X',\n",
       " 'tBodyGyro_mad_Y',\n",
       " 'tBodyGyro_mad_Z',\n",
       " 'tBodyGyro_max_X',\n",
       " 'tBodyGyro_max_Y',\n",
       " 'tBodyGyro_max_Z',\n",
       " 'tBodyGyro_min_X',\n",
       " 'tBodyGyro_min_Y',\n",
       " 'tBodyGyro_min_Z',\n",
       " 'tBodyGyro_sma',\n",
       " 'tBodyGyro_energy_X',\n",
       " 'tBodyGyro_energy_Y',\n",
       " 'tBodyGyro_energy_Z',\n",
       " 'tBodyGyro_iqr_X',\n",
       " 'tBodyGyro_iqr_Y',\n",
       " 'tBodyGyro_iqr_Z',\n",
       " 'tBodyGyro_entropy_X',\n",
       " 'tBodyGyro_entropy_Y',\n",
       " 'tBodyGyro_entropy_Z',\n",
       " 'tBodyGyro_arCoeff_X_1',\n",
       " 'tBodyGyro_arCoeff_X_2',\n",
       " 'tBodyGyro_arCoeff_X_3',\n",
       " 'tBodyGyro_arCoeff_X_4',\n",
       " 'tBodyGyro_arCoeff_Y_1',\n",
       " 'tBodyGyro_arCoeff_Y_2',\n",
       " 'tBodyGyro_arCoeff_Y_3',\n",
       " 'tBodyGyro_arCoeff_Y_4',\n",
       " 'tBodyGyro_arCoeff_Z_1',\n",
       " 'tBodyGyro_arCoeff_Z_2',\n",
       " 'tBodyGyro_arCoeff_Z_3',\n",
       " 'tBodyGyro_arCoeff_Z_4',\n",
       " 'tBodyGyro_correlation_X_Y',\n",
       " 'tBodyGyro_correlation_X_Z',\n",
       " 'tBodyGyro_correlation_Y_Z',\n",
       " 'tBodyGyroJerk_mean_X',\n",
       " 'tBodyGyroJerk_mean_Y',\n",
       " 'tBodyGyroJerk_mean_Z',\n",
       " 'tBodyGyroJerk_std_X',\n",
       " 'tBodyGyroJerk_std_Y',\n",
       " 'tBodyGyroJerk_std_Z',\n",
       " 'tBodyGyroJerk_mad_X',\n",
       " 'tBodyGyroJerk_mad_Y',\n",
       " 'tBodyGyroJerk_mad_Z',\n",
       " 'tBodyGyroJerk_max_X',\n",
       " 'tBodyGyroJerk_max_Y',\n",
       " 'tBodyGyroJerk_max_Z',\n",
       " 'tBodyGyroJerk_min_X',\n",
       " 'tBodyGyroJerk_min_Y',\n",
       " 'tBodyGyroJerk_min_Z',\n",
       " 'tBodyGyroJerk_sma',\n",
       " 'tBodyGyroJerk_energy_X',\n",
       " 'tBodyGyroJerk_energy_Y',\n",
       " 'tBodyGyroJerk_energy_Z',\n",
       " 'tBodyGyroJerk_iqr_X',\n",
       " 'tBodyGyroJerk_iqr_Y',\n",
       " 'tBodyGyroJerk_iqr_Z',\n",
       " 'tBodyGyroJerk_entropy_X',\n",
       " 'tBodyGyroJerk_entropy_Y',\n",
       " 'tBodyGyroJerk_entropy_Z',\n",
       " 'tBodyGyroJerk_arCoeff_X_1',\n",
       " 'tBodyGyroJerk_arCoeff_X_2',\n",
       " 'tBodyGyroJerk_arCoeff_X_3',\n",
       " 'tBodyGyroJerk_arCoeff_X_4',\n",
       " 'tBodyGyroJerk_arCoeff_Y_1',\n",
       " 'tBodyGyroJerk_arCoeff_Y_2',\n",
       " 'tBodyGyroJerk_arCoeff_Y_3',\n",
       " 'tBodyGyroJerk_arCoeff_Y_4',\n",
       " 'tBodyGyroJerk_arCoeff_Z_1',\n",
       " 'tBodyGyroJerk_arCoeff_Z_2',\n",
       " 'tBodyGyroJerk_arCoeff_Z_3',\n",
       " 'tBodyGyroJerk_arCoeff_Z_4',\n",
       " 'tBodyGyroJerk_correlation_X_Y',\n",
       " 'tBodyGyroJerk_correlation_X_Z',\n",
       " 'tBodyGyroJerk_correlation_Y_Z',\n",
       " 'tBodyAccMag_mean',\n",
       " 'tBodyAccMag_std',\n",
       " 'tBodyAccMag_mad',\n",
       " 'tBodyAccMag_max',\n",
       " 'tBodyAccMag_min',\n",
       " 'tBodyAccMag_sma',\n",
       " 'tBodyAccMag_energy',\n",
       " 'tBodyAccMag_iqr',\n",
       " 'tBodyAccMag_entropy',\n",
       " 'tBodyAccMag_arCoeff1',\n",
       " 'tBodyAccMag_arCoeff2',\n",
       " 'tBodyAccMag_arCoeff3',\n",
       " 'tBodyAccMag_arCoeff4',\n",
       " 'tGravityAccMag_mean',\n",
       " 'tGravityAccMag_std',\n",
       " 'tGravityAccMag_mad',\n",
       " 'tGravityAccMag_max',\n",
       " 'tGravityAccMag_min',\n",
       " 'tGravityAccMag_sma',\n",
       " 'tGravityAccMag_energy',\n",
       " 'tGravityAccMag_iqr',\n",
       " 'tGravityAccMag_entropy',\n",
       " 'tGravityAccMag_arCoeff1',\n",
       " 'tGravityAccMag_arCoeff2',\n",
       " 'tGravityAccMag_arCoeff3',\n",
       " 'tGravityAccMag_arCoeff4',\n",
       " 'tBodyAccJerkMag_mean',\n",
       " 'tBodyAccJerkMag_std',\n",
       " 'tBodyAccJerkMag_mad',\n",
       " 'tBodyAccJerkMag_max',\n",
       " 'tBodyAccJerkMag_min',\n",
       " 'tBodyAccJerkMag_sma',\n",
       " 'tBodyAccJerkMag_energy',\n",
       " 'tBodyAccJerkMag_iqr',\n",
       " 'tBodyAccJerkMag_entropy',\n",
       " 'tBodyAccJerkMag_arCoeff1',\n",
       " 'tBodyAccJerkMag_arCoeff2',\n",
       " 'tBodyAccJerkMag_arCoeff3',\n",
       " 'tBodyAccJerkMag_arCoeff4',\n",
       " 'tBodyGyroMag_mean',\n",
       " 'tBodyGyroMag_std',\n",
       " 'tBodyGyroMag_mad',\n",
       " 'tBodyGyroMag_max',\n",
       " 'tBodyGyroMag_min',\n",
       " 'tBodyGyroMag_sma',\n",
       " 'tBodyGyroMag_energy',\n",
       " 'tBodyGyroMag_iqr',\n",
       " 'tBodyGyroMag_entropy',\n",
       " 'tBodyGyroMag_arCoeff1',\n",
       " 'tBodyGyroMag_arCoeff2',\n",
       " 'tBodyGyroMag_arCoeff3',\n",
       " 'tBodyGyroMag_arCoeff4',\n",
       " 'tBodyGyroJerkMag_mean',\n",
       " 'tBodyGyroJerkMag_std',\n",
       " 'tBodyGyroJerkMag_mad',\n",
       " 'tBodyGyroJerkMag_max',\n",
       " 'tBodyGyroJerkMag_min',\n",
       " 'tBodyGyroJerkMag_sma',\n",
       " 'tBodyGyroJerkMag_energy',\n",
       " 'tBodyGyroJerkMag_iqr',\n",
       " 'tBodyGyroJerkMag_entropy',\n",
       " 'tBodyGyroJerkMag_arCoeff1',\n",
       " 'tBodyGyroJerkMag_arCoeff2',\n",
       " 'tBodyGyroJerkMag_arCoeff3',\n",
       " 'tBodyGyroJerkMag_arCoeff4',\n",
       " 'fBodyAcc_mean_X',\n",
       " 'fBodyAcc_mean_Y',\n",
       " 'fBodyAcc_mean_Z',\n",
       " 'fBodyAcc_std_X',\n",
       " 'fBodyAcc_std_Y',\n",
       " 'fBodyAcc_std_Z',\n",
       " 'fBodyAcc_mad_X',\n",
       " 'fBodyAcc_mad_Y',\n",
       " 'fBodyAcc_mad_Z',\n",
       " 'fBodyAcc_max_X',\n",
       " 'fBodyAcc_max_Y',\n",
       " 'fBodyAcc_max_Z',\n",
       " 'fBodyAcc_min_X',\n",
       " 'fBodyAcc_min_Y',\n",
       " 'fBodyAcc_min_Z',\n",
       " 'fBodyAcc_sma',\n",
       " 'fBodyAcc_energy_X',\n",
       " 'fBodyAcc_energy_Y',\n",
       " 'fBodyAcc_energy_Z',\n",
       " 'fBodyAcc_iqr_X',\n",
       " 'fBodyAcc_iqr_Y',\n",
       " 'fBodyAcc_iqr_Z',\n",
       " 'fBodyAcc_entropy_X',\n",
       " 'fBodyAcc_entropy_Y',\n",
       " 'fBodyAcc_entropy_Z',\n",
       " 'fBodyAcc_maxInds_X',\n",
       " 'fBodyAcc_maxInds_Y',\n",
       " 'fBodyAcc_maxInds_Z',\n",
       " 'fBodyAcc_meanFreq_X',\n",
       " 'fBodyAcc_meanFreq_Y',\n",
       " 'fBodyAcc_meanFreq_Z',\n",
       " 'fBodyAcc_skewness_X',\n",
       " 'fBodyAcc_kurtosis_X',\n",
       " 'fBodyAcc_skewness_Y',\n",
       " 'fBodyAcc_kurtosis_Y',\n",
       " 'fBodyAcc_skewness_Z',\n",
       " 'fBodyAcc_kurtosis_Z',\n",
       " 'fBodyAcc_bandsEnergy_1_8',\n",
       " 'fBodyAcc_bandsEnergy_9_16',\n",
       " 'fBodyAcc_bandsEnergy_17_24',\n",
       " 'fBodyAcc_bandsEnergy_25_32',\n",
       " 'fBodyAcc_bandsEnergy_33_40',\n",
       " 'fBodyAcc_bandsEnergy_41_48',\n",
       " 'fBodyAcc_bandsEnergy_49_56',\n",
       " 'fBodyAcc_bandsEnergy_57_64',\n",
       " 'fBodyAcc_bandsEnergy_1_16',\n",
       " 'fBodyAcc_bandsEnergy_17_32',\n",
       " 'fBodyAcc_bandsEnergy_33_48',\n",
       " 'fBodyAcc_bandsEnergy_49_64',\n",
       " 'fBodyAcc_bandsEnergy_1_24',\n",
       " 'fBodyAcc_bandsEnergy_25_48',\n",
       " 'fBodyAcc_bandsEnergy_1_8',\n",
       " 'fBodyAcc_bandsEnergy_9_16',\n",
       " 'fBodyAcc_bandsEnergy_17_24',\n",
       " 'fBodyAcc_bandsEnergy_25_32',\n",
       " 'fBodyAcc_bandsEnergy_33_40',\n",
       " 'fBodyAcc_bandsEnergy_41_48',\n",
       " 'fBodyAcc_bandsEnergy_49_56',\n",
       " 'fBodyAcc_bandsEnergy_57_64',\n",
       " 'fBodyAcc_bandsEnergy_1_16',\n",
       " 'fBodyAcc_bandsEnergy_17_32',\n",
       " 'fBodyAcc_bandsEnergy_33_48',\n",
       " 'fBodyAcc_bandsEnergy_49_64',\n",
       " 'fBodyAcc_bandsEnergy_1_24',\n",
       " 'fBodyAcc_bandsEnergy_25_48',\n",
       " 'fBodyAcc_bandsEnergy_1_8',\n",
       " 'fBodyAcc_bandsEnergy_9_16',\n",
       " 'fBodyAcc_bandsEnergy_17_24',\n",
       " 'fBodyAcc_bandsEnergy_25_32',\n",
       " 'fBodyAcc_bandsEnergy_33_40',\n",
       " 'fBodyAcc_bandsEnergy_41_48',\n",
       " 'fBodyAcc_bandsEnergy_49_56',\n",
       " 'fBodyAcc_bandsEnergy_57_64',\n",
       " 'fBodyAcc_bandsEnergy_1_16',\n",
       " 'fBodyAcc_bandsEnergy_17_32',\n",
       " 'fBodyAcc_bandsEnergy_33_48',\n",
       " 'fBodyAcc_bandsEnergy_49_64',\n",
       " 'fBodyAcc_bandsEnergy_1_24',\n",
       " 'fBodyAcc_bandsEnergy_25_48',\n",
       " 'fBodyAccJerk_mean_X',\n",
       " 'fBodyAccJerk_mean_Y',\n",
       " 'fBodyAccJerk_mean_Z',\n",
       " 'fBodyAccJerk_std_X',\n",
       " 'fBodyAccJerk_std_Y',\n",
       " 'fBodyAccJerk_std_Z',\n",
       " 'fBodyAccJerk_mad_X',\n",
       " 'fBodyAccJerk_mad_Y',\n",
       " 'fBodyAccJerk_mad_Z',\n",
       " 'fBodyAccJerk_max_X',\n",
       " 'fBodyAccJerk_max_Y',\n",
       " 'fBodyAccJerk_max_Z',\n",
       " 'fBodyAccJerk_min_X',\n",
       " 'fBodyAccJerk_min_Y',\n",
       " 'fBodyAccJerk_min_Z',\n",
       " 'fBodyAccJerk_sma',\n",
       " 'fBodyAccJerk_energy_X',\n",
       " 'fBodyAccJerk_energy_Y',\n",
       " 'fBodyAccJerk_energy_Z',\n",
       " 'fBodyAccJerk_iqr_X',\n",
       " 'fBodyAccJerk_iqr_Y',\n",
       " 'fBodyAccJerk_iqr_Z',\n",
       " 'fBodyAccJerk_entropy_X',\n",
       " 'fBodyAccJerk_entropy_Y',\n",
       " 'fBodyAccJerk_entropy_Z',\n",
       " 'fBodyAccJerk_maxInds_X',\n",
       " 'fBodyAccJerk_maxInds_Y',\n",
       " 'fBodyAccJerk_maxInds_Z',\n",
       " 'fBodyAccJerk_meanFreq_X',\n",
       " 'fBodyAccJerk_meanFreq_Y',\n",
       " 'fBodyAccJerk_meanFreq_Z',\n",
       " 'fBodyAccJerk_skewness_X',\n",
       " 'fBodyAccJerk_kurtosis_X',\n",
       " 'fBodyAccJerk_skewness_Y',\n",
       " 'fBodyAccJerk_kurtosis_Y',\n",
       " 'fBodyAccJerk_skewness_Z',\n",
       " 'fBodyAccJerk_kurtosis_Z',\n",
       " 'fBodyAccJerk_bandsEnergy_1_8',\n",
       " 'fBodyAccJerk_bandsEnergy_9_16',\n",
       " 'fBodyAccJerk_bandsEnergy_17_24',\n",
       " 'fBodyAccJerk_bandsEnergy_25_32',\n",
       " 'fBodyAccJerk_bandsEnergy_33_40',\n",
       " 'fBodyAccJerk_bandsEnergy_41_48',\n",
       " 'fBodyAccJerk_bandsEnergy_49_56',\n",
       " 'fBodyAccJerk_bandsEnergy_57_64',\n",
       " 'fBodyAccJerk_bandsEnergy_1_16',\n",
       " 'fBodyAccJerk_bandsEnergy_17_32',\n",
       " 'fBodyAccJerk_bandsEnergy_33_48',\n",
       " 'fBodyAccJerk_bandsEnergy_49_64',\n",
       " 'fBodyAccJerk_bandsEnergy_1_24',\n",
       " 'fBodyAccJerk_bandsEnergy_25_48',\n",
       " 'fBodyAccJerk_bandsEnergy_1_8',\n",
       " 'fBodyAccJerk_bandsEnergy_9_16',\n",
       " 'fBodyAccJerk_bandsEnergy_17_24',\n",
       " 'fBodyAccJerk_bandsEnergy_25_32',\n",
       " 'fBodyAccJerk_bandsEnergy_33_40',\n",
       " 'fBodyAccJerk_bandsEnergy_41_48',\n",
       " 'fBodyAccJerk_bandsEnergy_49_56',\n",
       " 'fBodyAccJerk_bandsEnergy_57_64',\n",
       " 'fBodyAccJerk_bandsEnergy_1_16',\n",
       " 'fBodyAccJerk_bandsEnergy_17_32',\n",
       " 'fBodyAccJerk_bandsEnergy_33_48',\n",
       " 'fBodyAccJerk_bandsEnergy_49_64',\n",
       " 'fBodyAccJerk_bandsEnergy_1_24',\n",
       " 'fBodyAccJerk_bandsEnergy_25_48',\n",
       " 'fBodyAccJerk_bandsEnergy_1_8',\n",
       " 'fBodyAccJerk_bandsEnergy_9_16',\n",
       " 'fBodyAccJerk_bandsEnergy_17_24',\n",
       " 'fBodyAccJerk_bandsEnergy_25_32',\n",
       " 'fBodyAccJerk_bandsEnergy_33_40',\n",
       " 'fBodyAccJerk_bandsEnergy_41_48',\n",
       " 'fBodyAccJerk_bandsEnergy_49_56',\n",
       " 'fBodyAccJerk_bandsEnergy_57_64',\n",
       " 'fBodyAccJerk_bandsEnergy_1_16',\n",
       " 'fBodyAccJerk_bandsEnergy_17_32',\n",
       " 'fBodyAccJerk_bandsEnergy_33_48',\n",
       " 'fBodyAccJerk_bandsEnergy_49_64',\n",
       " 'fBodyAccJerk_bandsEnergy_1_24',\n",
       " 'fBodyAccJerk_bandsEnergy_25_48',\n",
       " 'fBodyGyro_mean_X',\n",
       " 'fBodyGyro_mean_Y',\n",
       " 'fBodyGyro_mean_Z',\n",
       " 'fBodyGyro_std_X',\n",
       " 'fBodyGyro_std_Y',\n",
       " 'fBodyGyro_std_Z',\n",
       " 'fBodyGyro_mad_X',\n",
       " 'fBodyGyro_mad_Y',\n",
       " 'fBodyGyro_mad_Z',\n",
       " 'fBodyGyro_max_X',\n",
       " 'fBodyGyro_max_Y',\n",
       " 'fBodyGyro_max_Z',\n",
       " 'fBodyGyro_min_X',\n",
       " 'fBodyGyro_min_Y',\n",
       " 'fBodyGyro_min_Z',\n",
       " 'fBodyGyro_sma',\n",
       " 'fBodyGyro_energy_X',\n",
       " 'fBodyGyro_energy_Y',\n",
       " 'fBodyGyro_energy_Z',\n",
       " 'fBodyGyro_iqr_X',\n",
       " 'fBodyGyro_iqr_Y',\n",
       " 'fBodyGyro_iqr_Z',\n",
       " 'fBodyGyro_entropy_X',\n",
       " 'fBodyGyro_entropy_Y',\n",
       " 'fBodyGyro_entropy_Z',\n",
       " 'fBodyGyro_maxInds_X',\n",
       " 'fBodyGyro_maxInds_Y',\n",
       " 'fBodyGyro_maxInds_Z',\n",
       " 'fBodyGyro_meanFreq_X',\n",
       " 'fBodyGyro_meanFreq_Y',\n",
       " 'fBodyGyro_meanFreq_Z',\n",
       " 'fBodyGyro_skewness_X',\n",
       " 'fBodyGyro_kurtosis_X',\n",
       " 'fBodyGyro_skewness_Y',\n",
       " 'fBodyGyro_kurtosis_Y',\n",
       " 'fBodyGyro_skewness_Z',\n",
       " 'fBodyGyro_kurtosis_Z',\n",
       " 'fBodyGyro_bandsEnergy_1_8',\n",
       " 'fBodyGyro_bandsEnergy_9_16',\n",
       " 'fBodyGyro_bandsEnergy_17_24',\n",
       " 'fBodyGyro_bandsEnergy_25_32',\n",
       " 'fBodyGyro_bandsEnergy_33_40',\n",
       " 'fBodyGyro_bandsEnergy_41_48',\n",
       " 'fBodyGyro_bandsEnergy_49_56',\n",
       " 'fBodyGyro_bandsEnergy_57_64',\n",
       " 'fBodyGyro_bandsEnergy_1_16',\n",
       " 'fBodyGyro_bandsEnergy_17_32',\n",
       " 'fBodyGyro_bandsEnergy_33_48',\n",
       " 'fBodyGyro_bandsEnergy_49_64',\n",
       " 'fBodyGyro_bandsEnergy_1_24',\n",
       " 'fBodyGyro_bandsEnergy_25_48',\n",
       " 'fBodyGyro_bandsEnergy_1_8',\n",
       " 'fBodyGyro_bandsEnergy_9_16',\n",
       " 'fBodyGyro_bandsEnergy_17_24',\n",
       " 'fBodyGyro_bandsEnergy_25_32',\n",
       " 'fBodyGyro_bandsEnergy_33_40',\n",
       " 'fBodyGyro_bandsEnergy_41_48',\n",
       " 'fBodyGyro_bandsEnergy_49_56',\n",
       " 'fBodyGyro_bandsEnergy_57_64',\n",
       " 'fBodyGyro_bandsEnergy_1_16',\n",
       " 'fBodyGyro_bandsEnergy_17_32',\n",
       " 'fBodyGyro_bandsEnergy_33_48',\n",
       " 'fBodyGyro_bandsEnergy_49_64',\n",
       " 'fBodyGyro_bandsEnergy_1_24',\n",
       " 'fBodyGyro_bandsEnergy_25_48',\n",
       " 'fBodyGyro_bandsEnergy_1_8',\n",
       " 'fBodyGyro_bandsEnergy_9_16',\n",
       " 'fBodyGyro_bandsEnergy_17_24',\n",
       " 'fBodyGyro_bandsEnergy_25_32',\n",
       " 'fBodyGyro_bandsEnergy_33_40',\n",
       " 'fBodyGyro_bandsEnergy_41_48',\n",
       " 'fBodyGyro_bandsEnergy_49_56',\n",
       " 'fBodyGyro_bandsEnergy_57_64',\n",
       " 'fBodyGyro_bandsEnergy_1_16',\n",
       " 'fBodyGyro_bandsEnergy_17_32',\n",
       " 'fBodyGyro_bandsEnergy_33_48',\n",
       " 'fBodyGyro_bandsEnergy_49_64',\n",
       " 'fBodyGyro_bandsEnergy_1_24',\n",
       " 'fBodyGyro_bandsEnergy_25_48',\n",
       " 'fBodyAccMag_mean',\n",
       " 'fBodyAccMag_std',\n",
       " 'fBodyAccMag_mad',\n",
       " 'fBodyAccMag_max',\n",
       " 'fBodyAccMag_min',\n",
       " 'fBodyAccMag_sma',\n",
       " 'fBodyAccMag_energy',\n",
       " 'fBodyAccMag_iqr',\n",
       " 'fBodyAccMag_entropy',\n",
       " 'fBodyAccMag_maxInds',\n",
       " 'fBodyAccMag_meanFreq',\n",
       " 'fBodyAccMag_skewness',\n",
       " 'fBodyAccMag_kurtosis',\n",
       " 'fBodyBodyAccJerkMag_mean',\n",
       " 'fBodyBodyAccJerkMag_std',\n",
       " 'fBodyBodyAccJerkMag_mad',\n",
       " 'fBodyBodyAccJerkMag_max',\n",
       " 'fBodyBodyAccJerkMag_min',\n",
       " 'fBodyBodyAccJerkMag_sma',\n",
       " 'fBodyBodyAccJerkMag_energy',\n",
       " 'fBodyBodyAccJerkMag_iqr',\n",
       " 'fBodyBodyAccJerkMag_entropy',\n",
       " 'fBodyBodyAccJerkMag_maxInds',\n",
       " 'fBodyBodyAccJerkMag_meanFreq',\n",
       " 'fBodyBodyAccJerkMag_skewness',\n",
       " 'fBodyBodyAccJerkMag_kurtosis',\n",
       " 'fBodyBodyGyroMag_mean',\n",
       " 'fBodyBodyGyroMag_std',\n",
       " 'fBodyBodyGyroMag_mad',\n",
       " 'fBodyBodyGyroMag_max',\n",
       " 'fBodyBodyGyroMag_min',\n",
       " 'fBodyBodyGyroMag_sma',\n",
       " 'fBodyBodyGyroMag_energy',\n",
       " 'fBodyBodyGyroMag_iqr',\n",
       " 'fBodyBodyGyroMag_entropy',\n",
       " 'fBodyBodyGyroMag_maxInds',\n",
       " 'fBodyBodyGyroMag_meanFreq',\n",
       " 'fBodyBodyGyroMag_skewness',\n",
       " 'fBodyBodyGyroMag_kurtosis',\n",
       " 'fBodyBodyGyroJerkMag_mean',\n",
       " 'fBodyBodyGyroJerkMag_std',\n",
       " 'fBodyBodyGyroJerkMag_mad',\n",
       " 'fBodyBodyGyroJerkMag_max',\n",
       " 'fBodyBodyGyroJerkMag_min',\n",
       " 'fBodyBodyGyroJerkMag_sma',\n",
       " 'fBodyBodyGyroJerkMag_energy',\n",
       " 'fBodyBodyGyroJerkMag_iqr',\n",
       " 'fBodyBodyGyroJerkMag_entropy',\n",
       " 'fBodyBodyGyroJerkMag_maxInds',\n",
       " 'fBodyBodyGyroJerkMag_meanFreq',\n",
       " 'fBodyBodyGyroJerkMag_skewness',\n",
       " 'fBodyBodyGyroJerkMag_kurtosis',\n",
       " 'angletBodyAccMean_gravity',\n",
       " 'angletBodyAccJerkMean_gravityMean',\n",
       " 'angletBodyGyroMean_gravityMean',\n",
       " 'angletBodyGyroJerkMean_gravityMean',\n",
       " 'angleX_gravityMean',\n",
       " 'angleY_gravityMean',\n",
       " 'angleZ_gravityMean']"
      ]
     },
     "execution_count": 3,
     "metadata": {},
     "output_type": "execute_result"
    }
   ],
   "source": [
    "# I really don't feel like copying these into the document, so\n",
    "# instead load them from the included file:\n",
    "feature_list = pd.read_csv(\"UCI HAR Dataset/features.txt\",\n",
    "    index_col=0, header=None, sep=\" \")\n",
    "# ...and sanitize them so Pandas can use them for column names:\n",
    "san_dict = {ord(\"(\"): \"\", ord(\")\"): \"\", ord(\"-\"): \"_\", ord(\",\"): \"_\"}\n",
    "features = list(f.translate(san_dict) for f in feature_list.iloc[:,0])\n",
    "features"
   ]
  },
  {
   "cell_type": "code",
   "execution_count": 4,
   "metadata": {
    "collapsed": true
   },
   "outputs": [],
   "source": [
    "def read_features(fname):\n",
    "    return pd.read_csv(fname, delim_whitespace=True, header=None,\n",
    "                       names=features, index_col=None)\n",
    "\n",
    "train_X_summary = read_features(\"UCI HAR Dataset/train/X_train.txt\")\n",
    "test_X_summary = read_features(\"UCI HAR Dataset/test/X_test.txt\")"
   ]
  },
  {
   "cell_type": "code",
   "execution_count": 5,
   "metadata": {
    "collapsed": true
   },
   "outputs": [],
   "source": [
    "def read_labels(fname):\n",
    "    df = pd.read_csv(fname, header=None)\n",
    "    # We just want the series, not the dataframe:\n",
    "    return df.iloc[:, 0]\n",
    "\n",
    "train_y = read_labels(\"UCI HAR Dataset/train/y_train.txt\")\n",
    "test_y = read_labels(\"UCI HAR Dataset/test/y_test.txt\")"
   ]
  },
  {
   "cell_type": "code",
   "execution_count": 6,
   "metadata": {
    "collapsed": true
   },
   "outputs": [],
   "source": [
    "def read_accel(s, train_or_test):\n",
    "    fname = \"UCI HAR Dataset/{0}/Inertial Signals/total_acc_{1}_{0}.txt\".\\\n",
    "        format(train_or_test, s)\n",
    "    # It's a bit confusing to have column names that are also numbers,\n",
    "    # so use accX_0...accX_127 (for instance):\n",
    "    names = [\"acc\" + s.upper() + \"_\" + str(i) for i in range(128)]\n",
    "    df = pd.read_csv(fname, delim_whitespace=True, header=None,\n",
    "                     index_col=None, names=names)\n",
    "    assert df.shape[1] == 128\n",
    "    return df\n",
    "\n",
    "train_accels = [read_accel(v, \"train\") for v in (\"x\",\"y\",\"z\")]\n",
    "test_accels  = [read_accel(v, \"test\")  for v in (\"x\",\"y\",\"z\")]"
   ]
  },
  {
   "cell_type": "code",
   "execution_count": 7,
   "metadata": {
    "collapsed": true
   },
   "outputs": [],
   "source": [
    "train_X = pd.concat([train_X_summary] + train_accels, axis=1)\n",
    "test_X  = pd.concat([test_X_summary]  + test_accels,  axis=1)"
   ]
  },
  {
   "cell_type": "code",
   "execution_count": 8,
   "metadata": {
    "collapsed": true
   },
   "outputs": [],
   "source": [
    "# Standardize to unit variance & zero mean:\n",
    "ss = sklearn.preprocessing.StandardScaler()\n",
    "train_X.iloc[:, :] = ss.fit_transform(train_X)\n",
    "test_X.iloc[:, :] = ss.transform(test_X)"
   ]
  },
  {
   "cell_type": "code",
   "execution_count": 50,
   "metadata": {},
   "outputs": [
    {
     "name": "stdout",
     "output_type": "stream",
     "text": [
      "<class 'pandas.core.frame.DataFrame'>\n",
      "RangeIndex: 7352 entries, 0 to 7351\n",
      "Columns: 945 entries, tBodyAcc_mean_X to accZ_127\n",
      "dtypes: float64(945)\n",
      "memory usage: 53.0 MB\n"
     ]
    }
   ],
   "source": [
    "train_X.info()"
   ]
  },
  {
   "cell_type": "code",
   "execution_count": 10,
   "metadata": {},
   "outputs": [
    {
     "name": "stdout",
     "output_type": "stream",
     "text": [
      "<class 'pandas.core.frame.DataFrame'>\n",
      "RangeIndex: 2947 entries, 0 to 2946\n",
      "Columns: 945 entries, tBodyAcc_mean_X to accZ_127\n",
      "dtypes: float64(945)\n",
      "memory usage: 21.2 MB\n"
     ]
    }
   ],
   "source": [
    "test_X.info()"
   ]
  },
  {
   "cell_type": "code",
   "execution_count": 56,
   "metadata": {},
   "outputs": [
    {
     "data": {
      "text/plain": [
       "(0, 0)"
      ]
     },
     "execution_count": 56,
     "metadata": {},
     "output_type": "execute_result"
    }
   ],
   "source": [
    "train_X.isnull().sum().sum(), test_X.isnull().sum().sum()"
   ]
  },
  {
   "cell_type": "markdown",
   "metadata": {},
   "source": [
    "- Good, no nulls and everything parsed fine as a float64."
   ]
  },
  {
   "cell_type": "code",
   "execution_count": 84,
   "metadata": {},
   "outputs": [
    {
     "data": {
      "text/html": [
       "<div>\n",
       "<style>\n",
       "    .dataframe thead tr:only-child th {\n",
       "        text-align: right;\n",
       "    }\n",
       "\n",
       "    .dataframe thead th {\n",
       "        text-align: left;\n",
       "    }\n",
       "\n",
       "    .dataframe tbody tr th {\n",
       "        vertical-align: top;\n",
       "    }\n",
       "</style>\n",
       "<table border=\"1\" class=\"dataframe\">\n",
       "  <thead>\n",
       "    <tr style=\"text-align: right;\">\n",
       "      <th></th>\n",
       "      <th>Activity</th>\n",
       "      <th>Counts</th>\n",
       "      <th>Fraction</th>\n",
       "    </tr>\n",
       "    <tr>\n",
       "      <th>Label</th>\n",
       "      <th></th>\n",
       "      <th></th>\n",
       "      <th></th>\n",
       "    </tr>\n",
       "  </thead>\n",
       "  <tbody>\n",
       "    <tr>\n",
       "      <th>1</th>\n",
       "      <td>WALKING</td>\n",
       "      <td>1226</td>\n",
       "      <td>0.045770</td>\n",
       "    </tr>\n",
       "    <tr>\n",
       "      <th>2</th>\n",
       "      <td>WALKING_UPSTAIRS</td>\n",
       "      <td>2146</td>\n",
       "      <td>0.080116</td>\n",
       "    </tr>\n",
       "    <tr>\n",
       "      <th>3</th>\n",
       "      <td>WALKING_DOWNSTAIRS</td>\n",
       "      <td>2958</td>\n",
       "      <td>0.110431</td>\n",
       "    </tr>\n",
       "    <tr>\n",
       "      <th>4</th>\n",
       "      <td>SITTING</td>\n",
       "      <td>5144</td>\n",
       "      <td>0.192041</td>\n",
       "    </tr>\n",
       "    <tr>\n",
       "      <th>5</th>\n",
       "      <td>STANDING</td>\n",
       "      <td>6870</td>\n",
       "      <td>0.256477</td>\n",
       "    </tr>\n",
       "    <tr>\n",
       "      <th>6</th>\n",
       "      <td>LAYING</td>\n",
       "      <td>8442</td>\n",
       "      <td>0.315165</td>\n",
       "    </tr>\n",
       "  </tbody>\n",
       "</table>\n",
       "</div>"
      ],
      "text/plain": [
       "                 Activity  Counts  Fraction\n",
       "Label                                      \n",
       "1                 WALKING    1226  0.045770\n",
       "2        WALKING_UPSTAIRS    2146  0.080116\n",
       "3      WALKING_DOWNSTAIRS    2958  0.110431\n",
       "4                 SITTING    5144  0.192041\n",
       "5                STANDING    6870  0.256477\n",
       "6                  LAYING    8442  0.315165"
      ]
     },
     "execution_count": 84,
     "metadata": {},
     "output_type": "execute_result"
    }
   ],
   "source": [
    "labels = pd.read_csv(\"UCI HAR Dataset/activity_labels.txt\",\n",
    "    delim_whitespace=True, header=None, index_col=0, names=(\"Label\", \"Activity\"))\n",
    "counts = pd.DataFrame({\"Counts\": train_y.groupby(train_y).sum()})\n",
    "labels.join(counts).assign(Fraction = counts.Counts / sum(counts.Counts))"
   ]
  },
  {
   "cell_type": "markdown",
   "metadata": {},
   "source": [
    "- However, distribution of labels is a bit lopsided; I am guessing I should use stratified sampling when splitting and in any other cross-validation I might do."
   ]
  },
  {
   "cell_type": "markdown",
   "metadata": {},
   "source": [
    "## Manifold plots"
   ]
  },
  {
   "cell_type": "code",
   "execution_count": 11,
   "metadata": {
    "collapsed": true
   },
   "outputs": [],
   "source": [
    "def plot_embedding(embed, labels=train_y):\n",
    "    cmap = matplotlib.colors.ListedColormap(['k','b','y','g','r','m'])\n",
    "    plt.scatter(\n",
    "        embed[:,0], embed[:,1], s=5,\n",
    "        c=labels,\n",
    "        cmap=cmap\n",
    "    )\n",
    "    plt.show()"
   ]
  },
  {
   "cell_type": "code",
   "execution_count": 13,
   "metadata": {
    "collapsed": true
   },
   "outputs": [],
   "source": [
    "isomap = sklearn.manifold.Isomap(n_components=2)\n",
    "embed_iso = isomap.fit_transform(train_X)"
   ]
  },
  {
   "cell_type": "code",
   "execution_count": 15,
   "metadata": {
    "collapsed": true
   },
   "outputs": [],
   "source": [
    "spectral = sklearn.manifold.SpectralEmbedding(n_components=2)\n",
    "embed_sp = spectral.fit_transform(train_X)"
   ]
  },
  {
   "cell_type": "code",
   "execution_count": 17,
   "metadata": {},
   "outputs": [
    {
     "data": {
      "image/png": "[encoded data removed]",
      "text/plain": [
       "<matplotlib.figure.Figure at 0x7f88be9f4c88>"
      ]
     },
     "metadata": {},
     "output_type": "display_data"
    }
   ],
   "source": [
    "plt.title(\"Isomap\")\n",
    "plot_embedding(embed_iso)"
   ]
  },
  {
   "cell_type": "code",
   "execution_count": 19,
   "metadata": {},
   "outputs": [
    {
     "data": {
      "image/png": "[encoded data removed]",
      "text/plain": [
       "<matplotlib.figure.Figure at 0x7f88b83eccf8>"
      ]
     },
     "metadata": {},
     "output_type": "display_data"
    }
   ],
   "source": [
    "plt.title(\"Spectral embedding\")\n",
    "plot_embedding(embed_sp)"
   ]
  },
  {
   "cell_type": "markdown",
   "metadata": {},
   "source": [
    "- t-SNE, according to [this](https://medium.com/@luckylwk/visualising-high-dimensional-datasets-using-pca-and-t-sne-in-python-8ef87e7915b), should have the data's dimensions first reduced with PCA (to ~50) if it is very large:"
   ]
  },
  {
   "cell_type": "code",
   "execution_count": 45,
   "metadata": {},
   "outputs": [
    {
     "name": "stdout",
     "output_type": "stream",
     "text": [
      "Variance explained: 88.9%\n"
     ]
    }
   ],
   "source": [
    "pca = sklearn.decomposition.PCA(n_components=50)\n",
    "train_X_pca = pca.fit_transform(train_X)\n",
    "print(\"Variance explained: {0:.1f}%\".format(\n",
    "    pca.explained_variance_ratio_.sum() * 100))"
   ]
  },
  {
   "cell_type": "code",
   "execution_count": 46,
   "metadata": {},
   "outputs": [],
   "source": [
    "# t-SNE is O(N^2) in number of samples, so sample down:\n",
    "idxs_reduced = np.random.choice(train_X_pca.shape[0], 3000)\n",
    "train_X_pca_reduced = train_X_pca[idxs_reduced]\n",
    "train_y_reduced = train_y[idxs_reduced]"
   ]
  },
  {
   "cell_type": "code",
   "execution_count": 47,
   "metadata": {
    "collapsed": true
   },
   "outputs": [],
   "source": [
    "tsne = sklearn.manifold.TSNE(n_components=2, perplexity=50)\n",
    "embed_tsne = tsne.fit_transform(train_X_pca_reduced)"
   ]
  },
  {
   "cell_type": "code",
   "execution_count": 48,
   "metadata": {},
   "outputs": [
    {
     "data": {
      "image/png": "[encoded data removed]",
      "text/plain": [
       "<matplotlib.figure.Figure at 0x7f88b84ad240>"
      ]
     },
     "metadata": {},
     "output_type": "display_data"
    }
   ],
   "source": [
    "plt.title(\"t-SNE\")\n",
    "plot_embedding(embed_tsne, train_y_reduced)"
   ]
  },
  {
   "cell_type": "markdown",
   "metadata": {},
   "source": [
    "- LLE and MDS were run too but did not produce much of interest\n",
    "- The plot above with t-SNE seemed relatively stable to hyperparameter adjustment.  Playing with perplexity shifted some clusters around and spaced them out more, but did not seem to discriminate things any better.\n",
    "- All three plots here are showing some similarities: The purple class is clearly separated, and two other clusters clearly form, one with red/green and one with black/blue/yellow.  The latter two clusters should some order, but still mix together."
   ]
  },
  {
   "cell_type": "code",
   "execution_count": 92,
   "metadata": {},
   "outputs": [
    {
     "ename": "ValueError",
     "evalue": "Found input variables with inconsistent numbers of samples: [1, 7352]",
     "output_type": "error",
     "traceback": [
      "\u001b[0;31m---------------------------------------------------------------------------\u001b[0m",
      "\u001b[0;31mValueError\u001b[0m                                Traceback (most recent call last)",
      "\u001b[0;32m<ipython-input-92-6e73d2186411>\u001b[0m in \u001b[0;36m<module>\u001b[0;34m()\u001b[0m\n\u001b[1;32m      3\u001b[0m         \u001b[0mtest_size\u001b[0m\u001b[0;34m=\u001b[0m\u001b[0;36m1\u001b[0m \u001b[0;34m-\u001b[0m \u001b[0;36m0.75\u001b[0m\u001b[0;34m,\u001b[0m\u001b[0;34m\u001b[0m\u001b[0m\n\u001b[1;32m      4\u001b[0m         \u001b[0mrandom_state\u001b[0m\u001b[0;34m=\u001b[0m\u001b[0;36m123456\u001b[0m\u001b[0;34m,\u001b[0m\u001b[0;34m\u001b[0m\u001b[0m\n\u001b[0;32m----> 5\u001b[0;31m         stratify=train_y[:,np.newaxis])\n\u001b[0m",
      "\u001b[0;32m/nix/store/mx5yhsydz49ynczpn816q4bbc30qz9yn-python3-3.5.4-env/lib/python3.5/site-packages/sklearn/model_selection/_split.py\u001b[0m in \u001b[0;36mtrain_test_split\u001b[0;34m(*arrays, **options)\u001b[0m\n\u001b[1;32m   2038\u001b[0m                      random_state=random_state)\n\u001b[1;32m   2039\u001b[0m \u001b[0;34m\u001b[0m\u001b[0m\n\u001b[0;32m-> 2040\u001b[0;31m         \u001b[0mtrain\u001b[0m\u001b[0;34m,\u001b[0m \u001b[0mtest\u001b[0m \u001b[0;34m=\u001b[0m \u001b[0mnext\u001b[0m\u001b[0;34m(\u001b[0m\u001b[0mcv\u001b[0m\u001b[0;34m.\u001b[0m\u001b[0msplit\u001b[0m\u001b[0;34m(\u001b[0m\u001b[0mX\u001b[0m\u001b[0;34m=\u001b[0m\u001b[0marrays\u001b[0m\u001b[0;34m[\u001b[0m\u001b[0;36m0\u001b[0m\u001b[0;34m]\u001b[0m\u001b[0;34m,\u001b[0m \u001b[0my\u001b[0m\u001b[0;34m=\u001b[0m\u001b[0mstratify\u001b[0m\u001b[0;34m)\u001b[0m\u001b[0;34m)\u001b[0m\u001b[0;34m\u001b[0m\u001b[0m\n\u001b[0m\u001b[1;32m   2041\u001b[0m \u001b[0;34m\u001b[0m\u001b[0m\n\u001b[1;32m   2042\u001b[0m     return list(chain.from_iterable((safe_indexing(a, train),\n",
      "\u001b[0;32m/nix/store/mx5yhsydz49ynczpn816q4bbc30qz9yn-python3-3.5.4-env/lib/python3.5/site-packages/sklearn/model_selection/_split.py\u001b[0m in \u001b[0;36msplit\u001b[0;34m(self, X, y, groups)\u001b[0m\n\u001b[1;32m   1193\u001b[0m         \u001b[0mto\u001b[0m \u001b[0man\u001b[0m \u001b[0minteger\u001b[0m\u001b[0;34m.\u001b[0m\u001b[0;34m\u001b[0m\u001b[0m\n\u001b[1;32m   1194\u001b[0m         \"\"\"\n\u001b[0;32m-> 1195\u001b[0;31m         \u001b[0mX\u001b[0m\u001b[0;34m,\u001b[0m \u001b[0my\u001b[0m\u001b[0;34m,\u001b[0m \u001b[0mgroups\u001b[0m \u001b[0;34m=\u001b[0m \u001b[0mindexable\u001b[0m\u001b[0;34m(\u001b[0m\u001b[0mX\u001b[0m\u001b[0;34m,\u001b[0m \u001b[0my\u001b[0m\u001b[0;34m,\u001b[0m \u001b[0mgroups\u001b[0m\u001b[0;34m)\u001b[0m\u001b[0;34m\u001b[0m\u001b[0m\n\u001b[0m\u001b[1;32m   1196\u001b[0m         \u001b[0;32mfor\u001b[0m \u001b[0mtrain\u001b[0m\u001b[0;34m,\u001b[0m \u001b[0mtest\u001b[0m \u001b[0;32min\u001b[0m \u001b[0mself\u001b[0m\u001b[0;34m.\u001b[0m\u001b[0m_iter_indices\u001b[0m\u001b[0;34m(\u001b[0m\u001b[0mX\u001b[0m\u001b[0;34m,\u001b[0m \u001b[0my\u001b[0m\u001b[0;34m,\u001b[0m \u001b[0mgroups\u001b[0m\u001b[0;34m)\u001b[0m\u001b[0;34m:\u001b[0m\u001b[0;34m\u001b[0m\u001b[0m\n\u001b[1;32m   1197\u001b[0m             \u001b[0;32myield\u001b[0m \u001b[0mtrain\u001b[0m\u001b[0;34m,\u001b[0m \u001b[0mtest\u001b[0m\u001b[0;34m\u001b[0m\u001b[0m\n",
      "\u001b[0;32m/nix/store/mx5yhsydz49ynczpn816q4bbc30qz9yn-python3-3.5.4-env/lib/python3.5/site-packages/sklearn/utils/validation.py\u001b[0m in \u001b[0;36mindexable\u001b[0;34m(*iterables)\u001b[0m\n\u001b[1;32m    196\u001b[0m         \u001b[0;32melse\u001b[0m\u001b[0;34m:\u001b[0m\u001b[0;34m\u001b[0m\u001b[0m\n\u001b[1;32m    197\u001b[0m             \u001b[0mresult\u001b[0m\u001b[0;34m.\u001b[0m\u001b[0mappend\u001b[0m\u001b[0;34m(\u001b[0m\u001b[0mnp\u001b[0m\u001b[0;34m.\u001b[0m\u001b[0marray\u001b[0m\u001b[0;34m(\u001b[0m\u001b[0mX\u001b[0m\u001b[0;34m)\u001b[0m\u001b[0;34m)\u001b[0m\u001b[0;34m\u001b[0m\u001b[0m\n\u001b[0;32m--> 198\u001b[0;31m     \u001b[0mcheck_consistent_length\u001b[0m\u001b[0;34m(\u001b[0m\u001b[0;34m*\u001b[0m\u001b[0mresult\u001b[0m\u001b[0;34m)\u001b[0m\u001b[0;34m\u001b[0m\u001b[0m\n\u001b[0m\u001b[1;32m    199\u001b[0m     \u001b[0;32mreturn\u001b[0m \u001b[0mresult\u001b[0m\u001b[0;34m\u001b[0m\u001b[0m\n\u001b[1;32m    200\u001b[0m \u001b[0;34m\u001b[0m\u001b[0m\n",
      "\u001b[0;32m/nix/store/mx5yhsydz49ynczpn816q4bbc30qz9yn-python3-3.5.4-env/lib/python3.5/site-packages/sklearn/utils/validation.py\u001b[0m in \u001b[0;36mcheck_consistent_length\u001b[0;34m(*arrays)\u001b[0m\n\u001b[1;32m    171\u001b[0m     \u001b[0;32mif\u001b[0m \u001b[0mlen\u001b[0m\u001b[0;34m(\u001b[0m\u001b[0muniques\u001b[0m\u001b[0;34m)\u001b[0m \u001b[0;34m>\u001b[0m \u001b[0;36m1\u001b[0m\u001b[0;34m:\u001b[0m\u001b[0;34m\u001b[0m\u001b[0m\n\u001b[1;32m    172\u001b[0m         raise ValueError(\"Found input variables with inconsistent numbers of\"\n\u001b[0;32m--> 173\u001b[0;31m                          \" samples: %r\" % [int(l) for l in lengths])\n\u001b[0m\u001b[1;32m    174\u001b[0m \u001b[0;34m\u001b[0m\u001b[0m\n\u001b[1;32m    175\u001b[0m \u001b[0;34m\u001b[0m\u001b[0m\n",
      "\u001b[0;31mValueError\u001b[0m: Found input variables with inconsistent numbers of samples: [1, 7352]"
     ]
    }
   ],
   "source": [
    "splits = sklearn.model_selection.train_test_split(\n",
    "        [train_X,],\n",
    "        test_size=1 - 0.75,\n",
    "        random_state=123456,\n",
    "        stratify=train_y[:,np.newaxis])"
   ]
  },
  {
   "cell_type": "code",
   "execution_count": 86,
   "metadata": {},
   "outputs": [
    {
     "data": {
      "text/plain": [
       "(7352,)"
      ]
     },
     "execution_count": 86,
     "metadata": {},
     "output_type": "execute_result"
    }
   ],
   "source": [
    "train_y.shape"
   ]
  },
  {
   "cell_type": "code",
   "execution_count": 87,
   "metadata": {},
   "outputs": [
    {
     "data": {
      "text/plain": [
       "(7352, 945)"
      ]
     },
     "execution_count": 87,
     "metadata": {},
     "output_type": "execute_result"
    }
   ],
   "source": [
    "train_X.shape"
   ]
  },
  {
   "cell_type": "code",
   "execution_count": null,
   "metadata": {
    "collapsed": true
   },
   "outputs": [],
   "source": []
  }
 ],
 "metadata": {
  "kernelspec": {
   "display_name": "Python 3",
   "language": "python",
   "name": "python3"
  },
  "language_info": {
   "codemirror_mode": {
    "name": "ipython",
    "version": 3
   },
   "file_extension": ".py",
   "mimetype": "text/x-python",
   "name": "python",
   "nbconvert_exporter": "python",
   "pygments_lexer": "ipython3",
   "version": "3.5.4"
  }
 },
 "nbformat": 4,
 "nbformat_minor": 2
}
